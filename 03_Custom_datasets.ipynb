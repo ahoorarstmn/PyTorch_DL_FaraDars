{
  "nbformat": 4,
  "nbformat_minor": 0,
  "metadata": {
    "colab": {
      "name": "Custom_datasets.ipynb",
      "provenance": [],
      "authorship_tag": "ABX9TyP6x6ULMu6svk5kbL4/X7Fx",
      "include_colab_link": true
    },
    "kernelspec": {
      "name": "python3",
      "display_name": "Python 3"
    },
    "language_info": {
      "name": "python"
    }
  },
  "cells": [
    {
      "cell_type": "markdown",
      "metadata": {
        "id": "view-in-github",
        "colab_type": "text"
      },
      "source": [
        "<a href=\"https://colab.research.google.com/github/ArstmN/Pytorch_DL_FaraDars/blob/main/Custom_datasets.ipynb\" target=\"_parent\"><img src=\"https://colab.research.google.com/assets/colab-badge.svg\" alt=\"Open In Colab\"/></a>"
      ]
    },
    {
      "cell_type": "markdown",
      "source": [
        "# **Data Retrieval**"
      ],
      "metadata": {
        "id": "JVKLGg5QHL42"
      }
    },
    {
      "cell_type": "code",
      "source": [
        "import requests\n",
        "from pathlib import Path\n",
        "import zipfile\n",
        "\n",
        "data_path = Path.cwd()\n",
        "image_path = data_path / \"cats_dogs_images\"\n",
        "url = \"https://github.com/ArstmN/Pytorch_DL_FaraDars/raw/main/data/cats_dogs.zip\"\n",
        "\n",
        "if image_path.is_dir():\n",
        "    print(f\"{image_path} directory exist\")\n",
        "else:\n",
        "    print(f\"No {image_path} directory, making one...\")\n",
        "    image_path.mkdir(parents=True, exist_ok=True)\n",
        "\n",
        "    with open(data_path / \"cats_dogs.zip\", \"wb\") as f:\n",
        "        request = requests.get(url)\n",
        "        print(\"Downloading image data\")\n",
        "        f.write(request.content)\n",
        "\n",
        "    with zipfile.ZipFile(data_path / \"cats_dogs.zip\", \"r\") as zip_ref:\n",
        "        print(\"Extracting cats and dogs images...\")\n",
        "        zip_ref.extractall(image_path)\n"
      ],
      "metadata": {
        "id": "aw3ij74CL6Fx",
        "colab": {
          "base_uri": "https://localhost:8080/"
        },
        "outputId": "393ce07c-e8ba-4fb1-c2aa-ca0b1348d0d6"
      },
      "execution_count": 1,
      "outputs": [
        {
          "output_type": "stream",
          "name": "stdout",
          "text": [
            "No /content/cats_dogs_images directory, making one...\n",
            "Downloading image data\n",
            "Extracting cats and dogs images...\n"
          ]
        }
      ]
    },
    {
      "cell_type": "markdown",
      "source": [
        "# **Custom Dataset**"
      ],
      "metadata": {
        "id": "u85T_CfxJGOM"
      }
    },
    {
      "cell_type": "code",
      "source": [
        "import torch\n",
        "from torch.utils.data import Dataset, DataLoader\n",
        "import pandas as pd \n",
        "from pathlib import Path\n",
        "from skimage import io"
      ],
      "metadata": {
        "id": "lP81kEEYwq1e"
      },
      "execution_count": 4,
      "outputs": []
    },
    {
      "cell_type": "code",
      "source": [
        "class MyDataset(Dataset):\n",
        "    # __init__\n",
        "    def __init__(self, csv_file, image_dir, transform=None):\n",
        "        self.annotations = pd.read_csv(csv_file)\n",
        "        self.image_dir = image_dir\n",
        "        self.transform = transform\n",
        "\n",
        "    # __len__\n",
        "    def __len__(self):\n",
        "        return len(self.annotations)\n",
        "\n",
        "    # __getitem__\n",
        "    def __getitem__(self, index):\n",
        "        image_path = Path('.').joinpath(self.image_dir, self.annotations.iloc[index, 0])\n",
        "        image = io.imread(image_path)\n",
        "        label = self.annotations.iloc[index, 1]\n",
        "\n",
        "        if self.transform:\n",
        "            image = self.transform(image)\n",
        "        \n",
        "        return image, label"
      ],
      "metadata": {
        "id": "Oj9WHynxz_s1"
      },
      "execution_count": 14,
      "outputs": []
    },
    {
      "cell_type": "code",
      "source": [
        "train_data = MyDataset(csv_file='/content/cats_dogs_images/annotations.csv',\n",
        "                       image_dir='/content/cats_dogs_images/cats_dogs')"
      ],
      "metadata": {
        "id": "hYQFBYcJ4ENK"
      },
      "execution_count": 15,
      "outputs": []
    },
    {
      "cell_type": "code",
      "source": [
        "train_dataloader = DataLoader(train_data,\n",
        "                              batch_size=1,\n",
        "                              shuffle=True)"
      ],
      "metadata": {
        "id": "fLOXoPTC4bEI"
      },
      "execution_count": 16,
      "outputs": []
    },
    {
      "cell_type": "code",
      "source": [
        "train_feature, train_label = next(iter(train_dataloader))"
      ],
      "metadata": {
        "id": "9hZLfsAc4rVs"
      },
      "execution_count": 17,
      "outputs": []
    },
    {
      "cell_type": "code",
      "source": [
        "train_feature"
      ],
      "metadata": {
        "colab": {
          "base_uri": "https://localhost:8080/"
        },
        "id": "Ka4i9ZXc5PfB",
        "outputId": "70fc83e0-c736-49ae-ac71-e09ec6398e96"
      },
      "execution_count": 18,
      "outputs": [
        {
          "output_type": "execute_result",
          "data": {
            "text/plain": [
              "tensor([[[[ 91, 121,  67],\n",
              "          [ 92, 123,  66],\n",
              "          [ 93, 124,  67],\n",
              "          ...,\n",
              "          [ 43,  67,  54],\n",
              "          [ 42,  66,  53],\n",
              "          [ 41,  65,  52]],\n",
              "\n",
              "         [[ 91, 121,  67],\n",
              "          [ 92, 123,  66],\n",
              "          [ 93, 124,  67],\n",
              "          ...,\n",
              "          [ 43,  67,  54],\n",
              "          [ 42,  66,  53],\n",
              "          [ 41,  65,  52]],\n",
              "\n",
              "         [[ 91, 121,  67],\n",
              "          [ 92, 123,  66],\n",
              "          [ 93, 124,  67],\n",
              "          ...,\n",
              "          [ 44,  68,  55],\n",
              "          [ 43,  67,  54],\n",
              "          [ 42,  66,  53]],\n",
              "\n",
              "         ...,\n",
              "\n",
              "         [[ 90, 123,  78],\n",
              "          [ 90, 123,  76],\n",
              "          [ 88, 125,  74],\n",
              "          ...,\n",
              "          [192, 194, 145],\n",
              "          [182, 191, 138],\n",
              "          [172, 187, 130]],\n",
              "\n",
              "         [[ 93, 129,  81],\n",
              "          [ 94, 131,  80],\n",
              "          [ 94, 131,  79],\n",
              "          ...,\n",
              "          [197, 194, 149],\n",
              "          [187, 191, 141],\n",
              "          [178, 188, 135]],\n",
              "\n",
              "         [[ 99, 136,  85],\n",
              "          [ 99, 136,  85],\n",
              "          [ 99, 136,  84],\n",
              "          ...,\n",
              "          [199, 192, 150],\n",
              "          [190, 192, 145],\n",
              "          [183, 190, 139]]]], dtype=torch.uint8)"
            ]
          },
          "metadata": {},
          "execution_count": 18
        }
      ]
    },
    {
      "cell_type": "code",
      "source": [
        "train_label"
      ],
      "metadata": {
        "colab": {
          "base_uri": "https://localhost:8080/"
        },
        "id": "RBjSCwFn5R7w",
        "outputId": "7cfd3014-fdd3-4516-cd39-8a45a7c12ae6"
      },
      "execution_count": 19,
      "outputs": [
        {
          "output_type": "execute_result",
          "data": {
            "text/plain": [
              "tensor([1])"
            ]
          },
          "metadata": {},
          "execution_count": 19
        }
      ]
    },
    {
      "cell_type": "code",
      "source": [
        ""
      ],
      "metadata": {
        "id": "_FnWm8kB5V30"
      },
      "execution_count": null,
      "outputs": []
    }
  ]
}

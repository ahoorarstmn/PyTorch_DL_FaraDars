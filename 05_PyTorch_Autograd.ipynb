{
  "nbformat": 4,
  "nbformat_minor": 0,
  "metadata": {
    "colab": {
      "name": "PyTorch_Autograd.ipynb",
      "provenance": [],
      "toc_visible": true,
      "collapsed_sections": [],
      "authorship_tag": "ABX9TyP1BJJumkhiwcZKP0zJ+lDH",
      "include_colab_link": true
    },
    "kernelspec": {
      "name": "python3",
      "display_name": "Python 3"
    },
    "language_info": {
      "name": "python"
    }
  },
  "cells": [
    {
      "cell_type": "markdown",
      "metadata": {
        "id": "view-in-github",
        "colab_type": "text"
      },
      "source": [
        "<a href=\"https://colab.research.google.com/github/ArstmN/Pytorch_DL_FaraDars/blob/main/PyTorch_Autograd.ipynb\" target=\"_parent\"><img src=\"https://colab.research.google.com/assets/colab-badge.svg\" alt=\"Open In Colab\"/></a>"
      ]
    },
    {
      "cell_type": "markdown",
      "source": [
        "# **Autograd**"
      ],
      "metadata": {
        "id": "zdZzlBpZDzTA"
      }
    },
    {
      "cell_type": "markdown",
      "source": [
        "**Function:**\n",
        "\n",
        "$$y = a^3 + b ^ 2 $$\n",
        "\n",
        "**Partial Derivatives:**\n",
        "\n",
        "$$\\frac{∂ y}{\\partial a} = 3a^2 = 3\\times5^2 = 75$$\n",
        "\n",
        "$$\\frac{∂ y}{\\partial b} = 2b = 2\\times4 = 8$$"
      ],
      "metadata": {
        "id": "Xm_OJccIAIoa"
      }
    },
    {
      "cell_type": "code",
      "source": [
        "import torch"
      ],
      "metadata": {
        "id": "JUfdJhSVk1lv"
      },
      "execution_count": null,
      "outputs": []
    },
    {
      "cell_type": "code",
      "source": [
        "a = torch.tensor([5.], requires_grad=True)\n",
        "b = torch.tensor([4.], requires_grad=True)"
      ],
      "metadata": {
        "id": "_S3mcUj8jfk6"
      },
      "execution_count": null,
      "outputs": []
    },
    {
      "cell_type": "code",
      "source": [
        "y = a**3 + b**2"
      ],
      "metadata": {
        "id": "Iqd2NHywj2MO"
      },
      "execution_count": null,
      "outputs": []
    },
    {
      "cell_type": "code",
      "source": [
        "y"
      ],
      "metadata": {
        "colab": {
          "base_uri": "https://localhost:8080/"
        },
        "id": "gE2komQtj_NI",
        "outputId": "6fb36f83-ee81-4e1e-9cc7-b5661ea730a9"
      },
      "execution_count": null,
      "outputs": [
        {
          "output_type": "execute_result",
          "data": {
            "text/plain": [
              "tensor([141.], grad_fn=<AddBackward0>)"
            ]
          },
          "metadata": {},
          "execution_count": 5
        }
      ]
    },
    {
      "cell_type": "code",
      "source": [
        "print(a.grad, b.grad)"
      ],
      "metadata": {
        "colab": {
          "base_uri": "https://localhost:8080/"
        },
        "id": "hXbznIhxj_vr",
        "outputId": "ac90949b-aaab-499b-9167-3660c41e7fbc"
      },
      "execution_count": null,
      "outputs": [
        {
          "output_type": "stream",
          "name": "stdout",
          "text": [
            "None None\n"
          ]
        }
      ]
    },
    {
      "cell_type": "code",
      "source": [
        "y.backward()"
      ],
      "metadata": {
        "id": "sFstOndrkL84"
      },
      "execution_count": null,
      "outputs": []
    },
    {
      "cell_type": "code",
      "source": [
        "print(a.grad, b.grad)"
      ],
      "metadata": {
        "colab": {
          "base_uri": "https://localhost:8080/"
        },
        "id": "vcp1s5jBkUOY",
        "outputId": "dca839ec-0e76-440d-e20c-4850dada3f34"
      },
      "execution_count": null,
      "outputs": [
        {
          "output_type": "stream",
          "name": "stdout",
          "text": [
            "tensor([75.]) tensor([8.])\n"
          ]
        }
      ]
    },
    {
      "cell_type": "code",
      "source": [
        "w = torch.randn(10, 1, requires_grad=True)\n",
        "b = torch.randn(1, requires_grad=True)"
      ],
      "metadata": {
        "id": "-q8YH8FZkX-c"
      },
      "execution_count": null,
      "outputs": []
    },
    {
      "cell_type": "code",
      "source": [
        "w"
      ],
      "metadata": {
        "colab": {
          "base_uri": "https://localhost:8080/"
        },
        "id": "NH1Z8_fnk7av",
        "outputId": "69723c59-a51c-4628-d664-5d80f0c1cc39"
      },
      "execution_count": null,
      "outputs": [
        {
          "output_type": "execute_result",
          "data": {
            "text/plain": [
              "tensor([[-0.6327],\n",
              "        [-0.6490],\n",
              "        [-1.5569],\n",
              "        [ 2.1182],\n",
              "        [-0.5039],\n",
              "        [ 1.0245],\n",
              "        [ 0.6435],\n",
              "        [-0.6796],\n",
              "        [-0.3712],\n",
              "        [-0.6019]], requires_grad=True)"
            ]
          },
          "metadata": {},
          "execution_count": 12
        }
      ]
    },
    {
      "cell_type": "code",
      "source": [
        "b"
      ],
      "metadata": {
        "colab": {
          "base_uri": "https://localhost:8080/"
        },
        "id": "QlUENooSk8QM",
        "outputId": "80767860-f3f8-4c5a-ada7-f0c280b8dcd5"
      },
      "execution_count": null,
      "outputs": [
        {
          "output_type": "execute_result",
          "data": {
            "text/plain": [
              "tensor([-0.9226], requires_grad=True)"
            ]
          },
          "metadata": {},
          "execution_count": 13
        }
      ]
    },
    {
      "cell_type": "code",
      "source": [
        "x = torch.rand(1, 10)"
      ],
      "metadata": {
        "id": "EcwyjIeUk90-"
      },
      "execution_count": null,
      "outputs": []
    },
    {
      "cell_type": "code",
      "source": [
        "result = torch.matmul(x, w) + b"
      ],
      "metadata": {
        "id": "UivyBLpRlOHZ"
      },
      "execution_count": null,
      "outputs": []
    },
    {
      "cell_type": "code",
      "source": [
        "result"
      ],
      "metadata": {
        "colab": {
          "base_uri": "https://localhost:8080/"
        },
        "id": "KDtdBhiClTpp",
        "outputId": "f34df009-069c-400c-d6aa-5417102f6009"
      },
      "execution_count": null,
      "outputs": [
        {
          "output_type": "execute_result",
          "data": {
            "text/plain": [
              "tensor([[-0.8530]], grad_fn=<AddBackward0>)"
            ]
          },
          "metadata": {},
          "execution_count": 18
        }
      ]
    },
    {
      "cell_type": "code",
      "source": [
        "loss = 1 - result"
      ],
      "metadata": {
        "id": "PSqohXvGlcly"
      },
      "execution_count": null,
      "outputs": []
    },
    {
      "cell_type": "code",
      "source": [
        "loss.backward()"
      ],
      "metadata": {
        "id": "N0jBJ-h3ljKo"
      },
      "execution_count": null,
      "outputs": []
    },
    {
      "cell_type": "code",
      "source": [
        "w.grad"
      ],
      "metadata": {
        "colab": {
          "base_uri": "https://localhost:8080/"
        },
        "id": "lUVpDY6Flpr4",
        "outputId": "f42d0b51-c966-443c-e376-28f155b25455"
      },
      "execution_count": null,
      "outputs": [
        {
          "output_type": "execute_result",
          "data": {
            "text/plain": [
              "tensor([[-0.6109],\n",
              "        [-0.1966],\n",
              "        [-0.2507],\n",
              "        [-0.5022],\n",
              "        [-0.2765],\n",
              "        [-0.3159],\n",
              "        [-0.6473],\n",
              "        [-0.1267],\n",
              "        [-0.0820],\n",
              "        [-0.9535]])"
            ]
          },
          "metadata": {},
          "execution_count": 21
        }
      ]
    },
    {
      "cell_type": "code",
      "source": [
        "b.grad"
      ],
      "metadata": {
        "colab": {
          "base_uri": "https://localhost:8080/"
        },
        "id": "7Pi3PE2Rls_Y",
        "outputId": "6a59502f-2ca9-49cb-9ff4-4e247482a299"
      },
      "execution_count": null,
      "outputs": [
        {
          "output_type": "execute_result",
          "data": {
            "text/plain": [
              "tensor([-1.])"
            ]
          },
          "metadata": {},
          "execution_count": 22
        }
      ]
    },
    {
      "cell_type": "code",
      "source": [
        "with torch.no_grad():\n",
        "    w = w - 0.001 * w.grad.data"
      ],
      "metadata": {
        "id": "inc993galuNS"
      },
      "execution_count": null,
      "outputs": []
    },
    {
      "cell_type": "code",
      "source": [
        "w"
      ],
      "metadata": {
        "colab": {
          "base_uri": "https://localhost:8080/"
        },
        "id": "5K1zSzwCmahQ",
        "outputId": "b2d9e5a1-26a4-469f-8bc2-10deb3f05a15"
      },
      "execution_count": null,
      "outputs": [
        {
          "output_type": "execute_result",
          "data": {
            "text/plain": [
              "tensor([[-0.6321],\n",
              "        [-0.6488],\n",
              "        [-1.5566],\n",
              "        [ 2.1187],\n",
              "        [-0.5036],\n",
              "        [ 1.0249],\n",
              "        [ 0.6442],\n",
              "        [-0.6794],\n",
              "        [-0.3711],\n",
              "        [-0.6010]])"
            ]
          },
          "metadata": {},
          "execution_count": 24
        }
      ]
    },
    {
      "cell_type": "code",
      "source": [
        ""
      ],
      "metadata": {
        "id": "u-ByoeZimbx3"
      },
      "execution_count": null,
      "outputs": []
    }
  ]
}

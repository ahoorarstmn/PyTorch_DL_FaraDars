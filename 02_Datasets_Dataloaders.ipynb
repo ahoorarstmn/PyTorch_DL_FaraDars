{
  "cells": [
    {
      "cell_type": "markdown",
      "metadata": {
        "id": "view-in-github",
        "colab_type": "text"
      },
      "source": [
        "<a href=\"https://colab.research.google.com/github/ArstmN/Pytorch_DL_FaraDars/blob/main/Datasets_Dataloaders.ipynb\" target=\"_parent\"><img src=\"https://colab.research.google.com/assets/colab-badge.svg\" alt=\"Open In Colab\"/></a>"
      ]
    },
    {
      "cell_type": "markdown",
      "metadata": {
        "id": "dyortmrKAOft"
      },
      "source": [
        "# **Data Preparation with Dataset and DataLoader Modules**\n",
        "\n",
        "![data_preparation.drawio.png](data:image/png;base64,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)\n",
        "\n"
      ]
    },
    {
      "cell_type": "markdown",
      "metadata": {
        "id": "FS8kSV8_BfoE"
      },
      "source": [
        "## Loading datasets "
      ]
    },
    {
      "cell_type": "markdown",
      "metadata": {
        "id": "qydtGlUtLev8"
      },
      "source": [
        "- Torchvision Datasets: [https://pytorch.org/vision/stable/datasets.html](https://pytorch.org/vision/stable/datasets.html)\n",
        "\n",
        "- Torchtext Datasets: [https://pytorch.org/text/stable/datasets.html](https://pytorch.org/text/stable/datasets.html)\n",
        "\n",
        "- Torchaudio Datasets: [https://pytorch.org/audio/stable/index.html](https://pytorch.org/audio/stable/index.html)"
      ]
    },
    {
      "cell_type": "code",
      "execution_count": null,
      "metadata": {
        "id": "0mv62uOoPVkF"
      },
      "outputs": [],
      "source": [
        "from torchvision.datasets import FashionMNIST"
      ]
    },
    {
      "cell_type": "code",
      "execution_count": null,
      "metadata": {
        "colab": {
          "base_uri": "https://localhost:8080/",
          "height": 443,
          "referenced_widgets": [
            "90db6dc0eee84af9905439db4e523961",
            "32f7d3d91cf542268fb8297171d6bedf",
            "b0f9ecf546bd44b9ae6ffce8d718fd3c",
            "105437c76fdb4178ae0743f87b004a84",
            "4f208846a5e04b13834a2ab473b3c416",
            "e07f9af9b2844b8d970cbbfaae21c502",
            "0ecb39d1924240cba3cb9ae7441a253e",
            "0259ba43923b4b11979ffa4168dee886",
            "0c40f3d43ed74f67a46562285c3bcf61",
            "65b50393488d4991a98420ce75823957",
            "b7946873573e4227957854ed577b8ece",
            "f4b32f8c7ad1483d82c0919808ae9ad5",
            "4e06e4ea093b4efe8003a5cc107e296c",
            "d92b14d5f2534255841f96faa4e37ff7",
            "ab8ebe1ace7e47a0a3e4f9e8f4b2732c",
            "eda26a2df16a4508822d444d6c3bcbd9",
            "411ef496f2b7422eb47fc59f4c60b330",
            "6aff8d73267d434c8f31ef6575d6d7ce",
            "409f50e3244646ef9bdd8cf177642d00",
            "b68a925a000b4866a27e6d1c4a915f58",
            "c9618b2a473e4362911de690dcecbe69",
            "957d87cbe09c49adb0b7891172995cde",
            "55c8f0174eeb4d29a92811440a74874e",
            "64a0312e77ff41fd8781fa9fa639894a",
            "e6e737bf31784874bd0a2e2b16f812ca",
            "369ec2322690478e90bb61f97c602bdd",
            "a5a833e732f942af993ee828f96d9717",
            "91f36ea6b3bb45a28b53928beb7ff8f4",
            "6d21bbd49711482e9678effdae691293",
            "2d072ec794b84346972d27eb44f95428",
            "4c9a1ec8c7ca4e028b4c6aa9543ded4d",
            "88b2ba2b550d46848488440d21f08689",
            "170497a622764042b1027e450eaff588",
            "0c088fd152404df88fc5c861b867894d",
            "ff42e66924404ff88fed963c1d2d45ce",
            "c89bb0c190ba434bb66f8cd434920a5b",
            "ee98750c65974a36b57b5c4f56a68030",
            "975b1fda07dd46938a542cbfdb9ecc6c",
            "e7a72f3929544bb3a3e9f8944d89b5ae",
            "395d29737e4f42a09d2104b392357996",
            "b3e3e62d997d4a0b85542164c61832f8",
            "da7395940a014a2cbcd51da519673ecb",
            "852c178f97b04b40b75920edc93ae48f",
            "b0dc775f86204e72b61997ab3efe13b3"
          ]
        },
        "id": "SNn6NPyrTbw_",
        "outputId": "caee79f7-5583-4f8c-c128-563d779f6513"
      },
      "outputs": [
        {
          "output_type": "stream",
          "name": "stdout",
          "text": [
            "Downloading http://fashion-mnist.s3-website.eu-central-1.amazonaws.com/train-images-idx3-ubyte.gz\n",
            "Downloading http://fashion-mnist.s3-website.eu-central-1.amazonaws.com/train-images-idx3-ubyte.gz to ./train/FashionMNIST/raw/train-images-idx3-ubyte.gz\n"
          ]
        },
        {
          "output_type": "display_data",
          "data": {
            "text/plain": [
              "  0%|          | 0/26421880 [00:00<?, ?it/s]"
            ],
            "application/vnd.jupyter.widget-view+json": {
              "version_major": 2,
              "version_minor": 0,
              "model_id": "90db6dc0eee84af9905439db4e523961"
            }
          },
          "metadata": {}
        },
        {
          "output_type": "stream",
          "name": "stdout",
          "text": [
            "Extracting ./train/FashionMNIST/raw/train-images-idx3-ubyte.gz to ./train/FashionMNIST/raw\n",
            "\n",
            "Downloading http://fashion-mnist.s3-website.eu-central-1.amazonaws.com/train-labels-idx1-ubyte.gz\n",
            "Downloading http://fashion-mnist.s3-website.eu-central-1.amazonaws.com/train-labels-idx1-ubyte.gz to ./train/FashionMNIST/raw/train-labels-idx1-ubyte.gz\n"
          ]
        },
        {
          "output_type": "display_data",
          "data": {
            "text/plain": [
              "  0%|          | 0/29515 [00:00<?, ?it/s]"
            ],
            "application/vnd.jupyter.widget-view+json": {
              "version_major": 2,
              "version_minor": 0,
              "model_id": "f4b32f8c7ad1483d82c0919808ae9ad5"
            }
          },
          "metadata": {}
        },
        {
          "output_type": "stream",
          "name": "stdout",
          "text": [
            "Extracting ./train/FashionMNIST/raw/train-labels-idx1-ubyte.gz to ./train/FashionMNIST/raw\n",
            "\n",
            "Downloading http://fashion-mnist.s3-website.eu-central-1.amazonaws.com/t10k-images-idx3-ubyte.gz\n",
            "Downloading http://fashion-mnist.s3-website.eu-central-1.amazonaws.com/t10k-images-idx3-ubyte.gz to ./train/FashionMNIST/raw/t10k-images-idx3-ubyte.gz\n"
          ]
        },
        {
          "output_type": "display_data",
          "data": {
            "text/plain": [
              "  0%|          | 0/4422102 [00:00<?, ?it/s]"
            ],
            "application/vnd.jupyter.widget-view+json": {
              "version_major": 2,
              "version_minor": 0,
              "model_id": "55c8f0174eeb4d29a92811440a74874e"
            }
          },
          "metadata": {}
        },
        {
          "output_type": "stream",
          "name": "stdout",
          "text": [
            "Extracting ./train/FashionMNIST/raw/t10k-images-idx3-ubyte.gz to ./train/FashionMNIST/raw\n",
            "\n",
            "Downloading http://fashion-mnist.s3-website.eu-central-1.amazonaws.com/t10k-labels-idx1-ubyte.gz\n",
            "Downloading http://fashion-mnist.s3-website.eu-central-1.amazonaws.com/t10k-labels-idx1-ubyte.gz to ./train/FashionMNIST/raw/t10k-labels-idx1-ubyte.gz\n"
          ]
        },
        {
          "output_type": "display_data",
          "data": {
            "text/plain": [
              "  0%|          | 0/5148 [00:00<?, ?it/s]"
            ],
            "application/vnd.jupyter.widget-view+json": {
              "version_major": 2,
              "version_minor": 0,
              "model_id": "0c088fd152404df88fc5c861b867894d"
            }
          },
          "metadata": {}
        },
        {
          "output_type": "stream",
          "name": "stdout",
          "text": [
            "Extracting ./train/FashionMNIST/raw/t10k-labels-idx1-ubyte.gz to ./train/FashionMNIST/raw\n",
            "\n"
          ]
        }
      ],
      "source": [
        "train_data = FashionMNIST(\n",
        "    root='./train',\n",
        "    train=True,\n",
        "    download=True\n",
        ")"
      ]
    },
    {
      "cell_type": "code",
      "execution_count": null,
      "metadata": {
        "colab": {
          "base_uri": "https://localhost:8080/"
        },
        "id": "WawV62OvToNi",
        "outputId": "5cf6f4b5-ed97-425c-8c65-908b3d43d3d7"
      },
      "outputs": [
        {
          "output_type": "stream",
          "name": "stdout",
          "text": [
            "Dataset FashionMNIST\n",
            "    Number of datapoints: 60000\n",
            "    Root location: ./train\n",
            "    Split: Train\n"
          ]
        }
      ],
      "source": [
        "print(train_data)"
      ]
    },
    {
      "cell_type": "code",
      "execution_count": null,
      "metadata": {
        "colab": {
          "base_uri": "https://localhost:8080/"
        },
        "id": "cZzrXChjTwpl",
        "outputId": "7f6d0647-18f3-43bd-dfc1-44dfb9a249ea"
      },
      "outputs": [
        {
          "output_type": "stream",
          "name": "stdout",
          "text": [
            "torch.Size([60000, 28, 28])\n"
          ]
        }
      ],
      "source": [
        "print(train_data.data.shape)"
      ]
    },
    {
      "cell_type": "code",
      "execution_count": null,
      "metadata": {
        "colab": {
          "base_uri": "https://localhost:8080/"
        },
        "id": "OtgPpIjAT3A1",
        "outputId": "ba3866e1-f940-4473-b828-b704d1605bf1"
      },
      "outputs": [
        {
          "output_type": "stream",
          "name": "stdout",
          "text": [
            "tensor([9, 0, 0,  ..., 3, 0, 5])\n"
          ]
        }
      ],
      "source": [
        "print(train_data.targets)"
      ]
    },
    {
      "cell_type": "code",
      "execution_count": null,
      "metadata": {
        "colab": {
          "base_uri": "https://localhost:8080/"
        },
        "id": "F8-itkpZUARc",
        "outputId": "5745497a-cfeb-498b-9e6e-aeef88f49000"
      },
      "outputs": [
        {
          "output_type": "stream",
          "name": "stdout",
          "text": [
            "['T-shirt/top', 'Trouser', 'Pullover', 'Dress', 'Coat', 'Sandal', 'Shirt', 'Sneaker', 'Bag', 'Ankle boot']\n"
          ]
        }
      ],
      "source": [
        "print(train_data.classes)"
      ]
    },
    {
      "cell_type": "code",
      "execution_count": null,
      "metadata": {
        "colab": {
          "base_uri": "https://localhost:8080/"
        },
        "id": "BdcR6sBYUHo8",
        "outputId": "346e37e9-db6b-489f-dab4-f2050e7ab22e"
      },
      "outputs": [
        {
          "output_type": "stream",
          "name": "stdout",
          "text": [
            "{'T-shirt/top': 0, 'Trouser': 1, 'Pullover': 2, 'Dress': 3, 'Coat': 4, 'Sandal': 5, 'Shirt': 6, 'Sneaker': 7, 'Bag': 8, 'Ankle boot': 9}\n"
          ]
        }
      ],
      "source": [
        "print(train_data.class_to_idx)"
      ]
    },
    {
      "cell_type": "code",
      "execution_count": null,
      "metadata": {
        "colab": {
          "base_uri": "https://localhost:8080/"
        },
        "id": "gOxfOFCBUZjJ",
        "outputId": "3721826c-da57-4208-ec54-3a1980583a79"
      },
      "outputs": [
        {
          "output_type": "stream",
          "name": "stdout",
          "text": [
            "<class 'tuple'>\n"
          ]
        }
      ],
      "source": [
        "print(type(train_data[0]))"
      ]
    },
    {
      "cell_type": "code",
      "execution_count": null,
      "metadata": {
        "colab": {
          "base_uri": "https://localhost:8080/"
        },
        "id": "KLj0MS9BUhxo",
        "outputId": "b76f6710-04db-4ccf-bc36-374054c43673"
      },
      "outputs": [
        {
          "output_type": "stream",
          "name": "stdout",
          "text": [
            "2\n"
          ]
        }
      ],
      "source": [
        "print(len(train_data[0]))"
      ]
    },
    {
      "cell_type": "code",
      "execution_count": null,
      "metadata": {
        "id": "OD5xIwuZUtZG"
      },
      "outputs": [],
      "source": [
        "data, label = train_data[0]"
      ]
    },
    {
      "cell_type": "code",
      "execution_count": null,
      "metadata": {
        "colab": {
          "base_uri": "https://localhost:8080/",
          "height": 45
        },
        "id": "nHtQTWw_U3M_",
        "outputId": "f1341e2d-85f5-48f2-853e-c55c0857c921"
      },
      "outputs": [
        {
          "output_type": "execute_result",
          "data": {
            "text/plain": [
              "<PIL.Image.Image image mode=L size=28x28 at 0x7F3410A297D0>"
            ],
            "image/png": "[encoded data removed]"
          },
          "metadata": {},
          "execution_count": 11
        }
      ],
      "source": [
        "data"
      ]
    },
    {
      "cell_type": "code",
      "execution_count": null,
      "metadata": {
        "colab": {
          "base_uri": "https://localhost:8080/"
        },
        "id": "owYmvuPZVGY3",
        "outputId": "d7c92266-8a10-4817-d1a5-f7ff9d44c101"
      },
      "outputs": [
        {
          "output_type": "execute_result",
          "data": {
            "text/plain": [
              "9"
            ]
          },
          "metadata": {},
          "execution_count": 12
        }
      ],
      "source": [
        "label"
      ]
    },
    {
      "cell_type": "code",
      "execution_count": null,
      "metadata": {
        "colab": {
          "base_uri": "https://localhost:8080/"
        },
        "id": "vpv2VVsiVIAw",
        "outputId": "33cdf1f6-9241-4dce-88a7-06f5aaa1e66f"
      },
      "outputs": [
        {
          "output_type": "stream",
          "name": "stdout",
          "text": [
            "<class 'PIL.Image.Image'>\n"
          ]
        }
      ],
      "source": [
        "print(type(data))"
      ]
    },
    {
      "cell_type": "code",
      "execution_count": null,
      "metadata": {
        "colab": {
          "base_uri": "https://localhost:8080/",
          "height": 443,
          "referenced_widgets": [
            "b0f5e0b7b82f43c4a6eea136e9f14e6b",
            "3d4fc3155ee24965af7a8f67364dc3cc",
            "e15017adc1fe4a49a07d89acdcf51003",
            "b9c2e0ea6b4a4f7fb83ad51d8bce8b67",
            "2ff7017735da49f396f8b1e16edf1807",
            "1899868d03104800ac7805146f66734d",
            "408ae00a4dc741768a1b16f704a31191",
            "64fa2195d4594fa2a16e1afa6c968003",
            "a14e232216484d8e9d8ee43fd07a8faf",
            "e1f943ed3de743a19e6229dd0ba2bfd7",
            "5b7f47d9337a4597a704ab336b836927",
            "18eb8f3139944c84b69d175fae04b7c9",
            "99e6b2fbf8f7417586db05cb1aa3a6b4",
            "803838a995d24fe88d55f26c1f9d7769",
            "9505c5b3ac9d4600bba43d0e5d808912",
            "802c7d845be54356b8bbc6bdfc45d06e",
            "c7cd5770c82e4b64919a39c7183a04f4",
            "7b6f2b6e918c4fb4bb08f4b853b96a08",
            "f9a2e70b5e5d49ca9fb352de26cbd413",
            "3384e9bb57b5489ea872536958384e77",
            "c355d0b2158447908dc19530a456b73b",
            "16f9d8ed09ca47508b44b39265202000",
            "111eeb4e41594a82b274393449d2ff7d",
            "a1a683826816460d8a55ae4d161c53b8",
            "2e50335ff5f542428fcfbd78b6d353df",
            "6cd062b2db2549a490ede49f2c1cc047",
            "e6e96699b6ff48b1aadefabc781ad231",
            "9d4ded038b174fdcaf706c22f9356a66",
            "5c7bf5766f6f40f6849923e9ab411027",
            "f676ef666b2b493a9124c31d4b7f1970",
            "93e2628688f244a7acd0236d612f100b",
            "ba36050c7aae463fa57f3d15e8b9c739",
            "2d061ef76b974d04bee2cbc93ef087cf",
            "c5b2782912ba40149330063c4a888aaa",
            "5af63263a076407fa8e18ea7b03935cf",
            "c128bb1096fa46eeb72f604c48c6023a",
            "535d7962d5174b12a83630778c7e9fdc",
            "57377c64120a4f4c895522bde373f5b6",
            "775cdc004c29495bb897724c3009a5c4",
            "0278fb6dd1cb45b2b52a2682894b19d3",
            "7287418222484f248fd38c628d21692d",
            "7b9fdb4d1d744477893a17c0b89a68cb",
            "aa6c8d9f40ba4e8bb7c3621038a15ad4",
            "9d2e68fb12c94994955611ae9aad2762"
          ]
        },
        "id": "KkiuzGI4Vnnf",
        "outputId": "048ce7fb-b301-4816-b5bb-2290deb1c1fd"
      },
      "outputs": [
        {
          "output_type": "stream",
          "name": "stdout",
          "text": [
            "Downloading http://fashion-mnist.s3-website.eu-central-1.amazonaws.com/train-images-idx3-ubyte.gz\n",
            "Downloading http://fashion-mnist.s3-website.eu-central-1.amazonaws.com/train-images-idx3-ubyte.gz to data/FashionMNIST/raw/train-images-idx3-ubyte.gz\n"
          ]
        },
        {
          "output_type": "display_data",
          "data": {
            "text/plain": [
              "  0%|          | 0/26421880 [00:00<?, ?it/s]"
            ],
            "application/vnd.jupyter.widget-view+json": {
              "version_major": 2,
              "version_minor": 0,
              "model_id": "b0f5e0b7b82f43c4a6eea136e9f14e6b"
            }
          },
          "metadata": {}
        },
        {
          "output_type": "stream",
          "name": "stdout",
          "text": [
            "Extracting data/FashionMNIST/raw/train-images-idx3-ubyte.gz to data/FashionMNIST/raw\n",
            "\n",
            "Downloading http://fashion-mnist.s3-website.eu-central-1.amazonaws.com/train-labels-idx1-ubyte.gz\n",
            "Downloading http://fashion-mnist.s3-website.eu-central-1.amazonaws.com/train-labels-idx1-ubyte.gz to data/FashionMNIST/raw/train-labels-idx1-ubyte.gz\n"
          ]
        },
        {
          "output_type": "display_data",
          "data": {
            "text/plain": [
              "  0%|          | 0/29515 [00:00<?, ?it/s]"
            ],
            "application/vnd.jupyter.widget-view+json": {
              "version_major": 2,
              "version_minor": 0,
              "model_id": "18eb8f3139944c84b69d175fae04b7c9"
            }
          },
          "metadata": {}
        },
        {
          "output_type": "stream",
          "name": "stdout",
          "text": [
            "Extracting data/FashionMNIST/raw/train-labels-idx1-ubyte.gz to data/FashionMNIST/raw\n",
            "\n",
            "Downloading http://fashion-mnist.s3-website.eu-central-1.amazonaws.com/t10k-images-idx3-ubyte.gz\n",
            "Downloading http://fashion-mnist.s3-website.eu-central-1.amazonaws.com/t10k-images-idx3-ubyte.gz to data/FashionMNIST/raw/t10k-images-idx3-ubyte.gz\n"
          ]
        },
        {
          "output_type": "display_data",
          "data": {
            "text/plain": [
              "  0%|          | 0/4422102 [00:00<?, ?it/s]"
            ],
            "application/vnd.jupyter.widget-view+json": {
              "version_major": 2,
              "version_minor": 0,
              "model_id": "111eeb4e41594a82b274393449d2ff7d"
            }
          },
          "metadata": {}
        },
        {
          "output_type": "stream",
          "name": "stdout",
          "text": [
            "Extracting data/FashionMNIST/raw/t10k-images-idx3-ubyte.gz to data/FashionMNIST/raw\n",
            "\n",
            "Downloading http://fashion-mnist.s3-website.eu-central-1.amazonaws.com/t10k-labels-idx1-ubyte.gz\n",
            "Downloading http://fashion-mnist.s3-website.eu-central-1.amazonaws.com/t10k-labels-idx1-ubyte.gz to data/FashionMNIST/raw/t10k-labels-idx1-ubyte.gz\n"
          ]
        },
        {
          "output_type": "display_data",
          "data": {
            "text/plain": [
              "  0%|          | 0/5148 [00:00<?, ?it/s]"
            ],
            "application/vnd.jupyter.widget-view+json": {
              "version_major": 2,
              "version_minor": 0,
              "model_id": "c5b2782912ba40149330063c4a888aaa"
            }
          },
          "metadata": {}
        },
        {
          "output_type": "stream",
          "name": "stdout",
          "text": [
            "Extracting data/FashionMNIST/raw/t10k-labels-idx1-ubyte.gz to data/FashionMNIST/raw\n",
            "\n"
          ]
        }
      ],
      "source": [
        "import torch\n",
        "from torchvision import datasets\n",
        "import matplotlib.pyplot as plt\n",
        "from torchvision.transforms import ToTensor\n",
        "\n",
        "train_data = datasets.FashionMNIST(\n",
        "    root='data',\n",
        "    train=True,\n",
        "    download=True, \n",
        "    transform=ToTensor()\n",
        ")\n",
        "\n",
        "test_data = datasets.FashionMNIST(\n",
        "    root='data',\n",
        "    train=False,\n",
        "    download=True,\n",
        "    transform=ToTensor()\n",
        ")"
      ]
    },
    {
      "cell_type": "code",
      "execution_count": null,
      "metadata": {
        "colab": {
          "base_uri": "https://localhost:8080/"
        },
        "id": "94MLmrCxXHYG",
        "outputId": "4c48f547-e81c-4cad-c2b5-674db5b180b8"
      },
      "outputs": [
        {
          "output_type": "execute_result",
          "data": {
            "text/plain": [
              "Dataset FashionMNIST\n",
              "    Number of datapoints: 60000\n",
              "    Root location: data\n",
              "    Split: Train\n",
              "    StandardTransform\n",
              "Transform: ToTensor()"
            ]
          },
          "metadata": {},
          "execution_count": 15
        }
      ],
      "source": [
        "train_data"
      ]
    },
    {
      "cell_type": "code",
      "execution_count": null,
      "metadata": {
        "colab": {
          "base_uri": "https://localhost:8080/"
        },
        "id": "sxjb2e88XKMe",
        "outputId": "dd060c85-e5bc-4e78-add8-7a340c1872b1"
      },
      "outputs": [
        {
          "output_type": "execute_result",
          "data": {
            "text/plain": [
              "Dataset FashionMNIST\n",
              "    Number of datapoints: 10000\n",
              "    Root location: data\n",
              "    Split: Test\n",
              "    StandardTransform\n",
              "Transform: ToTensor()"
            ]
          },
          "metadata": {},
          "execution_count": 16
        }
      ],
      "source": [
        "test_data"
      ]
    },
    {
      "cell_type": "markdown",
      "metadata": {
        "id": "RZfZjY9sv1sW"
      },
      "source": [
        "## Visualizing FashionMNIST"
      ]
    },
    {
      "cell_type": "code",
      "execution_count": null,
      "metadata": {
        "colab": {
          "base_uri": "https://localhost:8080/",
          "height": 427
        },
        "id": "x8l-0qcdudvg",
        "outputId": "7a5312f0-32f9-43ac-c3a6-74f5862e7f81"
      },
      "outputs": [
        {
          "output_type": "display_data",
          "data": {
            "text/plain": [
              "<Figure size 504x504 with 9 Axes>"
            ],
            "image/png": "[encoded data removed]"
          },
          "metadata": {
            "needs_background": "light"
          }
        }
      ],
      "source": [
        "labels_map = {\n",
        "    0: \"T-Shirt\",\n",
        "    1: \"Trouser\",\n",
        "    2: \"Pullover\",\n",
        "    3: \"Dress\",\n",
        "    4: \"Coat\",\n",
        "    5: \"Sandal\",\n",
        "    6: \"Shirt\",\n",
        "    7: \"Sneaker\",\n",
        "    8: \"Bag\",\n",
        "    9: \"Ankle Boot\",\n",
        "}\n",
        "figure = plt.figure(figsize=(7, 7))\n",
        "\n",
        "cols, rows = 3, 3\n",
        "\n",
        "for i in range(1, cols * rows + 1):\n",
        "    sample_idx = torch.randint(len(train_data), size=(1,)).item()\n",
        "    img, label = train_data[sample_idx]\n",
        "    figure.add_subplot(rows, cols, i)\n",
        "    plt.title(labels_map[label])\n",
        "    plt.axis(\"off\")\n",
        "    plt.imshow(img.squeeze(), cmap='binary')\n",
        "plt.show()"
      ]
    },
    {
      "cell_type": "markdown",
      "metadata": {
        "id": "xaOhlrnDBxtI"
      },
      "source": [
        "## DataLoader"
      ]
    },
    {
      "cell_type": "code",
      "execution_count": null,
      "metadata": {
        "id": "g7yl2x6BLrvZ"
      },
      "outputs": [],
      "source": [
        "from torch.utils.data import DataLoader\n",
        "\n",
        "train_dataloader = DataLoader(train_data, batch_size=32, shuffle=True)\n",
        "\n",
        "test_dataloader = DataLoader(test_data, batch_size=32, shuffle=True)"
      ]
    },
    {
      "cell_type": "code",
      "execution_count": null,
      "metadata": {
        "id": "RMa4RnBhCyR9"
      },
      "outputs": [],
      "source": [
        "train_features, train_labels = next(iter(train_dataloader))"
      ]
    },
    {
      "cell_type": "code",
      "execution_count": null,
      "metadata": {
        "colab": {
          "base_uri": "https://localhost:8080/"
        },
        "id": "CCeTGHQwDQfG",
        "outputId": "ee9a1f18-f529-43ea-812e-319efb9eec2f"
      },
      "outputs": [
        {
          "output_type": "stream",
          "name": "stdout",
          "text": [
            "Features batch size: torch.Size([32, 1, 28, 28])\n",
            "Labels shape: torch.Size([32])\n"
          ]
        }
      ],
      "source": [
        "print(f\"Features batch size: {train_features.size()}\")\n",
        "print(f\"Labels shape: {train_labels.size()}\")"
      ]
    },
    {
      "cell_type": "code",
      "execution_count": null,
      "metadata": {
        "id": "sJIHo9SlD-LA"
      },
      "outputs": [],
      "source": [
        "image = train_features[10].squeeze()\n",
        "plt.imshow(image, cmap='gray')\n",
        "print(f\"Label: {train_labels[10]}\")"
      ]
    },
    {
      "cell_type": "markdown",
      "metadata": {
        "id": "4LbxdKUpLkg2"
      },
      "source": [
        "## Transforms"
      ]
    },
    {
      "cell_type": "code",
      "source": [
        "from torchvision.datasets import CIFAR10\n",
        "from torchvision import transforms"
      ],
      "metadata": {
        "id": "NsgEtzUw92Xo"
      },
      "execution_count": null,
      "outputs": []
    },
    {
      "cell_type": "code",
      "source": [
        "train_trans = transforms.Compose([transforms.RandomCrop(32, padding=4),\n",
        "                                  transforms.RandomHorizontalFlip()])\n",
        "\n",
        "cifar_train = CIFAR10(\n",
        "    root=\"./cifar_train\",\n",
        "    train=True,\n",
        "    download=True,\n",
        "    transform=train_trans\n",
        ")"
      ],
      "metadata": {
        "colab": {
          "base_uri": "https://localhost:8080/"
        },
        "id": "vQQLeuJx_dh9",
        "outputId": "e3012401-84f6-4a79-c56a-b868cea12754"
      },
      "execution_count": null,
      "outputs": [
        {
          "output_type": "stream",
          "name": "stdout",
          "text": [
            "Files already downloaded and verified\n"
          ]
        }
      ]
    },
    {
      "cell_type": "code",
      "source": [
        "cifar_train"
      ],
      "metadata": {
        "colab": {
          "base_uri": "https://localhost:8080/"
        },
        "id": "qOIGKSMb_pZ1",
        "outputId": "9a1b99fd-8057-4270-e0d4-d3feb4181295"
      },
      "execution_count": null,
      "outputs": [
        {
          "output_type": "execute_result",
          "data": {
            "text/plain": [
              "Dataset CIFAR10\n",
              "    Number of datapoints: 50000\n",
              "    Root location: ./cifar_train\n",
              "    Split: Train"
            ]
          },
          "metadata": {},
          "execution_count": 24
        }
      ]
    },
    {
      "cell_type": "code",
      "source": [
        "cifar_train[0][0]"
      ],
      "metadata": {
        "colab": {
          "base_uri": "https://localhost:8080/",
          "height": 49
        },
        "id": "7oZjVKBG_2yC",
        "outputId": "17989ee6-3dae-4a12-dbaf-0eeabcd97929"
      },
      "execution_count": null,
      "outputs": [
        {
          "output_type": "execute_result",
          "data": {
            "text/plain": [
              "<PIL.Image.Image image mode=RGB size=32x32 at 0x7FBD79692AD0>"
            ],
            "image/png": "[encoded data removed]"
          },
          "metadata": {},
          "execution_count": 25
        }
      ]
    },
    {
      "cell_type": "code",
      "source": [
        "data, label = cifar_train[0]"
      ],
      "metadata": {
        "id": "ItDOW4wLACLv"
      },
      "execution_count": null,
      "outputs": []
    },
    {
      "cell_type": "code",
      "source": [
        "data"
      ],
      "metadata": {
        "colab": {
          "base_uri": "https://localhost:8080/",
          "height": 49
        },
        "id": "gw3tHCdUAMM4",
        "outputId": "52f3faf9-80bf-4515-a96b-312de76bfbf9"
      },
      "execution_count": null,
      "outputs": [
        {
          "output_type": "execute_result",
          "data": {
            "text/plain": [
              "<PIL.Image.Image image mode=RGB size=32x32 at 0x7FBD79721CD0>"
            ],
            "image/png": "[encoded data removed]"
          },
          "metadata": {},
          "execution_count": 27
        }
      ]
    },
    {
      "cell_type": "code",
      "source": [
        "label"
      ],
      "metadata": {
        "colab": {
          "base_uri": "https://localhost:8080/"
        },
        "id": "aBBsrR0LANcZ",
        "outputId": "763d665b-6e4b-4ce6-a438-b40ad44bd8b9"
      },
      "execution_count": null,
      "outputs": [
        {
          "output_type": "execute_result",
          "data": {
            "text/plain": [
              "6"
            ]
          },
          "metadata": {},
          "execution_count": 28
        }
      ]
    },
    {
      "cell_type": "code",
      "source": [
        "cifar_train.class_to_idx"
      ],
      "metadata": {
        "colab": {
          "base_uri": "https://localhost:8080/"
        },
        "id": "-_IbthE1APWc",
        "outputId": "ce17a332-1f43-4749-975a-055d4ab0d409"
      },
      "execution_count": null,
      "outputs": [
        {
          "output_type": "execute_result",
          "data": {
            "text/plain": [
              "{'airplane': 0,\n",
              " 'automobile': 1,\n",
              " 'bird': 2,\n",
              " 'cat': 3,\n",
              " 'deer': 4,\n",
              " 'dog': 5,\n",
              " 'frog': 6,\n",
              " 'horse': 7,\n",
              " 'ship': 8,\n",
              " 'truck': 9}"
            ]
          },
          "metadata": {},
          "execution_count": 29
        }
      ]
    },
    {
      "cell_type": "code",
      "source": [
        "def visualize(train_data, labels_map):\n",
        "    figure = plt.figure(figsize=(7, 7))\n",
        "    cols, rows = 3, 3\n",
        "    for i in range(1, cols * rows + 1):\n",
        "        sample_idx = torch.randint(len(train_data), size=(1,)).item()\n",
        "        img, label = train_data[sample_idx]\n",
        "        figure.add_subplot(rows, cols, i)\n",
        "        plt.title(labels_map[label])\n",
        "        plt.axis(\"off\")\n",
        "        plt.imshow(img, cmap='binary')\n",
        "    plt.tight_layout()"
      ],
      "metadata": {
        "id": "XxCNI8z3AVa_"
      },
      "execution_count": null,
      "outputs": []
    },
    {
      "cell_type": "code",
      "source": [
        "labels = {\n",
        "        0: \"airplane\",\n",
        "        1: \"automobile\",\n",
        "        2: \"bird\",\n",
        "        3: \"cat\",\n",
        "        4: \"deer\",\n",
        "        5: \"dog\",\n",
        "        6: \"frog\",\n",
        "        7: \"horse\",\n",
        "        8: \"ship\",\n",
        "        9: \"truck\",\n",
        "    }"
      ],
      "metadata": {
        "id": "V-Kf1BwrBuz4"
      },
      "execution_count": null,
      "outputs": []
    },
    {
      "cell_type": "code",
      "source": [
        "visualize(cifar_train, labels)"
      ],
      "metadata": {
        "colab": {
          "base_uri": "https://localhost:8080/",
          "height": 513
        },
        "id": "WH6fOthRBzCT",
        "outputId": "745158fb-2612-4ff9-e300-5c2ee9e299fa"
      },
      "execution_count": null,
      "outputs": [
        {
          "output_type": "display_data",
          "data": {
            "text/plain": [
              "<Figure size 504x504 with 9 Axes>"
            ],
            "image/png": "[encoded data removed]"
          },
          "metadata": {
            "needs_background": "light"
          }
        }
      ]
    },
    {
      "cell_type": "code",
      "source": [
        ""
      ],
      "metadata": {
        "id": "r7WEQ3OgB36s"
      },
      "execution_count": null,
      "outputs": []
    }
  ],
  "metadata": {
    "colab": {
      "collapsed_sections": [],
      "name": "Datasets_Dataloaders.ipynb",
      "toc_visible": true,
      "provenance": [],
      "authorship_tag": "ABX9TyOcLBgoC7CD06zR3WuaiWx8",
      "include_colab_link": true
    },
    "kernelspec": {
      "display_name": "Python 3",
      "name": "python3"
    },
    "language_info": {
      "name": "python"
    },
    "widgets": {
      "application/vnd.jupyter.widget-state+json": {
        "90db6dc0eee84af9905439db4e523961": {
          "model_module": "@jupyter-widgets/controls",
          "model_name": "HBoxModel",
          "model_module_version": "1.5.0",
          "state": {
            "_dom_classes": [],
            "_model_module": "@jupyter-widgets/controls",
            "_model_module_version": "1.5.0",
            "_model_name": "HBoxModel",
            "_view_count": null,
            "_view_module": "@jupyter-widgets/controls",
            "_view_module_version": "1.5.0",
            "_view_name": "HBoxView",
            "box_style": "",
            "children": [
              "IPY_MODEL_32f7d3d91cf542268fb8297171d6bedf",
              "IPY_MODEL_b0f9ecf546bd44b9ae6ffce8d718fd3c",
              "IPY_MODEL_105437c76fdb4178ae0743f87b004a84"
            ],
            "layout": "IPY_MODEL_4f208846a5e04b13834a2ab473b3c416"
          }
        },
        "32f7d3d91cf542268fb8297171d6bedf": {
          "model_module": "@jupyter-widgets/controls",
          "model_name": "HTMLModel",
          "model_module_version": "1.5.0",
          "state": {
            "_dom_classes": [],
            "_model_module": "@jupyter-widgets/controls",
            "_model_module_version": "1.5.0",
            "_model_name": "HTMLModel",
            "_view_count": null,
            "_view_module": "@jupyter-widgets/controls",
            "_view_module_version": "1.5.0",
            "_view_name": "HTMLView",
            "description": "",
            "description_tooltip": null,
            "layout": "IPY_MODEL_e07f9af9b2844b8d970cbbfaae21c502",
            "placeholder": "​",
            "style": "IPY_MODEL_0ecb39d1924240cba3cb9ae7441a253e",
            "value": ""
          }
        },
        "b0f9ecf546bd44b9ae6ffce8d718fd3c": {
          "model_module": "@jupyter-widgets/controls",
          "model_name": "FloatProgressModel",
          "model_module_version": "1.5.0",
          "state": {
            "_dom_classes": [],
            "_model_module": "@jupyter-widgets/controls",
            "_model_module_version": "1.5.0",
            "_model_name": "FloatProgressModel",
            "_view_count": null,
            "_view_module": "@jupyter-widgets/controls",
            "_view_module_version": "1.5.0",
            "_view_name": "ProgressView",
            "bar_style": "success",
            "description": "",
            "description_tooltip": null,
            "layout": "IPY_MODEL_0259ba43923b4b11979ffa4168dee886",
            "max": 26421880,
            "min": 0,
            "orientation": "horizontal",
            "style": "IPY_MODEL_0c40f3d43ed74f67a46562285c3bcf61",
            "value": 26421880
          }
        },
        "105437c76fdb4178ae0743f87b004a84": {
          "model_module": "@jupyter-widgets/controls",
          "model_name": "HTMLModel",
          "model_module_version": "1.5.0",
          "state": {
            "_dom_classes": [],
            "_model_module": "@jupyter-widgets/controls",
            "_model_module_version": "1.5.0",
            "_model_name": "HTMLModel",
            "_view_count": null,
            "_view_module": "@jupyter-widgets/controls",
            "_view_module_version": "1.5.0",
            "_view_name": "HTMLView",
            "description": "",
            "description_tooltip": null,
            "layout": "IPY_MODEL_65b50393488d4991a98420ce75823957",
            "placeholder": "​",
            "style": "IPY_MODEL_b7946873573e4227957854ed577b8ece",
            "value": " 26422272/? [00:04&lt;00:00, 8805901.25it/s]"
          }
        },
        "4f208846a5e04b13834a2ab473b3c416": {
          "model_module": "@jupyter-widgets/base",
          "model_name": "LayoutModel",
          "model_module_version": "1.2.0",
          "state": {
            "_model_module": "@jupyter-widgets/base",
            "_model_module_version": "1.2.0",
            "_model_name": "LayoutModel",
            "_view_count": null,
            "_view_module": "@jupyter-widgets/base",
            "_view_module_version": "1.2.0",
            "_view_name": "LayoutView",
            "align_content": null,
            "align_items": null,
            "align_self": null,
            "border": null,
            "bottom": null,
            "display": null,
            "flex": null,
            "flex_flow": null,
            "grid_area": null,
            "grid_auto_columns": null,
            "grid_auto_flow": null,
            "grid_auto_rows": null,
            "grid_column": null,
            "grid_gap": null,
            "grid_row": null,
            "grid_template_areas": null,
            "grid_template_columns": null,
            "grid_template_rows": null,
            "height": null,
            "justify_content": null,
            "justify_items": null,
            "left": null,
            "margin": null,
            "max_height": null,
            "max_width": null,
            "min_height": null,
            "min_width": null,
            "object_fit": null,
            "object_position": null,
            "order": null,
            "overflow": null,
            "overflow_x": null,
            "overflow_y": null,
            "padding": null,
            "right": null,
            "top": null,
            "visibility": null,
            "width": null
          }
        },
        "e07f9af9b2844b8d970cbbfaae21c502": {
          "model_module": "@jupyter-widgets/base",
          "model_name": "LayoutModel",
          "model_module_version": "1.2.0",
          "state": {
            "_model_module": "@jupyter-widgets/base",
            "_model_module_version": "1.2.0",
            "_model_name": "LayoutModel",
            "_view_count": null,
            "_view_module": "@jupyter-widgets/base",
            "_view_module_version": "1.2.0",
            "_view_name": "LayoutView",
            "align_content": null,
            "align_items": null,
            "align_self": null,
            "border": null,
            "bottom": null,
            "display": null,
            "flex": null,
            "flex_flow": null,
            "grid_area": null,
            "grid_auto_columns": null,
            "grid_auto_flow": null,
            "grid_auto_rows": null,
            "grid_column": null,
            "grid_gap": null,
            "grid_row": null,
            "grid_template_areas": null,
            "grid_template_columns": null,
            "grid_template_rows": null,
            "height": null,
            "justify_content": null,
            "justify_items": null,
            "left": null,
            "margin": null,
            "max_height": null,
            "max_width": null,
            "min_height": null,
            "min_width": null,
            "object_fit": null,
            "object_position": null,
            "order": null,
            "overflow": null,
            "overflow_x": null,
            "overflow_y": null,
            "padding": null,
            "right": null,
            "top": null,
            "visibility": null,
            "width": null
          }
        },
        "0ecb39d1924240cba3cb9ae7441a253e": {
          "model_module": "@jupyter-widgets/controls",
          "model_name": "DescriptionStyleModel",
          "model_module_version": "1.5.0",
          "state": {
            "_model_module": "@jupyter-widgets/controls",
            "_model_module_version": "1.5.0",
            "_model_name": "DescriptionStyleModel",
            "_view_count": null,
            "_view_module": "@jupyter-widgets/base",
            "_view_module_version": "1.2.0",
            "_view_name": "StyleView",
            "description_width": ""
          }
        },
        "0259ba43923b4b11979ffa4168dee886": {
          "model_module": "@jupyter-widgets/base",
          "model_name": "LayoutModel",
          "model_module_version": "1.2.0",
          "state": {
            "_model_module": "@jupyter-widgets/base",
            "_model_module_version": "1.2.0",
            "_model_name": "LayoutModel",
            "_view_count": null,
            "_view_module": "@jupyter-widgets/base",
            "_view_module_version": "1.2.0",
            "_view_name": "LayoutView",
            "align_content": null,
            "align_items": null,
            "align_self": null,
            "border": null,
            "bottom": null,
            "display": null,
            "flex": null,
            "flex_flow": null,
            "grid_area": null,
            "grid_auto_columns": null,
            "grid_auto_flow": null,
            "grid_auto_rows": null,
            "grid_column": null,
            "grid_gap": null,
            "grid_row": null,
            "grid_template_areas": null,
            "grid_template_columns": null,
            "grid_template_rows": null,
            "height": null,
            "justify_content": null,
            "justify_items": null,
            "left": null,
            "margin": null,
            "max_height": null,
            "max_width": null,
            "min_height": null,
            "min_width": null,
            "object_fit": null,
            "object_position": null,
            "order": null,
            "overflow": null,
            "overflow_x": null,
            "overflow_y": null,
            "padding": null,
            "right": null,
            "top": null,
            "visibility": null,
            "width": null
          }
        },
        "0c40f3d43ed74f67a46562285c3bcf61": {
          "model_module": "@jupyter-widgets/controls",
          "model_name": "ProgressStyleModel",
          "model_module_version": "1.5.0",
          "state": {
            "_model_module": "@jupyter-widgets/controls",
            "_model_module_version": "1.5.0",
            "_model_name": "ProgressStyleModel",
            "_view_count": null,
            "_view_module": "@jupyter-widgets/base",
            "_view_module_version": "1.2.0",
            "_view_name": "StyleView",
            "bar_color": null,
            "description_width": ""
          }
        },
        "65b50393488d4991a98420ce75823957": {
          "model_module": "@jupyter-widgets/base",
          "model_name": "LayoutModel",
          "model_module_version": "1.2.0",
          "state": {
            "_model_module": "@jupyter-widgets/base",
            "_model_module_version": "1.2.0",
            "_model_name": "LayoutModel",
            "_view_count": null,
            "_view_module": "@jupyter-widgets/base",
            "_view_module_version": "1.2.0",
            "_view_name": "LayoutView",
            "align_content": null,
            "align_items": null,
            "align_self": null,
            "border": null,
            "bottom": null,
            "display": null,
            "flex": null,
            "flex_flow": null,
            "grid_area": null,
            "grid_auto_columns": null,
            "grid_auto_flow": null,
            "grid_auto_rows": null,
            "grid_column": null,
            "grid_gap": null,
            "grid_row": null,
            "grid_template_areas": null,
            "grid_template_columns": null,
            "grid_template_rows": null,
            "height": null,
            "justify_content": null,
            "justify_items": null,
            "left": null,
            "margin": null,
            "max_height": null,
            "max_width": null,
            "min_height": null,
            "min_width": null,
            "object_fit": null,
            "object_position": null,
            "order": null,
            "overflow": null,
            "overflow_x": null,
            "overflow_y": null,
            "padding": null,
            "right": null,
            "top": null,
            "visibility": null,
            "width": null
          }
        },
        "b7946873573e4227957854ed577b8ece": {
          "model_module": "@jupyter-widgets/controls",
          "model_name": "DescriptionStyleModel",
          "model_module_version": "1.5.0",
          "state": {
            "_model_module": "@jupyter-widgets/controls",
            "_model_module_version": "1.5.0",
            "_model_name": "DescriptionStyleModel",
            "_view_count": null,
            "_view_module": "@jupyter-widgets/base",
            "_view_module_version": "1.2.0",
            "_view_name": "StyleView",
            "description_width": ""
          }
        },
        "f4b32f8c7ad1483d82c0919808ae9ad5": {
          "model_module": "@jupyter-widgets/controls",
          "model_name": "HBoxModel",
          "model_module_version": "1.5.0",
          "state": {
            "_dom_classes": [],
            "_model_module": "@jupyter-widgets/controls",
            "_model_module_version": "1.5.0",
            "_model_name": "HBoxModel",
            "_view_count": null,
            "_view_module": "@jupyter-widgets/controls",
            "_view_module_version": "1.5.0",
            "_view_name": "HBoxView",
            "box_style": "",
            "children": [
              "IPY_MODEL_4e06e4ea093b4efe8003a5cc107e296c",
              "IPY_MODEL_d92b14d5f2534255841f96faa4e37ff7",
              "IPY_MODEL_ab8ebe1ace7e47a0a3e4f9e8f4b2732c"
            ],
            "layout": "IPY_MODEL_eda26a2df16a4508822d444d6c3bcbd9"
          }
        },
        "4e06e4ea093b4efe8003a5cc107e296c": {
          "model_module": "@jupyter-widgets/controls",
          "model_name": "HTMLModel",
          "model_module_version": "1.5.0",
          "state": {
            "_dom_classes": [],
            "_model_module": "@jupyter-widgets/controls",
            "_model_module_version": "1.5.0",
            "_model_name": "HTMLModel",
            "_view_count": null,
            "_view_module": "@jupyter-widgets/controls",
            "_view_module_version": "1.5.0",
            "_view_name": "HTMLView",
            "description": "",
            "description_tooltip": null,
            "layout": "IPY_MODEL_411ef496f2b7422eb47fc59f4c60b330",
            "placeholder": "​",
            "style": "IPY_MODEL_6aff8d73267d434c8f31ef6575d6d7ce",
            "value": ""
          }
        },
        "d92b14d5f2534255841f96faa4e37ff7": {
          "model_module": "@jupyter-widgets/controls",
          "model_name": "FloatProgressModel",
          "model_module_version": "1.5.0",
          "state": {
            "_dom_classes": [],
            "_model_module": "@jupyter-widgets/controls",
            "_model_module_version": "1.5.0",
            "_model_name": "FloatProgressModel",
            "_view_count": null,
            "_view_module": "@jupyter-widgets/controls",
            "_view_module_version": "1.5.0",
            "_view_name": "ProgressView",
            "bar_style": "success",
            "description": "",
            "description_tooltip": null,
            "layout": "IPY_MODEL_409f50e3244646ef9bdd8cf177642d00",
            "max": 29515,
            "min": 0,
            "orientation": "horizontal",
            "style": "IPY_MODEL_b68a925a000b4866a27e6d1c4a915f58",
            "value": 29515
          }
        },
        "ab8ebe1ace7e47a0a3e4f9e8f4b2732c": {
          "model_module": "@jupyter-widgets/controls",
          "model_name": "HTMLModel",
          "model_module_version": "1.5.0",
          "state": {
            "_dom_classes": [],
            "_model_module": "@jupyter-widgets/controls",
            "_model_module_version": "1.5.0",
            "_model_name": "HTMLModel",
            "_view_count": null,
            "_view_module": "@jupyter-widgets/controls",
            "_view_module_version": "1.5.0",
            "_view_name": "HTMLView",
            "description": "",
            "description_tooltip": null,
            "layout": "IPY_MODEL_c9618b2a473e4362911de690dcecbe69",
            "placeholder": "​",
            "style": "IPY_MODEL_957d87cbe09c49adb0b7891172995cde",
            "value": " 29696/? [00:00&lt;00:00, 52072.06it/s]"
          }
        },
        "eda26a2df16a4508822d444d6c3bcbd9": {
          "model_module": "@jupyter-widgets/base",
          "model_name": "LayoutModel",
          "model_module_version": "1.2.0",
          "state": {
            "_model_module": "@jupyter-widgets/base",
            "_model_module_version": "1.2.0",
            "_model_name": "LayoutModel",
            "_view_count": null,
            "_view_module": "@jupyter-widgets/base",
            "_view_module_version": "1.2.0",
            "_view_name": "LayoutView",
            "align_content": null,
            "align_items": null,
            "align_self": null,
            "border": null,
            "bottom": null,
            "display": null,
            "flex": null,
            "flex_flow": null,
            "grid_area": null,
            "grid_auto_columns": null,
            "grid_auto_flow": null,
            "grid_auto_rows": null,
            "grid_column": null,
            "grid_gap": null,
            "grid_row": null,
            "grid_template_areas": null,
            "grid_template_columns": null,
            "grid_template_rows": null,
            "height": null,
            "justify_content": null,
            "justify_items": null,
            "left": null,
            "margin": null,
            "max_height": null,
            "max_width": null,
            "min_height": null,
            "min_width": null,
            "object_fit": null,
            "object_position": null,
            "order": null,
            "overflow": null,
            "overflow_x": null,
            "overflow_y": null,
            "padding": null,
            "right": null,
            "top": null,
            "visibility": null,
            "width": null
          }
        },
        "411ef496f2b7422eb47fc59f4c60b330": {
          "model_module": "@jupyter-widgets/base",
          "model_name": "LayoutModel",
          "model_module_version": "1.2.0",
          "state": {
            "_model_module": "@jupyter-widgets/base",
            "_model_module_version": "1.2.0",
            "_model_name": "LayoutModel",
            "_view_count": null,
            "_view_module": "@jupyter-widgets/base",
            "_view_module_version": "1.2.0",
            "_view_name": "LayoutView",
            "align_content": null,
            "align_items": null,
            "align_self": null,
            "border": null,
            "bottom": null,
            "display": null,
            "flex": null,
            "flex_flow": null,
            "grid_area": null,
            "grid_auto_columns": null,
            "grid_auto_flow": null,
            "grid_auto_rows": null,
            "grid_column": null,
            "grid_gap": null,
            "grid_row": null,
            "grid_template_areas": null,
            "grid_template_columns": null,
            "grid_template_rows": null,
            "height": null,
            "justify_content": null,
            "justify_items": null,
            "left": null,
            "margin": null,
            "max_height": null,
            "max_width": null,
            "min_height": null,
            "min_width": null,
            "object_fit": null,
            "object_position": null,
            "order": null,
            "overflow": null,
            "overflow_x": null,
            "overflow_y": null,
            "padding": null,
            "right": null,
            "top": null,
            "visibility": null,
            "width": null
          }
        },
        "6aff8d73267d434c8f31ef6575d6d7ce": {
          "model_module": "@jupyter-widgets/controls",
          "model_name": "DescriptionStyleModel",
          "model_module_version": "1.5.0",
          "state": {
            "_model_module": "@jupyter-widgets/controls",
            "_model_module_version": "1.5.0",
            "_model_name": "DescriptionStyleModel",
            "_view_count": null,
            "_view_module": "@jupyter-widgets/base",
            "_view_module_version": "1.2.0",
            "_view_name": "StyleView",
            "description_width": ""
          }
        },
        "409f50e3244646ef9bdd8cf177642d00": {
          "model_module": "@jupyter-widgets/base",
          "model_name": "LayoutModel",
          "model_module_version": "1.2.0",
          "state": {
            "_model_module": "@jupyter-widgets/base",
            "_model_module_version": "1.2.0",
            "_model_name": "LayoutModel",
            "_view_count": null,
            "_view_module": "@jupyter-widgets/base",
            "_view_module_version": "1.2.0",
            "_view_name": "LayoutView",
            "align_content": null,
            "align_items": null,
            "align_self": null,
            "border": null,
            "bottom": null,
            "display": null,
            "flex": null,
            "flex_flow": null,
            "grid_area": null,
            "grid_auto_columns": null,
            "grid_auto_flow": null,
            "grid_auto_rows": null,
            "grid_column": null,
            "grid_gap": null,
            "grid_row": null,
            "grid_template_areas": null,
            "grid_template_columns": null,
            "grid_template_rows": null,
            "height": null,
            "justify_content": null,
            "justify_items": null,
            "left": null,
            "margin": null,
            "max_height": null,
            "max_width": null,
            "min_height": null,
            "min_width": null,
            "object_fit": null,
            "object_position": null,
            "order": null,
            "overflow": null,
            "overflow_x": null,
            "overflow_y": null,
            "padding": null,
            "right": null,
            "top": null,
            "visibility": null,
            "width": null
          }
        },
        "b68a925a000b4866a27e6d1c4a915f58": {
          "model_module": "@jupyter-widgets/controls",
          "model_name": "ProgressStyleModel",
          "model_module_version": "1.5.0",
          "state": {
            "_model_module": "@jupyter-widgets/controls",
            "_model_module_version": "1.5.0",
            "_model_name": "ProgressStyleModel",
            "_view_count": null,
            "_view_module": "@jupyter-widgets/base",
            "_view_module_version": "1.2.0",
            "_view_name": "StyleView",
            "bar_color": null,
            "description_width": ""
          }
        },
        "c9618b2a473e4362911de690dcecbe69": {
          "model_module": "@jupyter-widgets/base",
          "model_name": "LayoutModel",
          "model_module_version": "1.2.0",
          "state": {
            "_model_module": "@jupyter-widgets/base",
            "_model_module_version": "1.2.0",
            "_model_name": "LayoutModel",
            "_view_count": null,
            "_view_module": "@jupyter-widgets/base",
            "_view_module_version": "1.2.0",
            "_view_name": "LayoutView",
            "align_content": null,
            "align_items": null,
            "align_self": null,
            "border": null,
            "bottom": null,
            "display": null,
            "flex": null,
            "flex_flow": null,
            "grid_area": null,
            "grid_auto_columns": null,
            "grid_auto_flow": null,
            "grid_auto_rows": null,
            "grid_column": null,
            "grid_gap": null,
            "grid_row": null,
            "grid_template_areas": null,
            "grid_template_columns": null,
            "grid_template_rows": null,
            "height": null,
            "justify_content": null,
            "justify_items": null,
            "left": null,
            "margin": null,
            "max_height": null,
            "max_width": null,
            "min_height": null,
            "min_width": null,
            "object_fit": null,
            "object_position": null,
            "order": null,
            "overflow": null,
            "overflow_x": null,
            "overflow_y": null,
            "padding": null,
            "right": null,
            "top": null,
            "visibility": null,
            "width": null
          }
        },
        "957d87cbe09c49adb0b7891172995cde": {
          "model_module": "@jupyter-widgets/controls",
          "model_name": "DescriptionStyleModel",
          "model_module_version": "1.5.0",
          "state": {
            "_model_module": "@jupyter-widgets/controls",
            "_model_module_version": "1.5.0",
            "_model_name": "DescriptionStyleModel",
            "_view_count": null,
            "_view_module": "@jupyter-widgets/base",
            "_view_module_version": "1.2.0",
            "_view_name": "StyleView",
            "description_width": ""
          }
        },
        "55c8f0174eeb4d29a92811440a74874e": {
          "model_module": "@jupyter-widgets/controls",
          "model_name": "HBoxModel",
          "model_module_version": "1.5.0",
          "state": {
            "_dom_classes": [],
            "_model_module": "@jupyter-widgets/controls",
            "_model_module_version": "1.5.0",
            "_model_name": "HBoxModel",
            "_view_count": null,
            "_view_module": "@jupyter-widgets/controls",
            "_view_module_version": "1.5.0",
            "_view_name": "HBoxView",
            "box_style": "",
            "children": [
              "IPY_MODEL_64a0312e77ff41fd8781fa9fa639894a",
              "IPY_MODEL_e6e737bf31784874bd0a2e2b16f812ca",
              "IPY_MODEL_369ec2322690478e90bb61f97c602bdd"
            ],
            "layout": "IPY_MODEL_a5a833e732f942af993ee828f96d9717"
          }
        },
        "64a0312e77ff41fd8781fa9fa639894a": {
          "model_module": "@jupyter-widgets/controls",
          "model_name": "HTMLModel",
          "model_module_version": "1.5.0",
          "state": {
            "_dom_classes": [],
            "_model_module": "@jupyter-widgets/controls",
            "_model_module_version": "1.5.0",
            "_model_name": "HTMLModel",
            "_view_count": null,
            "_view_module": "@jupyter-widgets/controls",
            "_view_module_version": "1.5.0",
            "_view_name": "HTMLView",
            "description": "",
            "description_tooltip": null,
            "layout": "IPY_MODEL_91f36ea6b3bb45a28b53928beb7ff8f4",
            "placeholder": "​",
            "style": "IPY_MODEL_6d21bbd49711482e9678effdae691293",
            "value": ""
          }
        },
        "e6e737bf31784874bd0a2e2b16f812ca": {
          "model_module": "@jupyter-widgets/controls",
          "model_name": "FloatProgressModel",
          "model_module_version": "1.5.0",
          "state": {
            "_dom_classes": [],
            "_model_module": "@jupyter-widgets/controls",
            "_model_module_version": "1.5.0",
            "_model_name": "FloatProgressModel",
            "_view_count": null,
            "_view_module": "@jupyter-widgets/controls",
            "_view_module_version": "1.5.0",
            "_view_name": "ProgressView",
            "bar_style": "success",
            "description": "",
            "description_tooltip": null,
            "layout": "IPY_MODEL_2d072ec794b84346972d27eb44f95428",
            "max": 4422102,
            "min": 0,
            "orientation": "horizontal",
            "style": "IPY_MODEL_4c9a1ec8c7ca4e028b4c6aa9543ded4d",
            "value": 4422102
          }
        },
        "369ec2322690478e90bb61f97c602bdd": {
          "model_module": "@jupyter-widgets/controls",
          "model_name": "HTMLModel",
          "model_module_version": "1.5.0",
          "state": {
            "_dom_classes": [],
            "_model_module": "@jupyter-widgets/controls",
            "_model_module_version": "1.5.0",
            "_model_name": "HTMLModel",
            "_view_count": null,
            "_view_module": "@jupyter-widgets/controls",
            "_view_module_version": "1.5.0",
            "_view_name": "HTMLView",
            "description": "",
            "description_tooltip": null,
            "layout": "IPY_MODEL_88b2ba2b550d46848488440d21f08689",
            "placeholder": "​",
            "style": "IPY_MODEL_170497a622764042b1027e450eaff588",
            "value": " 4422656/? [00:02&lt;00:00, 3508879.88it/s]"
          }
        },
        "a5a833e732f942af993ee828f96d9717": {
          "model_module": "@jupyter-widgets/base",
          "model_name": "LayoutModel",
          "model_module_version": "1.2.0",
          "state": {
            "_model_module": "@jupyter-widgets/base",
            "_model_module_version": "1.2.0",
            "_model_name": "LayoutModel",
            "_view_count": null,
            "_view_module": "@jupyter-widgets/base",
            "_view_module_version": "1.2.0",
            "_view_name": "LayoutView",
            "align_content": null,
            "align_items": null,
            "align_self": null,
            "border": null,
            "bottom": null,
            "display": null,
            "flex": null,
            "flex_flow": null,
            "grid_area": null,
            "grid_auto_columns": null,
            "grid_auto_flow": null,
            "grid_auto_rows": null,
            "grid_column": null,
            "grid_gap": null,
            "grid_row": null,
            "grid_template_areas": null,
            "grid_template_columns": null,
            "grid_template_rows": null,
            "height": null,
            "justify_content": null,
            "justify_items": null,
            "left": null,
            "margin": null,
            "max_height": null,
            "max_width": null,
            "min_height": null,
            "min_width": null,
            "object_fit": null,
            "object_position": null,
            "order": null,
            "overflow": null,
            "overflow_x": null,
            "overflow_y": null,
            "padding": null,
            "right": null,
            "top": null,
            "visibility": null,
            "width": null
          }
        },
        "91f36ea6b3bb45a28b53928beb7ff8f4": {
          "model_module": "@jupyter-widgets/base",
          "model_name": "LayoutModel",
          "model_module_version": "1.2.0",
          "state": {
            "_model_module": "@jupyter-widgets/base",
            "_model_module_version": "1.2.0",
            "_model_name": "LayoutModel",
            "_view_count": null,
            "_view_module": "@jupyter-widgets/base",
            "_view_module_version": "1.2.0",
            "_view_name": "LayoutView",
            "align_content": null,
            "align_items": null,
            "align_self": null,
            "border": null,
            "bottom": null,
            "display": null,
            "flex": null,
            "flex_flow": null,
            "grid_area": null,
            "grid_auto_columns": null,
            "grid_auto_flow": null,
            "grid_auto_rows": null,
            "grid_column": null,
            "grid_gap": null,
            "grid_row": null,
            "grid_template_areas": null,
            "grid_template_columns": null,
            "grid_template_rows": null,
            "height": null,
            "justify_content": null,
            "justify_items": null,
            "left": null,
            "margin": null,
            "max_height": null,
            "max_width": null,
            "min_height": null,
            "min_width": null,
            "object_fit": null,
            "object_position": null,
            "order": null,
            "overflow": null,
            "overflow_x": null,
            "overflow_y": null,
            "padding": null,
            "right": null,
            "top": null,
            "visibility": null,
            "width": null
          }
        },
        "6d21bbd49711482e9678effdae691293": {
          "model_module": "@jupyter-widgets/controls",
          "model_name": "DescriptionStyleModel",
          "model_module_version": "1.5.0",
          "state": {
            "_model_module": "@jupyter-widgets/controls",
            "_model_module_version": "1.5.0",
            "_model_name": "DescriptionStyleModel",
            "_view_count": null,
            "_view_module": "@jupyter-widgets/base",
            "_view_module_version": "1.2.0",
            "_view_name": "StyleView",
            "description_width": ""
          }
        },
        "2d072ec794b84346972d27eb44f95428": {
          "model_module": "@jupyter-widgets/base",
          "model_name": "LayoutModel",
          "model_module_version": "1.2.0",
          "state": {
            "_model_module": "@jupyter-widgets/base",
            "_model_module_version": "1.2.0",
            "_model_name": "LayoutModel",
            "_view_count": null,
            "_view_module": "@jupyter-widgets/base",
            "_view_module_version": "1.2.0",
            "_view_name": "LayoutView",
            "align_content": null,
            "align_items": null,
            "align_self": null,
            "border": null,
            "bottom": null,
            "display": null,
            "flex": null,
            "flex_flow": null,
            "grid_area": null,
            "grid_auto_columns": null,
            "grid_auto_flow": null,
            "grid_auto_rows": null,
            "grid_column": null,
            "grid_gap": null,
            "grid_row": null,
            "grid_template_areas": null,
            "grid_template_columns": null,
            "grid_template_rows": null,
            "height": null,
            "justify_content": null,
            "justify_items": null,
            "left": null,
            "margin": null,
            "max_height": null,
            "max_width": null,
            "min_height": null,
            "min_width": null,
            "object_fit": null,
            "object_position": null,
            "order": null,
            "overflow": null,
            "overflow_x": null,
            "overflow_y": null,
            "padding": null,
            "right": null,
            "top": null,
            "visibility": null,
            "width": null
          }
        },
        "4c9a1ec8c7ca4e028b4c6aa9543ded4d": {
          "model_module": "@jupyter-widgets/controls",
          "model_name": "ProgressStyleModel",
          "model_module_version": "1.5.0",
          "state": {
            "_model_module": "@jupyter-widgets/controls",
            "_model_module_version": "1.5.0",
            "_model_name": "ProgressStyleModel",
            "_view_count": null,
            "_view_module": "@jupyter-widgets/base",
            "_view_module_version": "1.2.0",
            "_view_name": "StyleView",
            "bar_color": null,
            "description_width": ""
          }
        },
        "88b2ba2b550d46848488440d21f08689": {
          "model_module": "@jupyter-widgets/base",
          "model_name": "LayoutModel",
          "model_module_version": "1.2.0",
          "state": {
            "_model_module": "@jupyter-widgets/base",
            "_model_module_version": "1.2.0",
            "_model_name": "LayoutModel",
            "_view_count": null,
            "_view_module": "@jupyter-widgets/base",
            "_view_module_version": "1.2.0",
            "_view_name": "LayoutView",
            "align_content": null,
            "align_items": null,
            "align_self": null,
            "border": null,
            "bottom": null,
            "display": null,
            "flex": null,
            "flex_flow": null,
            "grid_area": null,
            "grid_auto_columns": null,
            "grid_auto_flow": null,
            "grid_auto_rows": null,
            "grid_column": null,
            "grid_gap": null,
            "grid_row": null,
            "grid_template_areas": null,
            "grid_template_columns": null,
            "grid_template_rows": null,
            "height": null,
            "justify_content": null,
            "justify_items": null,
            "left": null,
            "margin": null,
            "max_height": null,
            "max_width": null,
            "min_height": null,
            "min_width": null,
            "object_fit": null,
            "object_position": null,
            "order": null,
            "overflow": null,
            "overflow_x": null,
            "overflow_y": null,
            "padding": null,
            "right": null,
            "top": null,
            "visibility": null,
            "width": null
          }
        },
        "170497a622764042b1027e450eaff588": {
          "model_module": "@jupyter-widgets/controls",
          "model_name": "DescriptionStyleModel",
          "model_module_version": "1.5.0",
          "state": {
            "_model_module": "@jupyter-widgets/controls",
            "_model_module_version": "1.5.0",
            "_model_name": "DescriptionStyleModel",
            "_view_count": null,
            "_view_module": "@jupyter-widgets/base",
            "_view_module_version": "1.2.0",
            "_view_name": "StyleView",
            "description_width": ""
          }
        },
        "0c088fd152404df88fc5c861b867894d": {
          "model_module": "@jupyter-widgets/controls",
          "model_name": "HBoxModel",
          "model_module_version": "1.5.0",
          "state": {
            "_dom_classes": [],
            "_model_module": "@jupyter-widgets/controls",
            "_model_module_version": "1.5.0",
            "_model_name": "HBoxModel",
            "_view_count": null,
            "_view_module": "@jupyter-widgets/controls",
            "_view_module_version": "1.5.0",
            "_view_name": "HBoxView",
            "box_style": "",
            "children": [
              "IPY_MODEL_ff42e66924404ff88fed963c1d2d45ce",
              "IPY_MODEL_c89bb0c190ba434bb66f8cd434920a5b",
              "IPY_MODEL_ee98750c65974a36b57b5c4f56a68030"
            ],
            "layout": "IPY_MODEL_975b1fda07dd46938a542cbfdb9ecc6c"
          }
        },
        "ff42e66924404ff88fed963c1d2d45ce": {
          "model_module": "@jupyter-widgets/controls",
          "model_name": "HTMLModel",
          "model_module_version": "1.5.0",
          "state": {
            "_dom_classes": [],
            "_model_module": "@jupyter-widgets/controls",
            "_model_module_version": "1.5.0",
            "_model_name": "HTMLModel",
            "_view_count": null,
            "_view_module": "@jupyter-widgets/controls",
            "_view_module_version": "1.5.0",
            "_view_name": "HTMLView",
            "description": "",
            "description_tooltip": null,
            "layout": "IPY_MODEL_e7a72f3929544bb3a3e9f8944d89b5ae",
            "placeholder": "​",
            "style": "IPY_MODEL_395d29737e4f42a09d2104b392357996",
            "value": ""
          }
        },
        "c89bb0c190ba434bb66f8cd434920a5b": {
          "model_module": "@jupyter-widgets/controls",
          "model_name": "FloatProgressModel",
          "model_module_version": "1.5.0",
          "state": {
            "_dom_classes": [],
            "_model_module": "@jupyter-widgets/controls",
            "_model_module_version": "1.5.0",
            "_model_name": "FloatProgressModel",
            "_view_count": null,
            "_view_module": "@jupyter-widgets/controls",
            "_view_module_version": "1.5.0",
            "_view_name": "ProgressView",
            "bar_style": "success",
            "description": "",
            "description_tooltip": null,
            "layout": "IPY_MODEL_b3e3e62d997d4a0b85542164c61832f8",
            "max": 5148,
            "min": 0,
            "orientation": "horizontal",
            "style": "IPY_MODEL_da7395940a014a2cbcd51da519673ecb",
            "value": 5148
          }
        },
        "ee98750c65974a36b57b5c4f56a68030": {
          "model_module": "@jupyter-widgets/controls",
          "model_name": "HTMLModel",
          "model_module_version": "1.5.0",
          "state": {
            "_dom_classes": [],
            "_model_module": "@jupyter-widgets/controls",
            "_model_module_version": "1.5.0",
            "_model_name": "HTMLModel",
            "_view_count": null,
            "_view_module": "@jupyter-widgets/controls",
            "_view_module_version": "1.5.0",
            "_view_name": "HTMLView",
            "description": "",
            "description_tooltip": null,
            "layout": "IPY_MODEL_852c178f97b04b40b75920edc93ae48f",
            "placeholder": "​",
            "style": "IPY_MODEL_b0dc775f86204e72b61997ab3efe13b3",
            "value": " 6144/? [00:00&lt;00:00, 69251.33it/s]"
          }
        },
        "975b1fda07dd46938a542cbfdb9ecc6c": {
          "model_module": "@jupyter-widgets/base",
          "model_name": "LayoutModel",
          "model_module_version": "1.2.0",
          "state": {
            "_model_module": "@jupyter-widgets/base",
            "_model_module_version": "1.2.0",
            "_model_name": "LayoutModel",
            "_view_count": null,
            "_view_module": "@jupyter-widgets/base",
            "_view_module_version": "1.2.0",
            "_view_name": "LayoutView",
            "align_content": null,
            "align_items": null,
            "align_self": null,
            "border": null,
            "bottom": null,
            "display": null,
            "flex": null,
            "flex_flow": null,
            "grid_area": null,
            "grid_auto_columns": null,
            "grid_auto_flow": null,
            "grid_auto_rows": null,
            "grid_column": null,
            "grid_gap": null,
            "grid_row": null,
            "grid_template_areas": null,
            "grid_template_columns": null,
            "grid_template_rows": null,
            "height": null,
            "justify_content": null,
            "justify_items": null,
            "left": null,
            "margin": null,
            "max_height": null,
            "max_width": null,
            "min_height": null,
            "min_width": null,
            "object_fit": null,
            "object_position": null,
            "order": null,
            "overflow": null,
            "overflow_x": null,
            "overflow_y": null,
            "padding": null,
            "right": null,
            "top": null,
            "visibility": null,
            "width": null
          }
        },
        "e7a72f3929544bb3a3e9f8944d89b5ae": {
          "model_module": "@jupyter-widgets/base",
          "model_name": "LayoutModel",
          "model_module_version": "1.2.0",
          "state": {
            "_model_module": "@jupyter-widgets/base",
            "_model_module_version": "1.2.0",
            "_model_name": "LayoutModel",
            "_view_count": null,
            "_view_module": "@jupyter-widgets/base",
            "_view_module_version": "1.2.0",
            "_view_name": "LayoutView",
            "align_content": null,
            "align_items": null,
            "align_self": null,
            "border": null,
            "bottom": null,
            "display": null,
            "flex": null,
            "flex_flow": null,
            "grid_area": null,
            "grid_auto_columns": null,
            "grid_auto_flow": null,
            "grid_auto_rows": null,
            "grid_column": null,
            "grid_gap": null,
            "grid_row": null,
            "grid_template_areas": null,
            "grid_template_columns": null,
            "grid_template_rows": null,
            "height": null,
            "justify_content": null,
            "justify_items": null,
            "left": null,
            "margin": null,
            "max_height": null,
            "max_width": null,
            "min_height": null,
            "min_width": null,
            "object_fit": null,
            "object_position": null,
            "order": null,
            "overflow": null,
            "overflow_x": null,
            "overflow_y": null,
            "padding": null,
            "right": null,
            "top": null,
            "visibility": null,
            "width": null
          }
        },
        "395d29737e4f42a09d2104b392357996": {
          "model_module": "@jupyter-widgets/controls",
          "model_name": "DescriptionStyleModel",
          "model_module_version": "1.5.0",
          "state": {
            "_model_module": "@jupyter-widgets/controls",
            "_model_module_version": "1.5.0",
            "_model_name": "DescriptionStyleModel",
            "_view_count": null,
            "_view_module": "@jupyter-widgets/base",
            "_view_module_version": "1.2.0",
            "_view_name": "StyleView",
            "description_width": ""
          }
        },
        "b3e3e62d997d4a0b85542164c61832f8": {
          "model_module": "@jupyter-widgets/base",
          "model_name": "LayoutModel",
          "model_module_version": "1.2.0",
          "state": {
            "_model_module": "@jupyter-widgets/base",
            "_model_module_version": "1.2.0",
            "_model_name": "LayoutModel",
            "_view_count": null,
            "_view_module": "@jupyter-widgets/base",
            "_view_module_version": "1.2.0",
            "_view_name": "LayoutView",
            "align_content": null,
            "align_items": null,
            "align_self": null,
            "border": null,
            "bottom": null,
            "display": null,
            "flex": null,
            "flex_flow": null,
            "grid_area": null,
            "grid_auto_columns": null,
            "grid_auto_flow": null,
            "grid_auto_rows": null,
            "grid_column": null,
            "grid_gap": null,
            "grid_row": null,
            "grid_template_areas": null,
            "grid_template_columns": null,
            "grid_template_rows": null,
            "height": null,
            "justify_content": null,
            "justify_items": null,
            "left": null,
            "margin": null,
            "max_height": null,
            "max_width": null,
            "min_height": null,
            "min_width": null,
            "object_fit": null,
            "object_position": null,
            "order": null,
            "overflow": null,
            "overflow_x": null,
            "overflow_y": null,
            "padding": null,
            "right": null,
            "top": null,
            "visibility": null,
            "width": null
          }
        },
        "da7395940a014a2cbcd51da519673ecb": {
          "model_module": "@jupyter-widgets/controls",
          "model_name": "ProgressStyleModel",
          "model_module_version": "1.5.0",
          "state": {
            "_model_module": "@jupyter-widgets/controls",
            "_model_module_version": "1.5.0",
            "_model_name": "ProgressStyleModel",
            "_view_count": null,
            "_view_module": "@jupyter-widgets/base",
            "_view_module_version": "1.2.0",
            "_view_name": "StyleView",
            "bar_color": null,
            "description_width": ""
          }
        },
        "852c178f97b04b40b75920edc93ae48f": {
          "model_module": "@jupyter-widgets/base",
          "model_name": "LayoutModel",
          "model_module_version": "1.2.0",
          "state": {
            "_model_module": "@jupyter-widgets/base",
            "_model_module_version": "1.2.0",
            "_model_name": "LayoutModel",
            "_view_count": null,
            "_view_module": "@jupyter-widgets/base",
            "_view_module_version": "1.2.0",
            "_view_name": "LayoutView",
            "align_content": null,
            "align_items": null,
            "align_self": null,
            "border": null,
            "bottom": null,
            "display": null,
            "flex": null,
            "flex_flow": null,
            "grid_area": null,
            "grid_auto_columns": null,
            "grid_auto_flow": null,
            "grid_auto_rows": null,
            "grid_column": null,
            "grid_gap": null,
            "grid_row": null,
            "grid_template_areas": null,
            "grid_template_columns": null,
            "grid_template_rows": null,
            "height": null,
            "justify_content": null,
            "justify_items": null,
            "left": null,
            "margin": null,
            "max_height": null,
            "max_width": null,
            "min_height": null,
            "min_width": null,
            "object_fit": null,
            "object_position": null,
            "order": null,
            "overflow": null,
            "overflow_x": null,
            "overflow_y": null,
            "padding": null,
            "right": null,
            "top": null,
            "visibility": null,
            "width": null
          }
        },
        "b0dc775f86204e72b61997ab3efe13b3": {
          "model_module": "@jupyter-widgets/controls",
          "model_name": "DescriptionStyleModel",
          "model_module_version": "1.5.0",
          "state": {
            "_model_module": "@jupyter-widgets/controls",
            "_model_module_version": "1.5.0",
            "_model_name": "DescriptionStyleModel",
            "_view_count": null,
            "_view_module": "@jupyter-widgets/base",
            "_view_module_version": "1.2.0",
            "_view_name": "StyleView",
            "description_width": ""
          }
        },
        "b0f5e0b7b82f43c4a6eea136e9f14e6b": {
          "model_module": "@jupyter-widgets/controls",
          "model_name": "HBoxModel",
          "model_module_version": "1.5.0",
          "state": {
            "_dom_classes": [],
            "_model_module": "@jupyter-widgets/controls",
            "_model_module_version": "1.5.0",
            "_model_name": "HBoxModel",
            "_view_count": null,
            "_view_module": "@jupyter-widgets/controls",
            "_view_module_version": "1.5.0",
            "_view_name": "HBoxView",
            "box_style": "",
            "children": [
              "IPY_MODEL_3d4fc3155ee24965af7a8f67364dc3cc",
              "IPY_MODEL_e15017adc1fe4a49a07d89acdcf51003",
              "IPY_MODEL_b9c2e0ea6b4a4f7fb83ad51d8bce8b67"
            ],
            "layout": "IPY_MODEL_2ff7017735da49f396f8b1e16edf1807"
          }
        },
        "3d4fc3155ee24965af7a8f67364dc3cc": {
          "model_module": "@jupyter-widgets/controls",
          "model_name": "HTMLModel",
          "model_module_version": "1.5.0",
          "state": {
            "_dom_classes": [],
            "_model_module": "@jupyter-widgets/controls",
            "_model_module_version": "1.5.0",
            "_model_name": "HTMLModel",
            "_view_count": null,
            "_view_module": "@jupyter-widgets/controls",
            "_view_module_version": "1.5.0",
            "_view_name": "HTMLView",
            "description": "",
            "description_tooltip": null,
            "layout": "IPY_MODEL_1899868d03104800ac7805146f66734d",
            "placeholder": "​",
            "style": "IPY_MODEL_408ae00a4dc741768a1b16f704a31191",
            "value": ""
          }
        },
        "e15017adc1fe4a49a07d89acdcf51003": {
          "model_module": "@jupyter-widgets/controls",
          "model_name": "FloatProgressModel",
          "model_module_version": "1.5.0",
          "state": {
            "_dom_classes": [],
            "_model_module": "@jupyter-widgets/controls",
            "_model_module_version": "1.5.0",
            "_model_name": "FloatProgressModel",
            "_view_count": null,
            "_view_module": "@jupyter-widgets/controls",
            "_view_module_version": "1.5.0",
            "_view_name": "ProgressView",
            "bar_style": "success",
            "description": "",
            "description_tooltip": null,
            "layout": "IPY_MODEL_64fa2195d4594fa2a16e1afa6c968003",
            "max": 26421880,
            "min": 0,
            "orientation": "horizontal",
            "style": "IPY_MODEL_a14e232216484d8e9d8ee43fd07a8faf",
            "value": 26421880
          }
        },
        "b9c2e0ea6b4a4f7fb83ad51d8bce8b67": {
          "model_module": "@jupyter-widgets/controls",
          "model_name": "HTMLModel",
          "model_module_version": "1.5.0",
          "state": {
            "_dom_classes": [],
            "_model_module": "@jupyter-widgets/controls",
            "_model_module_version": "1.5.0",
            "_model_name": "HTMLModel",
            "_view_count": null,
            "_view_module": "@jupyter-widgets/controls",
            "_view_module_version": "1.5.0",
            "_view_name": "HTMLView",
            "description": "",
            "description_tooltip": null,
            "layout": "IPY_MODEL_e1f943ed3de743a19e6229dd0ba2bfd7",
            "placeholder": "​",
            "style": "IPY_MODEL_5b7f47d9337a4597a704ab336b836927",
            "value": " 26422272/? [00:04&lt;00:00, 10373624.43it/s]"
          }
        },
        "2ff7017735da49f396f8b1e16edf1807": {
          "model_module": "@jupyter-widgets/base",
          "model_name": "LayoutModel",
          "model_module_version": "1.2.0",
          "state": {
            "_model_module": "@jupyter-widgets/base",
            "_model_module_version": "1.2.0",
            "_model_name": "LayoutModel",
            "_view_count": null,
            "_view_module": "@jupyter-widgets/base",
            "_view_module_version": "1.2.0",
            "_view_name": "LayoutView",
            "align_content": null,
            "align_items": null,
            "align_self": null,
            "border": null,
            "bottom": null,
            "display": null,
            "flex": null,
            "flex_flow": null,
            "grid_area": null,
            "grid_auto_columns": null,
            "grid_auto_flow": null,
            "grid_auto_rows": null,
            "grid_column": null,
            "grid_gap": null,
            "grid_row": null,
            "grid_template_areas": null,
            "grid_template_columns": null,
            "grid_template_rows": null,
            "height": null,
            "justify_content": null,
            "justify_items": null,
            "left": null,
            "margin": null,
            "max_height": null,
            "max_width": null,
            "min_height": null,
            "min_width": null,
            "object_fit": null,
            "object_position": null,
            "order": null,
            "overflow": null,
            "overflow_x": null,
            "overflow_y": null,
            "padding": null,
            "right": null,
            "top": null,
            "visibility": null,
            "width": null
          }
        },
        "1899868d03104800ac7805146f66734d": {
          "model_module": "@jupyter-widgets/base",
          "model_name": "LayoutModel",
          "model_module_version": "1.2.0",
          "state": {
            "_model_module": "@jupyter-widgets/base",
            "_model_module_version": "1.2.0",
            "_model_name": "LayoutModel",
            "_view_count": null,
            "_view_module": "@jupyter-widgets/base",
            "_view_module_version": "1.2.0",
            "_view_name": "LayoutView",
            "align_content": null,
            "align_items": null,
            "align_self": null,
            "border": null,
            "bottom": null,
            "display": null,
            "flex": null,
            "flex_flow": null,
            "grid_area": null,
            "grid_auto_columns": null,
            "grid_auto_flow": null,
            "grid_auto_rows": null,
            "grid_column": null,
            "grid_gap": null,
            "grid_row": null,
            "grid_template_areas": null,
            "grid_template_columns": null,
            "grid_template_rows": null,
            "height": null,
            "justify_content": null,
            "justify_items": null,
            "left": null,
            "margin": null,
            "max_height": null,
            "max_width": null,
            "min_height": null,
            "min_width": null,
            "object_fit": null,
            "object_position": null,
            "order": null,
            "overflow": null,
            "overflow_x": null,
            "overflow_y": null,
            "padding": null,
            "right": null,
            "top": null,
            "visibility": null,
            "width": null
          }
        },
        "408ae00a4dc741768a1b16f704a31191": {
          "model_module": "@jupyter-widgets/controls",
          "model_name": "DescriptionStyleModel",
          "model_module_version": "1.5.0",
          "state": {
            "_model_module": "@jupyter-widgets/controls",
            "_model_module_version": "1.5.0",
            "_model_name": "DescriptionStyleModel",
            "_view_count": null,
            "_view_module": "@jupyter-widgets/base",
            "_view_module_version": "1.2.0",
            "_view_name": "StyleView",
            "description_width": ""
          }
        },
        "64fa2195d4594fa2a16e1afa6c968003": {
          "model_module": "@jupyter-widgets/base",
          "model_name": "LayoutModel",
          "model_module_version": "1.2.0",
          "state": {
            "_model_module": "@jupyter-widgets/base",
            "_model_module_version": "1.2.0",
            "_model_name": "LayoutModel",
            "_view_count": null,
            "_view_module": "@jupyter-widgets/base",
            "_view_module_version": "1.2.0",
            "_view_name": "LayoutView",
            "align_content": null,
            "align_items": null,
            "align_self": null,
            "border": null,
            "bottom": null,
            "display": null,
            "flex": null,
            "flex_flow": null,
            "grid_area": null,
            "grid_auto_columns": null,
            "grid_auto_flow": null,
            "grid_auto_rows": null,
            "grid_column": null,
            "grid_gap": null,
            "grid_row": null,
            "grid_template_areas": null,
            "grid_template_columns": null,
            "grid_template_rows": null,
            "height": null,
            "justify_content": null,
            "justify_items": null,
            "left": null,
            "margin": null,
            "max_height": null,
            "max_width": null,
            "min_height": null,
            "min_width": null,
            "object_fit": null,
            "object_position": null,
            "order": null,
            "overflow": null,
            "overflow_x": null,
            "overflow_y": null,
            "padding": null,
            "right": null,
            "top": null,
            "visibility": null,
            "width": null
          }
        },
        "a14e232216484d8e9d8ee43fd07a8faf": {
          "model_module": "@jupyter-widgets/controls",
          "model_name": "ProgressStyleModel",
          "model_module_version": "1.5.0",
          "state": {
            "_model_module": "@jupyter-widgets/controls",
            "_model_module_version": "1.5.0",
            "_model_name": "ProgressStyleModel",
            "_view_count": null,
            "_view_module": "@jupyter-widgets/base",
            "_view_module_version": "1.2.0",
            "_view_name": "StyleView",
            "bar_color": null,
            "description_width": ""
          }
        },
        "e1f943ed3de743a19e6229dd0ba2bfd7": {
          "model_module": "@jupyter-widgets/base",
          "model_name": "LayoutModel",
          "model_module_version": "1.2.0",
          "state": {
            "_model_module": "@jupyter-widgets/base",
            "_model_module_version": "1.2.0",
            "_model_name": "LayoutModel",
            "_view_count": null,
            "_view_module": "@jupyter-widgets/base",
            "_view_module_version": "1.2.0",
            "_view_name": "LayoutView",
            "align_content": null,
            "align_items": null,
            "align_self": null,
            "border": null,
            "bottom": null,
            "display": null,
            "flex": null,
            "flex_flow": null,
            "grid_area": null,
            "grid_auto_columns": null,
            "grid_auto_flow": null,
            "grid_auto_rows": null,
            "grid_column": null,
            "grid_gap": null,
            "grid_row": null,
            "grid_template_areas": null,
            "grid_template_columns": null,
            "grid_template_rows": null,
            "height": null,
            "justify_content": null,
            "justify_items": null,
            "left": null,
            "margin": null,
            "max_height": null,
            "max_width": null,
            "min_height": null,
            "min_width": null,
            "object_fit": null,
            "object_position": null,
            "order": null,
            "overflow": null,
            "overflow_x": null,
            "overflow_y": null,
            "padding": null,
            "right": null,
            "top": null,
            "visibility": null,
            "width": null
          }
        },
        "5b7f47d9337a4597a704ab336b836927": {
          "model_module": "@jupyter-widgets/controls",
          "model_name": "DescriptionStyleModel",
          "model_module_version": "1.5.0",
          "state": {
            "_model_module": "@jupyter-widgets/controls",
            "_model_module_version": "1.5.0",
            "_model_name": "DescriptionStyleModel",
            "_view_count": null,
            "_view_module": "@jupyter-widgets/base",
            "_view_module_version": "1.2.0",
            "_view_name": "StyleView",
            "description_width": ""
          }
        },
        "18eb8f3139944c84b69d175fae04b7c9": {
          "model_module": "@jupyter-widgets/controls",
          "model_name": "HBoxModel",
          "model_module_version": "1.5.0",
          "state": {
            "_dom_classes": [],
            "_model_module": "@jupyter-widgets/controls",
            "_model_module_version": "1.5.0",
            "_model_name": "HBoxModel",
            "_view_count": null,
            "_view_module": "@jupyter-widgets/controls",
            "_view_module_version": "1.5.0",
            "_view_name": "HBoxView",
            "box_style": "",
            "children": [
              "IPY_MODEL_99e6b2fbf8f7417586db05cb1aa3a6b4",
              "IPY_MODEL_803838a995d24fe88d55f26c1f9d7769",
              "IPY_MODEL_9505c5b3ac9d4600bba43d0e5d808912"
            ],
            "layout": "IPY_MODEL_802c7d845be54356b8bbc6bdfc45d06e"
          }
        },
        "99e6b2fbf8f7417586db05cb1aa3a6b4": {
          "model_module": "@jupyter-widgets/controls",
          "model_name": "HTMLModel",
          "model_module_version": "1.5.0",
          "state": {
            "_dom_classes": [],
            "_model_module": "@jupyter-widgets/controls",
            "_model_module_version": "1.5.0",
            "_model_name": "HTMLModel",
            "_view_count": null,
            "_view_module": "@jupyter-widgets/controls",
            "_view_module_version": "1.5.0",
            "_view_name": "HTMLView",
            "description": "",
            "description_tooltip": null,
            "layout": "IPY_MODEL_c7cd5770c82e4b64919a39c7183a04f4",
            "placeholder": "​",
            "style": "IPY_MODEL_7b6f2b6e918c4fb4bb08f4b853b96a08",
            "value": ""
          }
        },
        "803838a995d24fe88d55f26c1f9d7769": {
          "model_module": "@jupyter-widgets/controls",
          "model_name": "FloatProgressModel",
          "model_module_version": "1.5.0",
          "state": {
            "_dom_classes": [],
            "_model_module": "@jupyter-widgets/controls",
            "_model_module_version": "1.5.0",
            "_model_name": "FloatProgressModel",
            "_view_count": null,
            "_view_module": "@jupyter-widgets/controls",
            "_view_module_version": "1.5.0",
            "_view_name": "ProgressView",
            "bar_style": "success",
            "description": "",
            "description_tooltip": null,
            "layout": "IPY_MODEL_f9a2e70b5e5d49ca9fb352de26cbd413",
            "max": 29515,
            "min": 0,
            "orientation": "horizontal",
            "style": "IPY_MODEL_3384e9bb57b5489ea872536958384e77",
            "value": 29515
          }
        },
        "9505c5b3ac9d4600bba43d0e5d808912": {
          "model_module": "@jupyter-widgets/controls",
          "model_name": "HTMLModel",
          "model_module_version": "1.5.0",
          "state": {
            "_dom_classes": [],
            "_model_module": "@jupyter-widgets/controls",
            "_model_module_version": "1.5.0",
            "_model_name": "HTMLModel",
            "_view_count": null,
            "_view_module": "@jupyter-widgets/controls",
            "_view_module_version": "1.5.0",
            "_view_name": "HTMLView",
            "description": "",
            "description_tooltip": null,
            "layout": "IPY_MODEL_c355d0b2158447908dc19530a456b73b",
            "placeholder": "​",
            "style": "IPY_MODEL_16f9d8ed09ca47508b44b39265202000",
            "value": " 29696/? [00:00&lt;00:00, 55511.59it/s]"
          }
        },
        "802c7d845be54356b8bbc6bdfc45d06e": {
          "model_module": "@jupyter-widgets/base",
          "model_name": "LayoutModel",
          "model_module_version": "1.2.0",
          "state": {
            "_model_module": "@jupyter-widgets/base",
            "_model_module_version": "1.2.0",
            "_model_name": "LayoutModel",
            "_view_count": null,
            "_view_module": "@jupyter-widgets/base",
            "_view_module_version": "1.2.0",
            "_view_name": "LayoutView",
            "align_content": null,
            "align_items": null,
            "align_self": null,
            "border": null,
            "bottom": null,
            "display": null,
            "flex": null,
            "flex_flow": null,
            "grid_area": null,
            "grid_auto_columns": null,
            "grid_auto_flow": null,
            "grid_auto_rows": null,
            "grid_column": null,
            "grid_gap": null,
            "grid_row": null,
            "grid_template_areas": null,
            "grid_template_columns": null,
            "grid_template_rows": null,
            "height": null,
            "justify_content": null,
            "justify_items": null,
            "left": null,
            "margin": null,
            "max_height": null,
            "max_width": null,
            "min_height": null,
            "min_width": null,
            "object_fit": null,
            "object_position": null,
            "order": null,
            "overflow": null,
            "overflow_x": null,
            "overflow_y": null,
            "padding": null,
            "right": null,
            "top": null,
            "visibility": null,
            "width": null
          }
        },
        "c7cd5770c82e4b64919a39c7183a04f4": {
          "model_module": "@jupyter-widgets/base",
          "model_name": "LayoutModel",
          "model_module_version": "1.2.0",
          "state": {
            "_model_module": "@jupyter-widgets/base",
            "_model_module_version": "1.2.0",
            "_model_name": "LayoutModel",
            "_view_count": null,
            "_view_module": "@jupyter-widgets/base",
            "_view_module_version": "1.2.0",
            "_view_name": "LayoutView",
            "align_content": null,
            "align_items": null,
            "align_self": null,
            "border": null,
            "bottom": null,
            "display": null,
            "flex": null,
            "flex_flow": null,
            "grid_area": null,
            "grid_auto_columns": null,
            "grid_auto_flow": null,
            "grid_auto_rows": null,
            "grid_column": null,
            "grid_gap": null,
            "grid_row": null,
            "grid_template_areas": null,
            "grid_template_columns": null,
            "grid_template_rows": null,
            "height": null,
            "justify_content": null,
            "justify_items": null,
            "left": null,
            "margin": null,
            "max_height": null,
            "max_width": null,
            "min_height": null,
            "min_width": null,
            "object_fit": null,
            "object_position": null,
            "order": null,
            "overflow": null,
            "overflow_x": null,
            "overflow_y": null,
            "padding": null,
            "right": null,
            "top": null,
            "visibility": null,
            "width": null
          }
        },
        "7b6f2b6e918c4fb4bb08f4b853b96a08": {
          "model_module": "@jupyter-widgets/controls",
          "model_name": "DescriptionStyleModel",
          "model_module_version": "1.5.0",
          "state": {
            "_model_module": "@jupyter-widgets/controls",
            "_model_module_version": "1.5.0",
            "_model_name": "DescriptionStyleModel",
            "_view_count": null,
            "_view_module": "@jupyter-widgets/base",
            "_view_module_version": "1.2.0",
            "_view_name": "StyleView",
            "description_width": ""
          }
        },
        "f9a2e70b5e5d49ca9fb352de26cbd413": {
          "model_module": "@jupyter-widgets/base",
          "model_name": "LayoutModel",
          "model_module_version": "1.2.0",
          "state": {
            "_model_module": "@jupyter-widgets/base",
            "_model_module_version": "1.2.0",
            "_model_name": "LayoutModel",
            "_view_count": null,
            "_view_module": "@jupyter-widgets/base",
            "_view_module_version": "1.2.0",
            "_view_name": "LayoutView",
            "align_content": null,
            "align_items": null,
            "align_self": null,
            "border": null,
            "bottom": null,
            "display": null,
            "flex": null,
            "flex_flow": null,
            "grid_area": null,
            "grid_auto_columns": null,
            "grid_auto_flow": null,
            "grid_auto_rows": null,
            "grid_column": null,
            "grid_gap": null,
            "grid_row": null,
            "grid_template_areas": null,
            "grid_template_columns": null,
            "grid_template_rows": null,
            "height": null,
            "justify_content": null,
            "justify_items": null,
            "left": null,
            "margin": null,
            "max_height": null,
            "max_width": null,
            "min_height": null,
            "min_width": null,
            "object_fit": null,
            "object_position": null,
            "order": null,
            "overflow": null,
            "overflow_x": null,
            "overflow_y": null,
            "padding": null,
            "right": null,
            "top": null,
            "visibility": null,
            "width": null
          }
        },
        "3384e9bb57b5489ea872536958384e77": {
          "model_module": "@jupyter-widgets/controls",
          "model_name": "ProgressStyleModel",
          "model_module_version": "1.5.0",
          "state": {
            "_model_module": "@jupyter-widgets/controls",
            "_model_module_version": "1.5.0",
            "_model_name": "ProgressStyleModel",
            "_view_count": null,
            "_view_module": "@jupyter-widgets/base",
            "_view_module_version": "1.2.0",
            "_view_name": "StyleView",
            "bar_color": null,
            "description_width": ""
          }
        },
        "c355d0b2158447908dc19530a456b73b": {
          "model_module": "@jupyter-widgets/base",
          "model_name": "LayoutModel",
          "model_module_version": "1.2.0",
          "state": {
            "_model_module": "@jupyter-widgets/base",
            "_model_module_version": "1.2.0",
            "_model_name": "LayoutModel",
            "_view_count": null,
            "_view_module": "@jupyter-widgets/base",
            "_view_module_version": "1.2.0",
            "_view_name": "LayoutView",
            "align_content": null,
            "align_items": null,
            "align_self": null,
            "border": null,
            "bottom": null,
            "display": null,
            "flex": null,
            "flex_flow": null,
            "grid_area": null,
            "grid_auto_columns": null,
            "grid_auto_flow": null,
            "grid_auto_rows": null,
            "grid_column": null,
            "grid_gap": null,
            "grid_row": null,
            "grid_template_areas": null,
            "grid_template_columns": null,
            "grid_template_rows": null,
            "height": null,
            "justify_content": null,
            "justify_items": null,
            "left": null,
            "margin": null,
            "max_height": null,
            "max_width": null,
            "min_height": null,
            "min_width": null,
            "object_fit": null,
            "object_position": null,
            "order": null,
            "overflow": null,
            "overflow_x": null,
            "overflow_y": null,
            "padding": null,
            "right": null,
            "top": null,
            "visibility": null,
            "width": null
          }
        },
        "16f9d8ed09ca47508b44b39265202000": {
          "model_module": "@jupyter-widgets/controls",
          "model_name": "DescriptionStyleModel",
          "model_module_version": "1.5.0",
          "state": {
            "_model_module": "@jupyter-widgets/controls",
            "_model_module_version": "1.5.0",
            "_model_name": "DescriptionStyleModel",
            "_view_count": null,
            "_view_module": "@jupyter-widgets/base",
            "_view_module_version": "1.2.0",
            "_view_name": "StyleView",
            "description_width": ""
          }
        },
        "111eeb4e41594a82b274393449d2ff7d": {
          "model_module": "@jupyter-widgets/controls",
          "model_name": "HBoxModel",
          "model_module_version": "1.5.0",
          "state": {
            "_dom_classes": [],
            "_model_module": "@jupyter-widgets/controls",
            "_model_module_version": "1.5.0",
            "_model_name": "HBoxModel",
            "_view_count": null,
            "_view_module": "@jupyter-widgets/controls",
            "_view_module_version": "1.5.0",
            "_view_name": "HBoxView",
            "box_style": "",
            "children": [
              "IPY_MODEL_a1a683826816460d8a55ae4d161c53b8",
              "IPY_MODEL_2e50335ff5f542428fcfbd78b6d353df",
              "IPY_MODEL_6cd062b2db2549a490ede49f2c1cc047"
            ],
            "layout": "IPY_MODEL_e6e96699b6ff48b1aadefabc781ad231"
          }
        },
        "a1a683826816460d8a55ae4d161c53b8": {
          "model_module": "@jupyter-widgets/controls",
          "model_name": "HTMLModel",
          "model_module_version": "1.5.0",
          "state": {
            "_dom_classes": [],
            "_model_module": "@jupyter-widgets/controls",
            "_model_module_version": "1.5.0",
            "_model_name": "HTMLModel",
            "_view_count": null,
            "_view_module": "@jupyter-widgets/controls",
            "_view_module_version": "1.5.0",
            "_view_name": "HTMLView",
            "description": "",
            "description_tooltip": null,
            "layout": "IPY_MODEL_9d4ded038b174fdcaf706c22f9356a66",
            "placeholder": "​",
            "style": "IPY_MODEL_5c7bf5766f6f40f6849923e9ab411027",
            "value": ""
          }
        },
        "2e50335ff5f542428fcfbd78b6d353df": {
          "model_module": "@jupyter-widgets/controls",
          "model_name": "FloatProgressModel",
          "model_module_version": "1.5.0",
          "state": {
            "_dom_classes": [],
            "_model_module": "@jupyter-widgets/controls",
            "_model_module_version": "1.5.0",
            "_model_name": "FloatProgressModel",
            "_view_count": null,
            "_view_module": "@jupyter-widgets/controls",
            "_view_module_version": "1.5.0",
            "_view_name": "ProgressView",
            "bar_style": "success",
            "description": "",
            "description_tooltip": null,
            "layout": "IPY_MODEL_f676ef666b2b493a9124c31d4b7f1970",
            "max": 4422102,
            "min": 0,
            "orientation": "horizontal",
            "style": "IPY_MODEL_93e2628688f244a7acd0236d612f100b",
            "value": 4422102
          }
        },
        "6cd062b2db2549a490ede49f2c1cc047": {
          "model_module": "@jupyter-widgets/controls",
          "model_name": "HTMLModel",
          "model_module_version": "1.5.0",
          "state": {
            "_dom_classes": [],
            "_model_module": "@jupyter-widgets/controls",
            "_model_module_version": "1.5.0",
            "_model_name": "HTMLModel",
            "_view_count": null,
            "_view_module": "@jupyter-widgets/controls",
            "_view_module_version": "1.5.0",
            "_view_name": "HTMLView",
            "description": "",
            "description_tooltip": null,
            "layout": "IPY_MODEL_ba36050c7aae463fa57f3d15e8b9c739",
            "placeholder": "​",
            "style": "IPY_MODEL_2d061ef76b974d04bee2cbc93ef087cf",
            "value": " 4422656/? [00:09&lt;00:00, 1324819.27it/s]"
          }
        },
        "e6e96699b6ff48b1aadefabc781ad231": {
          "model_module": "@jupyter-widgets/base",
          "model_name": "LayoutModel",
          "model_module_version": "1.2.0",
          "state": {
            "_model_module": "@jupyter-widgets/base",
            "_model_module_version": "1.2.0",
            "_model_name": "LayoutModel",
            "_view_count": null,
            "_view_module": "@jupyter-widgets/base",
            "_view_module_version": "1.2.0",
            "_view_name": "LayoutView",
            "align_content": null,
            "align_items": null,
            "align_self": null,
            "border": null,
            "bottom": null,
            "display": null,
            "flex": null,
            "flex_flow": null,
            "grid_area": null,
            "grid_auto_columns": null,
            "grid_auto_flow": null,
            "grid_auto_rows": null,
            "grid_column": null,
            "grid_gap": null,
            "grid_row": null,
            "grid_template_areas": null,
            "grid_template_columns": null,
            "grid_template_rows": null,
            "height": null,
            "justify_content": null,
            "justify_items": null,
            "left": null,
            "margin": null,
            "max_height": null,
            "max_width": null,
            "min_height": null,
            "min_width": null,
            "object_fit": null,
            "object_position": null,
            "order": null,
            "overflow": null,
            "overflow_x": null,
            "overflow_y": null,
            "padding": null,
            "right": null,
            "top": null,
            "visibility": null,
            "width": null
          }
        },
        "9d4ded038b174fdcaf706c22f9356a66": {
          "model_module": "@jupyter-widgets/base",
          "model_name": "LayoutModel",
          "model_module_version": "1.2.0",
          "state": {
            "_model_module": "@jupyter-widgets/base",
            "_model_module_version": "1.2.0",
            "_model_name": "LayoutModel",
            "_view_count": null,
            "_view_module": "@jupyter-widgets/base",
            "_view_module_version": "1.2.0",
            "_view_name": "LayoutView",
            "align_content": null,
            "align_items": null,
            "align_self": null,
            "border": null,
            "bottom": null,
            "display": null,
            "flex": null,
            "flex_flow": null,
            "grid_area": null,
            "grid_auto_columns": null,
            "grid_auto_flow": null,
            "grid_auto_rows": null,
            "grid_column": null,
            "grid_gap": null,
            "grid_row": null,
            "grid_template_areas": null,
            "grid_template_columns": null,
            "grid_template_rows": null,
            "height": null,
            "justify_content": null,
            "justify_items": null,
            "left": null,
            "margin": null,
            "max_height": null,
            "max_width": null,
            "min_height": null,
            "min_width": null,
            "object_fit": null,
            "object_position": null,
            "order": null,
            "overflow": null,
            "overflow_x": null,
            "overflow_y": null,
            "padding": null,
            "right": null,
            "top": null,
            "visibility": null,
            "width": null
          }
        },
        "5c7bf5766f6f40f6849923e9ab411027": {
          "model_module": "@jupyter-widgets/controls",
          "model_name": "DescriptionStyleModel",
          "model_module_version": "1.5.0",
          "state": {
            "_model_module": "@jupyter-widgets/controls",
            "_model_module_version": "1.5.0",
            "_model_name": "DescriptionStyleModel",
            "_view_count": null,
            "_view_module": "@jupyter-widgets/base",
            "_view_module_version": "1.2.0",
            "_view_name": "StyleView",
            "description_width": ""
          }
        },
        "f676ef666b2b493a9124c31d4b7f1970": {
          "model_module": "@jupyter-widgets/base",
          "model_name": "LayoutModel",
          "model_module_version": "1.2.0",
          "state": {
            "_model_module": "@jupyter-widgets/base",
            "_model_module_version": "1.2.0",
            "_model_name": "LayoutModel",
            "_view_count": null,
            "_view_module": "@jupyter-widgets/base",
            "_view_module_version": "1.2.0",
            "_view_name": "LayoutView",
            "align_content": null,
            "align_items": null,
            "align_self": null,
            "border": null,
            "bottom": null,
            "display": null,
            "flex": null,
            "flex_flow": null,
            "grid_area": null,
            "grid_auto_columns": null,
            "grid_auto_flow": null,
            "grid_auto_rows": null,
            "grid_column": null,
            "grid_gap": null,
            "grid_row": null,
            "grid_template_areas": null,
            "grid_template_columns": null,
            "grid_template_rows": null,
            "height": null,
            "justify_content": null,
            "justify_items": null,
            "left": null,
            "margin": null,
            "max_height": null,
            "max_width": null,
            "min_height": null,
            "min_width": null,
            "object_fit": null,
            "object_position": null,
            "order": null,
            "overflow": null,
            "overflow_x": null,
            "overflow_y": null,
            "padding": null,
            "right": null,
            "top": null,
            "visibility": null,
            "width": null
          }
        },
        "93e2628688f244a7acd0236d612f100b": {
          "model_module": "@jupyter-widgets/controls",
          "model_name": "ProgressStyleModel",
          "model_module_version": "1.5.0",
          "state": {
            "_model_module": "@jupyter-widgets/controls",
            "_model_module_version": "1.5.0",
            "_model_name": "ProgressStyleModel",
            "_view_count": null,
            "_view_module": "@jupyter-widgets/base",
            "_view_module_version": "1.2.0",
            "_view_name": "StyleView",
            "bar_color": null,
            "description_width": ""
          }
        },
        "ba36050c7aae463fa57f3d15e8b9c739": {
          "model_module": "@jupyter-widgets/base",
          "model_name": "LayoutModel",
          "model_module_version": "1.2.0",
          "state": {
            "_model_module": "@jupyter-widgets/base",
            "_model_module_version": "1.2.0",
            "_model_name": "LayoutModel",
            "_view_count": null,
            "_view_module": "@jupyter-widgets/base",
            "_view_module_version": "1.2.0",
            "_view_name": "LayoutView",
            "align_content": null,
            "align_items": null,
            "align_self": null,
            "border": null,
            "bottom": null,
            "display": null,
            "flex": null,
            "flex_flow": null,
            "grid_area": null,
            "grid_auto_columns": null,
            "grid_auto_flow": null,
            "grid_auto_rows": null,
            "grid_column": null,
            "grid_gap": null,
            "grid_row": null,
            "grid_template_areas": null,
            "grid_template_columns": null,
            "grid_template_rows": null,
            "height": null,
            "justify_content": null,
            "justify_items": null,
            "left": null,
            "margin": null,
            "max_height": null,
            "max_width": null,
            "min_height": null,
            "min_width": null,
            "object_fit": null,
            "object_position": null,
            "order": null,
            "overflow": null,
            "overflow_x": null,
            "overflow_y": null,
            "padding": null,
            "right": null,
            "top": null,
            "visibility": null,
            "width": null
          }
        },
        "2d061ef76b974d04bee2cbc93ef087cf": {
          "model_module": "@jupyter-widgets/controls",
          "model_name": "DescriptionStyleModel",
          "model_module_version": "1.5.0",
          "state": {
            "_model_module": "@jupyter-widgets/controls",
            "_model_module_version": "1.5.0",
            "_model_name": "DescriptionStyleModel",
            "_view_count": null,
            "_view_module": "@jupyter-widgets/base",
            "_view_module_version": "1.2.0",
            "_view_name": "StyleView",
            "description_width": ""
          }
        },
        "c5b2782912ba40149330063c4a888aaa": {
          "model_module": "@jupyter-widgets/controls",
          "model_name": "HBoxModel",
          "model_module_version": "1.5.0",
          "state": {
            "_dom_classes": [],
            "_model_module": "@jupyter-widgets/controls",
            "_model_module_version": "1.5.0",
            "_model_name": "HBoxModel",
            "_view_count": null,
            "_view_module": "@jupyter-widgets/controls",
            "_view_module_version": "1.5.0",
            "_view_name": "HBoxView",
            "box_style": "",
            "children": [
              "IPY_MODEL_5af63263a076407fa8e18ea7b03935cf",
              "IPY_MODEL_c128bb1096fa46eeb72f604c48c6023a",
              "IPY_MODEL_535d7962d5174b12a83630778c7e9fdc"
            ],
            "layout": "IPY_MODEL_57377c64120a4f4c895522bde373f5b6"
          }
        },
        "5af63263a076407fa8e18ea7b03935cf": {
          "model_module": "@jupyter-widgets/controls",
          "model_name": "HTMLModel",
          "model_module_version": "1.5.0",
          "state": {
            "_dom_classes": [],
            "_model_module": "@jupyter-widgets/controls",
            "_model_module_version": "1.5.0",
            "_model_name": "HTMLModel",
            "_view_count": null,
            "_view_module": "@jupyter-widgets/controls",
            "_view_module_version": "1.5.0",
            "_view_name": "HTMLView",
            "description": "",
            "description_tooltip": null,
            "layout": "IPY_MODEL_775cdc004c29495bb897724c3009a5c4",
            "placeholder": "​",
            "style": "IPY_MODEL_0278fb6dd1cb45b2b52a2682894b19d3",
            "value": ""
          }
        },
        "c128bb1096fa46eeb72f604c48c6023a": {
          "model_module": "@jupyter-widgets/controls",
          "model_name": "FloatProgressModel",
          "model_module_version": "1.5.0",
          "state": {
            "_dom_classes": [],
            "_model_module": "@jupyter-widgets/controls",
            "_model_module_version": "1.5.0",
            "_model_name": "FloatProgressModel",
            "_view_count": null,
            "_view_module": "@jupyter-widgets/controls",
            "_view_module_version": "1.5.0",
            "_view_name": "ProgressView",
            "bar_style": "success",
            "description": "",
            "description_tooltip": null,
            "layout": "IPY_MODEL_7287418222484f248fd38c628d21692d",
            "max": 5148,
            "min": 0,
            "orientation": "horizontal",
            "style": "IPY_MODEL_7b9fdb4d1d744477893a17c0b89a68cb",
            "value": 5148
          }
        },
        "535d7962d5174b12a83630778c7e9fdc": {
          "model_module": "@jupyter-widgets/controls",
          "model_name": "HTMLModel",
          "model_module_version": "1.5.0",
          "state": {
            "_dom_classes": [],
            "_model_module": "@jupyter-widgets/controls",
            "_model_module_version": "1.5.0",
            "_model_name": "HTMLModel",
            "_view_count": null,
            "_view_module": "@jupyter-widgets/controls",
            "_view_module_version": "1.5.0",
            "_view_name": "HTMLView",
            "description": "",
            "description_tooltip": null,
            "layout": "IPY_MODEL_aa6c8d9f40ba4e8bb7c3621038a15ad4",
            "placeholder": "​",
            "style": "IPY_MODEL_9d2e68fb12c94994955611ae9aad2762",
            "value": " 6144/? [00:00&lt;00:00, 161128.75it/s]"
          }
        },
        "57377c64120a4f4c895522bde373f5b6": {
          "model_module": "@jupyter-widgets/base",
          "model_name": "LayoutModel",
          "model_module_version": "1.2.0",
          "state": {
            "_model_module": "@jupyter-widgets/base",
            "_model_module_version": "1.2.0",
            "_model_name": "LayoutModel",
            "_view_count": null,
            "_view_module": "@jupyter-widgets/base",
            "_view_module_version": "1.2.0",
            "_view_name": "LayoutView",
            "align_content": null,
            "align_items": null,
            "align_self": null,
            "border": null,
            "bottom": null,
            "display": null,
            "flex": null,
            "flex_flow": null,
            "grid_area": null,
            "grid_auto_columns": null,
            "grid_auto_flow": null,
            "grid_auto_rows": null,
            "grid_column": null,
            "grid_gap": null,
            "grid_row": null,
            "grid_template_areas": null,
            "grid_template_columns": null,
            "grid_template_rows": null,
            "height": null,
            "justify_content": null,
            "justify_items": null,
            "left": null,
            "margin": null,
            "max_height": null,
            "max_width": null,
            "min_height": null,
            "min_width": null,
            "object_fit": null,
            "object_position": null,
            "order": null,
            "overflow": null,
            "overflow_x": null,
            "overflow_y": null,
            "padding": null,
            "right": null,
            "top": null,
            "visibility": null,
            "width": null
          }
        },
        "775cdc004c29495bb897724c3009a5c4": {
          "model_module": "@jupyter-widgets/base",
          "model_name": "LayoutModel",
          "model_module_version": "1.2.0",
          "state": {
            "_model_module": "@jupyter-widgets/base",
            "_model_module_version": "1.2.0",
            "_model_name": "LayoutModel",
            "_view_count": null,
            "_view_module": "@jupyter-widgets/base",
            "_view_module_version": "1.2.0",
            "_view_name": "LayoutView",
            "align_content": null,
            "align_items": null,
            "align_self": null,
            "border": null,
            "bottom": null,
            "display": null,
            "flex": null,
            "flex_flow": null,
            "grid_area": null,
            "grid_auto_columns": null,
            "grid_auto_flow": null,
            "grid_auto_rows": null,
            "grid_column": null,
            "grid_gap": null,
            "grid_row": null,
            "grid_template_areas": null,
            "grid_template_columns": null,
            "grid_template_rows": null,
            "height": null,
            "justify_content": null,
            "justify_items": null,
            "left": null,
            "margin": null,
            "max_height": null,
            "max_width": null,
            "min_height": null,
            "min_width": null,
            "object_fit": null,
            "object_position": null,
            "order": null,
            "overflow": null,
            "overflow_x": null,
            "overflow_y": null,
            "padding": null,
            "right": null,
            "top": null,
            "visibility": null,
            "width": null
          }
        },
        "0278fb6dd1cb45b2b52a2682894b19d3": {
          "model_module": "@jupyter-widgets/controls",
          "model_name": "DescriptionStyleModel",
          "model_module_version": "1.5.0",
          "state": {
            "_model_module": "@jupyter-widgets/controls",
            "_model_module_version": "1.5.0",
            "_model_name": "DescriptionStyleModel",
            "_view_count": null,
            "_view_module": "@jupyter-widgets/base",
            "_view_module_version": "1.2.0",
            "_view_name": "StyleView",
            "description_width": ""
          }
        },
        "7287418222484f248fd38c628d21692d": {
          "model_module": "@jupyter-widgets/base",
          "model_name": "LayoutModel",
          "model_module_version": "1.2.0",
          "state": {
            "_model_module": "@jupyter-widgets/base",
            "_model_module_version": "1.2.0",
            "_model_name": "LayoutModel",
            "_view_count": null,
            "_view_module": "@jupyter-widgets/base",
            "_view_module_version": "1.2.0",
            "_view_name": "LayoutView",
            "align_content": null,
            "align_items": null,
            "align_self": null,
            "border": null,
            "bottom": null,
            "display": null,
            "flex": null,
            "flex_flow": null,
            "grid_area": null,
            "grid_auto_columns": null,
            "grid_auto_flow": null,
            "grid_auto_rows": null,
            "grid_column": null,
            "grid_gap": null,
            "grid_row": null,
            "grid_template_areas": null,
            "grid_template_columns": null,
            "grid_template_rows": null,
            "height": null,
            "justify_content": null,
            "justify_items": null,
            "left": null,
            "margin": null,
            "max_height": null,
            "max_width": null,
            "min_height": null,
            "min_width": null,
            "object_fit": null,
            "object_position": null,
            "order": null,
            "overflow": null,
            "overflow_x": null,
            "overflow_y": null,
            "padding": null,
            "right": null,
            "top": null,
            "visibility": null,
            "width": null
          }
        },
        "7b9fdb4d1d744477893a17c0b89a68cb": {
          "model_module": "@jupyter-widgets/controls",
          "model_name": "ProgressStyleModel",
          "model_module_version": "1.5.0",
          "state": {
            "_model_module": "@jupyter-widgets/controls",
            "_model_module_version": "1.5.0",
            "_model_name": "ProgressStyleModel",
            "_view_count": null,
            "_view_module": "@jupyter-widgets/base",
            "_view_module_version": "1.2.0",
            "_view_name": "StyleView",
            "bar_color": null,
            "description_width": ""
          }
        },
        "aa6c8d9f40ba4e8bb7c3621038a15ad4": {
          "model_module": "@jupyter-widgets/base",
          "model_name": "LayoutModel",
          "model_module_version": "1.2.0",
          "state": {
            "_model_module": "@jupyter-widgets/base",
            "_model_module_version": "1.2.0",
            "_model_name": "LayoutModel",
            "_view_count": null,
            "_view_module": "@jupyter-widgets/base",
            "_view_module_version": "1.2.0",
            "_view_name": "LayoutView",
            "align_content": null,
            "align_items": null,
            "align_self": null,
            "border": null,
            "bottom": null,
            "display": null,
            "flex": null,
            "flex_flow": null,
            "grid_area": null,
            "grid_auto_columns": null,
            "grid_auto_flow": null,
            "grid_auto_rows": null,
            "grid_column": null,
            "grid_gap": null,
            "grid_row": null,
            "grid_template_areas": null,
            "grid_template_columns": null,
            "grid_template_rows": null,
            "height": null,
            "justify_content": null,
            "justify_items": null,
            "left": null,
            "margin": null,
            "max_height": null,
            "max_width": null,
            "min_height": null,
            "min_width": null,
            "object_fit": null,
            "object_position": null,
            "order": null,
            "overflow": null,
            "overflow_x": null,
            "overflow_y": null,
            "padding": null,
            "right": null,
            "top": null,
            "visibility": null,
            "width": null
          }
        },
        "9d2e68fb12c94994955611ae9aad2762": {
          "model_module": "@jupyter-widgets/controls",
          "model_name": "DescriptionStyleModel",
          "model_module_version": "1.5.0",
          "state": {
            "_model_module": "@jupyter-widgets/controls",
            "_model_module_version": "1.5.0",
            "_model_name": "DescriptionStyleModel",
            "_view_count": null,
            "_view_module": "@jupyter-widgets/base",
            "_view_module_version": "1.2.0",
            "_view_name": "StyleView",
            "description_width": ""
          }
        }
      }
    }
  },
  "nbformat": 4,
  "nbformat_minor": 0
}

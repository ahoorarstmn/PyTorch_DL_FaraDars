{
  "nbformat": 4,
  "nbformat_minor": 0,
  "metadata": {
    "colab": {
      "provenance": [],
      "toc_visible": true,
      "collapsed_sections": [
        "YAmfhB3OlNBB",
        "b-qKUMw7T59Q",
        "m6U6bpsGVYQu",
        "h7ZDiHHHX5WX",
        "KgZsJqiwYe2x",
        "bnqRbKBkZ9gP",
        "zwEucwgUaD72",
        "kRWpon55W4ls",
        "0Jg2X0xoaTaS",
        "gCIki-GOa4q1",
        "UwVyWj4jbCpi",
        "39CoCnQcVn0E"
      ],
      "authorship_tag": "ABX9TyN5yEP2Ofxu7pC036HOpHaq",
      "include_colab_link": true
    },
    "kernelspec": {
      "name": "python3",
      "display_name": "Python 3"
    },
    "language_info": {
      "name": "python"
    }
  },
  "cells": [
    {
      "cell_type": "markdown",
      "metadata": {
        "id": "view-in-github",
        "colab_type": "text"
      },
      "source": [
        "<a href=\"https://colab.research.google.com/github/ahoorarstmn/PyTorch_DL_FaraDars/blob/main/01_PyTorch_Basics.ipynb\" target=\"_parent\"><img src=\"https://colab.research.google.com/assets/colab-badge.svg\" alt=\"Open In Colab\"/></a>"
      ]
    },
    {
      "cell_type": "code",
      "metadata": {
        "id": "qaKYNpaDPyEe"
      },
      "source": [
        "# Imports"
      ],
      "execution_count": null,
      "outputs": []
    },
    {
      "cell_type": "code",
      "source": [
        "import torch\n",
        "import numpy as np"
      ],
      "metadata": {
        "id": "UNd5i_P1joOs"
      },
      "execution_count": null,
      "outputs": []
    },
    {
      "cell_type": "code",
      "source": [
        "torch.__version__"
      ],
      "metadata": {
        "colab": {
          "base_uri": "https://localhost:8080/",
          "height": 39
        },
        "id": "d2V306I2QNJ9",
        "outputId": "8c92951d-539e-46dd-c482-a79c2dbdb9ff"
      },
      "execution_count": null,
      "outputs": [
        {
          "output_type": "execute_result",
          "data": {
            "text/plain": [
              "'1.10.0+cu111'"
            ],
            "application/vnd.google.colaboratory.intrinsic+json": {
              "type": "string"
            }
          },
          "metadata": {},
          "execution_count": 2
        }
      ]
    },
    {
      "cell_type": "markdown",
      "source": [
        "# **Tensor Initialisation**"
      ],
      "metadata": {
        "id": "vzpxrtNynMzI"
      }
    },
    {
      "cell_type": "markdown",
      "source": [
        "## From data\n",
        "\n",
        "* `torch.tensor()`"
      ],
      "metadata": {
        "id": "YAmfhB3OlNBB"
      }
    },
    {
      "cell_type": "code",
      "source": [
        "data = [[1., 2.], [3., 4.]]\n",
        "type(data)"
      ],
      "metadata": {
        "colab": {
          "base_uri": "https://localhost:8080/"
        },
        "id": "6XrrrV9eQPyt",
        "outputId": "ee47c11a-4236-4ae4-fdb8-f7fac7728048"
      },
      "execution_count": null,
      "outputs": [
        {
          "output_type": "execute_result",
          "data": {
            "text/plain": [
              "list"
            ]
          },
          "metadata": {},
          "execution_count": 8
        }
      ]
    },
    {
      "cell_type": "code",
      "source": [
        "data_tensor = torch.tensor(data, dtype=torch.int32)\n",
        "data_tensor\n",
        "data_tensor.dtype"
      ],
      "metadata": {
        "colab": {
          "base_uri": "https://localhost:8080/"
        },
        "id": "yVGdVz-0QZ2J",
        "outputId": "0ac81116-0ea1-44d2-a28b-2b3c013cea4f"
      },
      "execution_count": null,
      "outputs": [
        {
          "output_type": "execute_result",
          "data": {
            "text/plain": [
              "torch.int32"
            ]
          },
          "metadata": {},
          "execution_count": 13
        }
      ]
    },
    {
      "cell_type": "markdown",
      "metadata": {
        "id": "b-qKUMw7T59Q"
      },
      "source": [
        "## From NumPy arrays\n",
        "\n",
        "* `torch.from_numpy()`\n",
        "* `torch.as_tensor()`\n"
      ]
    },
    {
      "cell_type": "code",
      "source": [
        "data_array = np.array(data)\n",
        "type(data_array)"
      ],
      "metadata": {
        "colab": {
          "base_uri": "https://localhost:8080/"
        },
        "id": "k1qqL5sRQdpZ",
        "outputId": "4ca60339-dc5b-4ba8-a44b-ef20490eab27"
      },
      "execution_count": null,
      "outputs": [
        {
          "output_type": "execute_result",
          "data": {
            "text/plain": [
              "numpy.ndarray"
            ]
          },
          "metadata": {},
          "execution_count": 10
        }
      ]
    },
    {
      "cell_type": "code",
      "metadata": {
        "id": "hvicbicBHIUt"
      },
      "source": [
        "# torch.from_numpy()"
      ],
      "execution_count": null,
      "outputs": []
    },
    {
      "cell_type": "code",
      "source": [
        "a = torch.from_numpy(data_array)\n",
        "a"
      ],
      "metadata": {
        "colab": {
          "base_uri": "https://localhost:8080/"
        },
        "id": "VGAgx7ITQfBR",
        "outputId": "6baf9e5f-1eed-490d-cdac-c0f752012a06"
      },
      "execution_count": null,
      "outputs": [
        {
          "output_type": "execute_result",
          "data": {
            "text/plain": [
              "tensor([[1., 2.],\n",
              "        [3., 4.]], dtype=torch.float64)"
            ]
          },
          "metadata": {},
          "execution_count": 11
        }
      ]
    },
    {
      "cell_type": "code",
      "metadata": {
        "id": "9Ai0cpG1YCYk"
      },
      "source": [
        "# torch.as_tensor()"
      ],
      "execution_count": null,
      "outputs": []
    },
    {
      "cell_type": "code",
      "source": [
        "b = torch.as_tensor(data_array)\n",
        "b"
      ],
      "metadata": {
        "colab": {
          "base_uri": "https://localhost:8080/"
        },
        "id": "nUUfDeMYQhQZ",
        "outputId": "da2d3aa5-cabf-4018-ac9c-f5f0110111a0"
      },
      "execution_count": null,
      "outputs": [
        {
          "output_type": "execute_result",
          "data": {
            "text/plain": [
              "tensor([[1., 2.],\n",
              "        [3., 4.]], dtype=torch.float64)"
            ]
          },
          "metadata": {},
          "execution_count": 12
        }
      ]
    },
    {
      "cell_type": "markdown",
      "metadata": {
        "id": "m6U6bpsGVYQu"
      },
      "source": [
        "## With random or constant values\n",
        "\n",
        "* `torch.zeros()`\n",
        "* `torch.ones()`\n",
        "* `torch.eye()`\n",
        "* `torch.rand()`\n",
        "* `torch.randn()`\n",
        "* `torch.randint()`\n",
        "* `torch.rand_like()`\n",
        "* `torch.randn_like()`\n",
        "* `torch.randint_like()`\n",
        "* `torch.empty()`\n",
        "* `torch.diag()`"
      ]
    },
    {
      "cell_type": "code",
      "metadata": {
        "id": "xvWSmPmxeMCC"
      },
      "source": [
        "# torch.zeros()"
      ],
      "execution_count": null,
      "outputs": []
    },
    {
      "cell_type": "code",
      "source": [
        "zeros_tensor = torch.zeros(3, 4)\n",
        "zeros_tensor.dtype\n"
      ],
      "metadata": {
        "colab": {
          "base_uri": "https://localhost:8080/"
        },
        "id": "O-PeQvEmVzsZ",
        "outputId": "f2bd6312-25c5-49a0-e5ca-2adcb25ce640"
      },
      "execution_count": null,
      "outputs": [
        {
          "output_type": "execute_result",
          "data": {
            "text/plain": [
              "torch.float32"
            ]
          },
          "metadata": {},
          "execution_count": 3
        }
      ]
    },
    {
      "cell_type": "code",
      "metadata": {
        "id": "QU7Sl2wuHimV"
      },
      "source": [
        "# torch.ones()"
      ],
      "execution_count": null,
      "outputs": []
    },
    {
      "cell_type": "code",
      "source": [
        "ones_tensor = torch.ones(3, 4)\n",
        "ones_tensor"
      ],
      "metadata": {
        "id": "meROIBg2Qt4h",
        "colab": {
          "base_uri": "https://localhost:8080/"
        },
        "outputId": "5d611de5-e49b-4d49-a6be-2e163d9c7cfd"
      },
      "execution_count": null,
      "outputs": [
        {
          "output_type": "execute_result",
          "data": {
            "text/plain": [
              "tensor([[1., 1., 1., 1.],\n",
              "        [1., 1., 1., 1.],\n",
              "        [1., 1., 1., 1.]])"
            ]
          },
          "metadata": {},
          "execution_count": 4
        }
      ]
    },
    {
      "cell_type": "code",
      "metadata": {
        "id": "7iNlfRboHlCj"
      },
      "source": [
        "# torch.eye()"
      ],
      "execution_count": null,
      "outputs": []
    },
    {
      "cell_type": "code",
      "source": [
        "eye_tensor = torch.eye(4, 4)\n",
        "eye_tensor"
      ],
      "metadata": {
        "id": "GnC23k3-Qx9R",
        "colab": {
          "base_uri": "https://localhost:8080/"
        },
        "outputId": "3cf3a2ab-e402-4d1e-96ec-ecbef9e03438"
      },
      "execution_count": null,
      "outputs": [
        {
          "output_type": "execute_result",
          "data": {
            "text/plain": [
              "tensor([[1., 0., 0., 0.],\n",
              "        [0., 1., 0., 0.],\n",
              "        [0., 0., 1., 0.],\n",
              "        [0., 0., 0., 1.]])"
            ]
          },
          "metadata": {},
          "execution_count": 5
        }
      ]
    },
    {
      "cell_type": "code",
      "metadata": {
        "id": "bJN-NRwdHoSO"
      },
      "source": [
        "# torch.rand()"
      ],
      "execution_count": null,
      "outputs": []
    },
    {
      "cell_type": "code",
      "source": [
        "rand_tensor = torch.rand(3, 3)\n",
        "rand_tensor"
      ],
      "metadata": {
        "id": "tBQttOHdQzOc",
        "colab": {
          "base_uri": "https://localhost:8080/"
        },
        "outputId": "ad1bf521-ac8c-4953-fc97-2c77d155747a"
      },
      "execution_count": null,
      "outputs": [
        {
          "output_type": "execute_result",
          "data": {
            "text/plain": [
              "tensor([[0.8927, 0.8129, 0.3055],\n",
              "        [0.3651, 0.8940, 0.4104],\n",
              "        [0.7037, 0.6539, 0.5441]])"
            ]
          },
          "metadata": {},
          "execution_count": 6
        }
      ]
    },
    {
      "cell_type": "code",
      "metadata": {
        "id": "CmFB24beHsXK"
      },
      "source": [
        "# torch.randn()"
      ],
      "execution_count": null,
      "outputs": []
    },
    {
      "cell_type": "code",
      "source": [
        "randn_tensor = torch.randn(4, 4)\n",
        "randn_tensor"
      ],
      "metadata": {
        "id": "Qm-k-F2LQ05U",
        "colab": {
          "base_uri": "https://localhost:8080/"
        },
        "outputId": "d5336ec5-1144-4fe8-bbbc-4081ca343c04"
      },
      "execution_count": null,
      "outputs": [
        {
          "output_type": "execute_result",
          "data": {
            "text/plain": [
              "tensor([[-1.4246, -1.4729, -0.0510,  0.8107],\n",
              "        [-0.9973, -1.2214, -1.7285, -0.8095],\n",
              "        [ 0.8030, -0.8063,  0.4947,  2.1513],\n",
              "        [-0.3280,  0.5791,  1.5965, -2.0122]])"
            ]
          },
          "metadata": {},
          "execution_count": 7
        }
      ]
    },
    {
      "cell_type": "code",
      "metadata": {
        "id": "cfVOD56WHuxu"
      },
      "source": [
        "# torch.randint()"
      ],
      "execution_count": null,
      "outputs": []
    },
    {
      "cell_type": "code",
      "source": [
        "randint_tensor = torch.randint(1, 10, (4, 4))\n",
        "randint_tensor"
      ],
      "metadata": {
        "id": "8wwU7ocoQ2DH",
        "colab": {
          "base_uri": "https://localhost:8080/"
        },
        "outputId": "b1f1c131-bd95-40f0-bf1e-53fb7dbeadf1"
      },
      "execution_count": null,
      "outputs": [
        {
          "output_type": "execute_result",
          "data": {
            "text/plain": [
              "tensor([[9, 3, 2, 9],\n",
              "        [5, 1, 6, 8],\n",
              "        [7, 1, 6, 3],\n",
              "        [9, 6, 4, 7]])"
            ]
          },
          "metadata": {},
          "execution_count": 9
        }
      ]
    },
    {
      "cell_type": "code",
      "metadata": {
        "id": "oqMCEXhkH4ie"
      },
      "source": [
        "# torch.rand_like()"
      ],
      "execution_count": null,
      "outputs": []
    },
    {
      "cell_type": "code",
      "source": [
        "base = [[1, 2, 3],\n",
        "        [4, 5, 6],\n",
        "        [7, 8, 9]]"
      ],
      "metadata": {
        "id": "bSGgUYOtQHgo"
      },
      "execution_count": null,
      "outputs": []
    },
    {
      "cell_type": "code",
      "source": [
        "base_tensor = torch.tensor(base, dtype=torch.float32)\n",
        "base_tensor"
      ],
      "metadata": {
        "colab": {
          "base_uri": "https://localhost:8080/"
        },
        "id": "1ieAeb7KZEiQ",
        "outputId": "b6587f5a-e95a-46f7-bf53-7b656428c25a"
      },
      "execution_count": null,
      "outputs": [
        {
          "output_type": "execute_result",
          "data": {
            "text/plain": [
              "tensor([[1., 2., 3.],\n",
              "        [4., 5., 6.],\n",
              "        [7., 8., 9.]])"
            ]
          },
          "metadata": {},
          "execution_count": 13
        }
      ]
    },
    {
      "cell_type": "code",
      "source": [
        "randlike_tensor = torch.rand_like(base_tensor)\n",
        "randlike_tensor"
      ],
      "metadata": {
        "colab": {
          "base_uri": "https://localhost:8080/"
        },
        "id": "BrldFjA2ZSBL",
        "outputId": "986e5b5e-a9f4-497f-e760-3b802b8d9025"
      },
      "execution_count": null,
      "outputs": [
        {
          "output_type": "execute_result",
          "data": {
            "text/plain": [
              "tensor([[0.9631, 0.1320, 0.2703],\n",
              "        [0.4147, 0.6699, 0.2135],\n",
              "        [0.2200, 0.0018, 0.2813]])"
            ]
          },
          "metadata": {},
          "execution_count": 14
        }
      ]
    },
    {
      "cell_type": "code",
      "metadata": {
        "id": "yr7xm_WGH-d7"
      },
      "source": [
        "# torch.randn_like()"
      ],
      "execution_count": null,
      "outputs": []
    },
    {
      "cell_type": "code",
      "source": [
        "randn_like_tensor = torch.randn_like(base_tensor)\n",
        "randn_like_tensor"
      ],
      "metadata": {
        "id": "r2awgqJ-QOCD",
        "colab": {
          "base_uri": "https://localhost:8080/"
        },
        "outputId": "09f9b046-664f-4dc1-cdf6-ee1a4ac8689e"
      },
      "execution_count": null,
      "outputs": [
        {
          "output_type": "execute_result",
          "data": {
            "text/plain": [
              "tensor([[-1.0177,  0.0711,  0.9200],\n",
              "        [-0.1230,  0.9117, -0.6306],\n",
              "        [-0.9250, -0.7277, -0.6332]])"
            ]
          },
          "metadata": {},
          "execution_count": 15
        }
      ]
    },
    {
      "cell_type": "code",
      "metadata": {
        "id": "RQQZyde6IDek"
      },
      "source": [
        "# torch.randint_like()"
      ],
      "execution_count": null,
      "outputs": []
    },
    {
      "cell_type": "code",
      "source": [
        "randint_like_tensor = torch.randint_like(base_tensor, 1, 10)\n",
        "randint_like_tensor"
      ],
      "metadata": {
        "id": "VeYFGExIQPkT",
        "colab": {
          "base_uri": "https://localhost:8080/"
        },
        "outputId": "de20742c-f353-4505-963e-a86174c6181d"
      },
      "execution_count": null,
      "outputs": [
        {
          "output_type": "execute_result",
          "data": {
            "text/plain": [
              "tensor([[8., 7., 3.],\n",
              "        [5., 5., 7.],\n",
              "        [8., 1., 5.]])"
            ]
          },
          "metadata": {},
          "execution_count": 16
        }
      ]
    },
    {
      "cell_type": "code",
      "metadata": {
        "id": "7X-v1-tSedYn"
      },
      "source": [
        "# torch.zeros_like()\n"
      ],
      "execution_count": null,
      "outputs": []
    },
    {
      "cell_type": "code",
      "source": [
        "zeroslike_tensor = torch.zeros_like(base_tensor)"
      ],
      "metadata": {
        "id": "N-_a4zFCc3tY"
      },
      "execution_count": null,
      "outputs": []
    },
    {
      "cell_type": "code",
      "source": [
        "# torch.ones_like()"
      ],
      "metadata": {
        "id": "-1cBjskUl5Zr"
      },
      "execution_count": null,
      "outputs": []
    },
    {
      "cell_type": "code",
      "source": [
        "oneslike_tensor = torch.ones_like(base_tensor)\n",
        "oneslike_tensor"
      ],
      "metadata": {
        "id": "MHEWnqxLQUyb",
        "colab": {
          "base_uri": "https://localhost:8080/"
        },
        "outputId": "104ca782-0d76-4732-a33e-a313d5df2dae"
      },
      "execution_count": null,
      "outputs": [
        {
          "output_type": "execute_result",
          "data": {
            "text/plain": [
              "tensor([[1., 1., 1.],\n",
              "        [1., 1., 1.],\n",
              "        [1., 1., 1.]])"
            ]
          },
          "metadata": {},
          "execution_count": 18
        }
      ]
    },
    {
      "cell_type": "code",
      "metadata": {
        "id": "ts47_SmaILeN"
      },
      "source": [
        "# torch.empty()"
      ],
      "execution_count": null,
      "outputs": []
    },
    {
      "cell_type": "code",
      "source": [
        "empty_tensor = torch.empty(4, 4)\n",
        "empty_tensor"
      ],
      "metadata": {
        "id": "c4lPn_-lQW52",
        "colab": {
          "base_uri": "https://localhost:8080/"
        },
        "outputId": "baadfa67-0c65-4540-8e8d-d40cfbf5fe80"
      },
      "execution_count": null,
      "outputs": [
        {
          "output_type": "execute_result",
          "data": {
            "text/plain": [
              "tensor([[-3.3795e-23,  3.0945e-41,  3.3631e-44,  0.0000e+00],\n",
              "        [        nan,  1.3312e-43,  1.1578e+27,  1.1362e+30],\n",
              "        [ 7.1547e+22,  4.5828e+30,  1.2121e+04,  7.1846e+22],\n",
              "        [ 9.2198e-39,  7.0374e+22,  3.8149e+03,  4.1371e-41]])"
            ]
          },
          "metadata": {},
          "execution_count": 19
        }
      ]
    },
    {
      "cell_type": "code",
      "metadata": {
        "id": "LQFG7xsfIQE2"
      },
      "source": [
        "# torch.diag()"
      ],
      "execution_count": null,
      "outputs": []
    },
    {
      "cell_type": "code",
      "source": [
        "a = torch.randn(3)"
      ],
      "metadata": {
        "id": "h18jHvfGQZ-c"
      },
      "execution_count": null,
      "outputs": []
    },
    {
      "cell_type": "code",
      "source": [
        "a"
      ],
      "metadata": {
        "colab": {
          "base_uri": "https://localhost:8080/"
        },
        "id": "PN9_Y5mhczz7",
        "outputId": "4431a909-d05a-4fdc-c531-89e1e314d75b"
      },
      "execution_count": null,
      "outputs": [
        {
          "output_type": "execute_result",
          "data": {
            "text/plain": [
              "tensor([ 0.3318, -0.6324, -0.1883])"
            ]
          },
          "metadata": {},
          "execution_count": 21
        }
      ]
    },
    {
      "cell_type": "code",
      "source": [
        "diag_tensor = torch.diag(a)\n",
        "diag_tensor"
      ],
      "metadata": {
        "colab": {
          "base_uri": "https://localhost:8080/"
        },
        "id": "iGjRtGXpc2PM",
        "outputId": "933e9d38-7079-45a0-bc94-6d276ae44677"
      },
      "execution_count": null,
      "outputs": [
        {
          "output_type": "execute_result",
          "data": {
            "text/plain": [
              "tensor([[ 0.3318,  0.0000,  0.0000],\n",
              "        [ 0.0000, -0.6324,  0.0000],\n",
              "        [ 0.0000,  0.0000, -0.1883]])"
            ]
          },
          "metadata": {},
          "execution_count": 22
        }
      ]
    },
    {
      "cell_type": "markdown",
      "metadata": {
        "id": "h7ZDiHHHX5WX"
      },
      "source": [
        "## Creating tensors from ranges\n",
        "\n",
        "* `torch.arange()`\n",
        "* `torch.linspace()`\n",
        "\n",
        "\n",
        "\n"
      ]
    },
    {
      "cell_type": "code",
      "metadata": {
        "id": "hM006X4UYb8H"
      },
      "source": [
        "# torch.arange(start, end, steps)"
      ],
      "execution_count": null,
      "outputs": []
    },
    {
      "cell_type": "code",
      "source": [
        "a = torch.arange(6)\n",
        "a"
      ],
      "metadata": {
        "colab": {
          "base_uri": "https://localhost:8080/"
        },
        "id": "_K7imHNQtFrh",
        "outputId": "17956e8d-f8da-40fb-e08a-1b1f8dd09917"
      },
      "execution_count": null,
      "outputs": [
        {
          "output_type": "execute_result",
          "data": {
            "text/plain": [
              "tensor([0, 1, 2, 3, 4, 5])"
            ]
          },
          "metadata": {},
          "execution_count": 2
        }
      ]
    },
    {
      "cell_type": "code",
      "source": [
        "b = torch.arange(1, 5)\n",
        "b"
      ],
      "metadata": {
        "colab": {
          "base_uri": "https://localhost:8080/"
        },
        "id": "hhb-mB2IwkNB",
        "outputId": "b685f0f1-56c0-49c4-8f93-82e8d0fe3e51"
      },
      "execution_count": null,
      "outputs": [
        {
          "output_type": "execute_result",
          "data": {
            "text/plain": [
              "tensor([1, 2, 3, 4])"
            ]
          },
          "metadata": {},
          "execution_count": 3
        }
      ]
    },
    {
      "cell_type": "code",
      "source": [
        "c = torch.arange(1, 3, 0.5)\n",
        "c"
      ],
      "metadata": {
        "colab": {
          "base_uri": "https://localhost:8080/"
        },
        "id": "8rBaIkBlw0zw",
        "outputId": "2fd21bb9-841b-40b8-f9fb-ebef2c17990d"
      },
      "execution_count": null,
      "outputs": [
        {
          "output_type": "execute_result",
          "data": {
            "text/plain": [
              "tensor([1.0000, 1.5000, 2.0000, 2.5000])"
            ]
          },
          "metadata": {},
          "execution_count": 4
        }
      ]
    },
    {
      "cell_type": "code",
      "metadata": {
        "id": "QQ3g7pFQIhLQ"
      },
      "source": [
        "# torch.linspace(start, end, steps)"
      ],
      "execution_count": null,
      "outputs": []
    },
    {
      "cell_type": "code",
      "source": [
        "e = torch.linspace(3, 10, steps=5)\n",
        "e"
      ],
      "metadata": {
        "colab": {
          "base_uri": "https://localhost:8080/"
        },
        "id": "Bq7OHo9nuPB9",
        "outputId": "787b6d8d-bf41-4bec-c185-a7c786f2e205"
      },
      "execution_count": null,
      "outputs": [
        {
          "output_type": "execute_result",
          "data": {
            "text/plain": [
              "tensor([ 3.0000,  4.7500,  6.5000,  8.2500, 10.0000])"
            ]
          },
          "metadata": {},
          "execution_count": 5
        }
      ]
    },
    {
      "cell_type": "markdown",
      "metadata": {
        "id": "KgZsJqiwYe2x"
      },
      "source": [
        "## Attributes\n",
        "\n",
        "* `tensor.shape`>>(`tensor.size()`)\n",
        "* `tensor.dtype`\n",
        "* `tensor.device`"
      ]
    },
    {
      "cell_type": "code",
      "source": [
        "my_tensor = torch.rand(3, 4)"
      ],
      "metadata": {
        "id": "cLmZjN2mMw1f"
      },
      "execution_count": null,
      "outputs": []
    },
    {
      "cell_type": "code",
      "metadata": {
        "id": "xotvQ1IuY_iD"
      },
      "source": [
        "# tensor.shape"
      ],
      "execution_count": null,
      "outputs": []
    },
    {
      "cell_type": "code",
      "source": [
        "print(f'Tensor shape is: {my_tensor.shape}')\n",
        "print(f'Tensor size is: {my_tensor.size()}')"
      ],
      "metadata": {
        "colab": {
          "base_uri": "https://localhost:8080/"
        },
        "id": "rjZKf6FftPop",
        "outputId": "f2faf867-5902-4cf5-ee3f-2f3240be9f23"
      },
      "execution_count": null,
      "outputs": [
        {
          "output_type": "stream",
          "name": "stdout",
          "text": [
            "Tensor shape is: torch.Size([3, 4])\n",
            "Tensor size is: torch.Size([3, 4])\n"
          ]
        }
      ]
    },
    {
      "cell_type": "code",
      "metadata": {
        "id": "U1RQxvLsIzzJ"
      },
      "source": [
        "# tensor.dtype"
      ],
      "execution_count": null,
      "outputs": []
    },
    {
      "cell_type": "code",
      "source": [
        "print(f'Tensor data type: {my_tensor.dtype}')"
      ],
      "metadata": {
        "colab": {
          "base_uri": "https://localhost:8080/"
        },
        "id": "QlRrgMXgtQzF",
        "outputId": "62f1c020-9fe2-400d-e023-c1528f5e686e"
      },
      "execution_count": null,
      "outputs": [
        {
          "output_type": "stream",
          "name": "stdout",
          "text": [
            "Tensor data type: torch.float32\n"
          ]
        }
      ]
    },
    {
      "cell_type": "code",
      "metadata": {
        "id": "PwxMsWGCI2qy"
      },
      "source": [
        "# tensor.device"
      ],
      "execution_count": null,
      "outputs": []
    },
    {
      "cell_type": "code",
      "source": [
        "print(f'Tensor device: {my_tensor.device}')"
      ],
      "metadata": {
        "colab": {
          "base_uri": "https://localhost:8080/"
        },
        "id": "Ze2Axk18tTC4",
        "outputId": "cdc007a9-0eba-439c-afd5-b3927ff4bc00"
      },
      "execution_count": null,
      "outputs": [
        {
          "output_type": "stream",
          "name": "stdout",
          "text": [
            "Tensor device: cpu\n"
          ]
        }
      ]
    },
    {
      "cell_type": "code",
      "source": [
        "device = 'cuda' if torch.cuda.is_available() else 'cpu'"
      ],
      "metadata": {
        "id": "bntVyEX_yoWN"
      },
      "execution_count": null,
      "outputs": []
    },
    {
      "cell_type": "code",
      "source": [
        "device"
      ],
      "metadata": {
        "colab": {
          "base_uri": "https://localhost:8080/",
          "height": 39
        },
        "id": "MsiKRwkYzORz",
        "outputId": "363367c2-bd77-4dfd-e9e6-da813244051f"
      },
      "execution_count": null,
      "outputs": [
        {
          "output_type": "execute_result",
          "data": {
            "text/plain": [
              "'cuda'"
            ],
            "application/vnd.google.colaboratory.intrinsic+json": {
              "type": "string"
            }
          },
          "metadata": {},
          "execution_count": 7
        }
      ]
    },
    {
      "cell_type": "code",
      "source": [
        "my_tensor.to(device)"
      ],
      "metadata": {
        "colab": {
          "base_uri": "https://localhost:8080/"
        },
        "id": "9j37fkS2zsJR",
        "outputId": "a444c154-7878-4f82-b404-8fe72f32a2b2"
      },
      "execution_count": null,
      "outputs": [
        {
          "output_type": "execute_result",
          "data": {
            "text/plain": [
              "tensor([[0.6717, 0.1307, 0.3599, 0.3905],\n",
              "        [0.9712, 0.6706, 0.8477, 0.6572],\n",
              "        [0.8602, 0.5157, 0.3729, 0.8928]], device='cuda:0')"
            ]
          },
          "metadata": {},
          "execution_count": 8
        }
      ]
    },
    {
      "cell_type": "code",
      "source": [
        "!nvidia-smi"
      ],
      "metadata": {
        "colab": {
          "base_uri": "https://localhost:8080/"
        },
        "id": "I74smSVp0a05",
        "outputId": "64d2d8ab-bf8e-4a3c-d1d5-e512eb021315"
      },
      "execution_count": null,
      "outputs": [
        {
          "output_type": "stream",
          "name": "stdout",
          "text": [
            "Sun Apr 17 09:19:30 2022       \n",
            "+-----------------------------------------------------------------------------+\n",
            "| NVIDIA-SMI 460.32.03    Driver Version: 460.32.03    CUDA Version: 11.2     |\n",
            "|-------------------------------+----------------------+----------------------+\n",
            "| GPU  Name        Persistence-M| Bus-Id        Disp.A | Volatile Uncorr. ECC |\n",
            "| Fan  Temp  Perf  Pwr:Usage/Cap|         Memory-Usage | GPU-Util  Compute M. |\n",
            "|                               |                      |               MIG M. |\n",
            "|===============================+======================+======================|\n",
            "|   0  Tesla T4            Off  | 00000000:00:04.0 Off |                    0 |\n",
            "| N/A   54C    P0    29W /  70W |   1322MiB / 15109MiB |      0%      Default |\n",
            "|                               |                      |                  N/A |\n",
            "+-------------------------------+----------------------+----------------------+\n",
            "                                                                               \n",
            "+-----------------------------------------------------------------------------+\n",
            "| Processes:                                                                  |\n",
            "|  GPU   GI   CI        PID   Type   Process name                  GPU Memory |\n",
            "|        ID   ID                                                   Usage      |\n",
            "|=============================================================================|\n",
            "+-----------------------------------------------------------------------------+\n"
          ]
        }
      ]
    },
    {
      "cell_type": "markdown",
      "metadata": {
        "id": "0gqHWc1YZzs2"
      },
      "source": [
        "# **Operations**"
      ]
    },
    {
      "cell_type": "markdown",
      "metadata": {
        "id": "bnqRbKBkZ9gP"
      },
      "source": [
        "## Indexing and Slicing"
      ]
    },
    {
      "cell_type": "code",
      "source": [
        "tensor = torch.randint(1, 10, (4, 4))"
      ],
      "metadata": {
        "id": "1uN2VP4BtYu5"
      },
      "execution_count": null,
      "outputs": []
    },
    {
      "cell_type": "code",
      "source": [
        "tensor"
      ],
      "metadata": {
        "colab": {
          "base_uri": "https://localhost:8080/"
        },
        "id": "vr6QYwiQsb3t",
        "outputId": "48a01a8c-ace1-4dfa-c1c2-16914baa351e"
      },
      "execution_count": null,
      "outputs": [
        {
          "output_type": "execute_result",
          "data": {
            "text/plain": [
              "tensor([[5, 3, 6, 3],\n",
              "        [1, 6, 9, 9],\n",
              "        [1, 4, 2, 4],\n",
              "        [7, 2, 7, 6]])"
            ]
          },
          "metadata": {},
          "execution_count": 4
        }
      ]
    },
    {
      "cell_type": "code",
      "source": [
        "print(f'First row: ', tensor[0])"
      ],
      "metadata": {
        "colab": {
          "base_uri": "https://localhost:8080/"
        },
        "id": "j7jmgqUXse9V",
        "outputId": "6021dcd1-e31a-49e3-b5b0-40d7dc3fd16d"
      },
      "execution_count": null,
      "outputs": [
        {
          "output_type": "stream",
          "name": "stdout",
          "text": [
            "First row:  tensor([5, 3, 6, 3])\n"
          ]
        }
      ]
    },
    {
      "cell_type": "code",
      "source": [
        "print(f'First Column: ', tensor[:, 0])"
      ],
      "metadata": {
        "colab": {
          "base_uri": "https://localhost:8080/"
        },
        "id": "_qW2acbFsuB_",
        "outputId": "1813a5d1-4362-4416-b87d-d97665679555"
      },
      "execution_count": null,
      "outputs": [
        {
          "output_type": "stream",
          "name": "stdout",
          "text": [
            "First Column:  tensor([5, 1, 1, 7])\n"
          ]
        }
      ]
    },
    {
      "cell_type": "code",
      "source": [
        "tensor[-1:, -1:]"
      ],
      "metadata": {
        "colab": {
          "base_uri": "https://localhost:8080/"
        },
        "id": "UiL5YHZmtSlU",
        "outputId": "4caae0ea-d928-4112-b84a-d90d464ff882"
      },
      "execution_count": null,
      "outputs": [
        {
          "output_type": "execute_result",
          "data": {
            "text/plain": [
              "tensor([[6]])"
            ]
          },
          "metadata": {},
          "execution_count": 7
        }
      ]
    },
    {
      "cell_type": "code",
      "source": [
        "tensor[:, 1] = 5"
      ],
      "metadata": {
        "id": "AOIlqO9TtxZN"
      },
      "execution_count": null,
      "outputs": []
    },
    {
      "cell_type": "code",
      "source": [
        "tensor"
      ],
      "metadata": {
        "colab": {
          "base_uri": "https://localhost:8080/"
        },
        "id": "PCq2FxZIt2RF",
        "outputId": "25308f60-2a1b-4795-9783-24f94e8c9329"
      },
      "execution_count": null,
      "outputs": [
        {
          "output_type": "execute_result",
          "data": {
            "text/plain": [
              "tensor([[5, 5, 6, 3],\n",
              "        [1, 5, 9, 9],\n",
              "        [1, 5, 2, 4],\n",
              "        [7, 5, 7, 6]])"
            ]
          },
          "metadata": {},
          "execution_count": 11
        }
      ]
    },
    {
      "cell_type": "markdown",
      "metadata": {
        "id": "zwEucwgUaD72"
      },
      "source": [
        "## Joining tensors\n",
        "\n",
        "* `torch.cat()` \n",
        "* `torch.stack()`"
      ]
    },
    {
      "cell_type": "code",
      "source": [
        "a = torch.randint(1, 5, (4, 4))\n",
        "b = torch.randint(5, 10, (4, 4))"
      ],
      "metadata": {
        "id": "BOnInM_MuL7W"
      },
      "execution_count": null,
      "outputs": []
    },
    {
      "cell_type": "code",
      "metadata": {
        "id": "nWCHz2FoaO0G"
      },
      "source": [
        "# torch.cat()"
      ],
      "execution_count": null,
      "outputs": []
    },
    {
      "cell_type": "code",
      "source": [
        "cat_tensor = torch.cat((a, b), dim=0)"
      ],
      "metadata": {
        "id": "mXYcuHkWtdX9"
      },
      "execution_count": null,
      "outputs": []
    },
    {
      "cell_type": "code",
      "source": [
        "cat_tensor"
      ],
      "metadata": {
        "colab": {
          "base_uri": "https://localhost:8080/"
        },
        "id": "ivGGEh6FuqTo",
        "outputId": "dba2b5ee-ee6b-4562-d575-8b731af03454"
      },
      "execution_count": null,
      "outputs": [
        {
          "output_type": "execute_result",
          "data": {
            "text/plain": [
              "tensor([[4, 4, 4, 3],\n",
              "        [1, 2, 2, 1],\n",
              "        [4, 2, 4, 1],\n",
              "        [3, 2, 4, 1],\n",
              "        [8, 7, 8, 5],\n",
              "        [7, 9, 9, 5],\n",
              "        [7, 7, 6, 5],\n",
              "        [8, 5, 6, 8]])"
            ]
          },
          "metadata": {},
          "execution_count": 16
        }
      ]
    },
    {
      "cell_type": "code",
      "source": [
        "# torch.stack()"
      ],
      "metadata": {
        "id": "_hBmEWI1cNn-"
      },
      "execution_count": null,
      "outputs": []
    },
    {
      "cell_type": "code",
      "source": [
        "stack_tensor = torch.stack((a, b), dim=0)"
      ],
      "metadata": {
        "id": "7Gt4YHA5terl"
      },
      "execution_count": null,
      "outputs": []
    },
    {
      "cell_type": "code",
      "source": [
        "stack_tensor"
      ],
      "metadata": {
        "colab": {
          "base_uri": "https://localhost:8080/"
        },
        "id": "12bD3xfjvD5Z",
        "outputId": "f62839a7-10df-46a3-8fcb-8cd1c52807a8"
      },
      "execution_count": null,
      "outputs": [
        {
          "output_type": "execute_result",
          "data": {
            "text/plain": [
              "tensor([[[4, 4, 4, 3],\n",
              "         [1, 2, 2, 1],\n",
              "         [4, 2, 4, 1],\n",
              "         [3, 2, 4, 1]],\n",
              "\n",
              "        [[8, 7, 8, 5],\n",
              "         [7, 9, 9, 5],\n",
              "         [7, 7, 6, 5],\n",
              "         [8, 5, 6, 8]]])"
            ]
          },
          "metadata": {},
          "execution_count": 22
        }
      ]
    },
    {
      "cell_type": "markdown",
      "metadata": {
        "id": "kRWpon55W4ls"
      },
      "source": [
        "## Reshaping a tensor\n",
        "* `torch.view()` \n",
        "* `torch.reshape()`\n",
        "* `torch.view_as()`"
      ]
    },
    {
      "cell_type": "code",
      "source": [
        "x = torch.rand(16)"
      ],
      "metadata": {
        "id": "6AlzLM5cv_W5"
      },
      "execution_count": null,
      "outputs": []
    },
    {
      "cell_type": "code",
      "metadata": {
        "id": "HE21xDp7XEyP"
      },
      "source": [
        "# torch.view()"
      ],
      "execution_count": null,
      "outputs": []
    },
    {
      "cell_type": "code",
      "source": [
        "y = x.view(4, 4)\n",
        "y"
      ],
      "metadata": {
        "colab": {
          "base_uri": "https://localhost:8080/"
        },
        "id": "85aBZIbNtgGF",
        "outputId": "d82b21c5-2caa-4a24-c4d9-5686517e3ae9"
      },
      "execution_count": null,
      "outputs": [
        {
          "output_type": "execute_result",
          "data": {
            "text/plain": [
              "tensor([[0.1250, 0.5114, 0.8498, 0.6031],\n",
              "        [0.0823, 0.0168, 0.0919, 0.1436],\n",
              "        [0.6534, 0.8182, 0.5274, 0.7185],\n",
              "        [0.4340, 0.5611, 0.0851, 0.4738]])"
            ]
          },
          "metadata": {},
          "execution_count": 24
        }
      ]
    },
    {
      "cell_type": "code",
      "metadata": {
        "id": "DshRcUITJBb-"
      },
      "source": [
        "# torch.reshape()"
      ],
      "execution_count": null,
      "outputs": []
    },
    {
      "cell_type": "code",
      "source": [
        "a = torch.arange(4)"
      ],
      "metadata": {
        "id": "F_-CcTd4tjbl"
      },
      "execution_count": null,
      "outputs": []
    },
    {
      "cell_type": "code",
      "source": [
        "a"
      ],
      "metadata": {
        "colab": {
          "base_uri": "https://localhost:8080/"
        },
        "id": "lGMkUeVZwq0S",
        "outputId": "184d6880-285a-40a4-d2cb-92a7dc286116"
      },
      "execution_count": null,
      "outputs": [
        {
          "output_type": "execute_result",
          "data": {
            "text/plain": [
              "tensor([0, 1, 2, 3])"
            ]
          },
          "metadata": {},
          "execution_count": 27
        }
      ]
    },
    {
      "cell_type": "code",
      "source": [
        "torch.reshape(a, (2, 2))"
      ],
      "metadata": {
        "colab": {
          "base_uri": "https://localhost:8080/"
        },
        "id": "wmN9OvnEwjUn",
        "outputId": "28526c67-5037-4a03-be7d-139ce0474f9e"
      },
      "execution_count": null,
      "outputs": [
        {
          "output_type": "execute_result",
          "data": {
            "text/plain": [
              "tensor([[0, 1],\n",
              "        [2, 3]])"
            ]
          },
          "metadata": {},
          "execution_count": 26
        }
      ]
    },
    {
      "cell_type": "code",
      "metadata": {
        "id": "lta_PRl1JENa"
      },
      "source": [
        "# torch.view_as()"
      ],
      "execution_count": null,
      "outputs": []
    },
    {
      "cell_type": "code",
      "source": [],
      "metadata": {
        "id": "Pa8B7GO5tlM9"
      },
      "execution_count": null,
      "outputs": []
    },
    {
      "cell_type": "markdown",
      "metadata": {
        "id": "0Jg2X0xoaTaS"
      },
      "source": [
        "## Arithmetic Operations\n"
      ]
    },
    {
      "cell_type": "code",
      "source": [
        "tensor_a = torch.tensor([[1, 2], [1, 3]])\n",
        "tensor_b = torch.tensor([[2, 3], [0, 4]])"
      ],
      "metadata": {
        "id": "HRQkK-23f_Pi"
      },
      "execution_count": null,
      "outputs": []
    },
    {
      "cell_type": "code",
      "source": [
        "# Addition"
      ],
      "metadata": {
        "id": "XjTJ3O4_a4FZ"
      },
      "execution_count": null,
      "outputs": []
    },
    {
      "cell_type": "code",
      "source": [
        "print(tensor_a + tensor_b)"
      ],
      "metadata": {
        "colab": {
          "base_uri": "https://localhost:8080/"
        },
        "id": "8pNIeWjStnOd",
        "outputId": "939d83c9-1f52-4d05-d3f4-4fa89278dda5"
      },
      "execution_count": null,
      "outputs": [
        {
          "output_type": "stream",
          "name": "stdout",
          "text": [
            "tensor([[3, 5],\n",
            "        [1, 7]])\n"
          ]
        }
      ]
    },
    {
      "cell_type": "code",
      "source": [
        "# Subtraction"
      ],
      "metadata": {
        "id": "R0_K4F7Xc5Zr"
      },
      "execution_count": null,
      "outputs": []
    },
    {
      "cell_type": "code",
      "source": [
        "print(tensor_a - tensor_b)"
      ],
      "metadata": {
        "colab": {
          "base_uri": "https://localhost:8080/"
        },
        "id": "ZZmw75Sltno9",
        "outputId": "ef1549a7-e161-4772-89e2-5db91f33ec5c"
      },
      "execution_count": null,
      "outputs": [
        {
          "output_type": "stream",
          "name": "stdout",
          "text": [
            "tensor([[-1, -1],\n",
            "        [ 1, -1]])\n"
          ]
        }
      ]
    },
    {
      "cell_type": "code",
      "source": [
        "# Multiplication"
      ],
      "metadata": {
        "id": "gyF7P6xIdEjY"
      },
      "execution_count": null,
      "outputs": []
    },
    {
      "cell_type": "code",
      "source": [
        "print(tensor_a * tensor_b)"
      ],
      "metadata": {
        "colab": {
          "base_uri": "https://localhost:8080/"
        },
        "id": "eY_WShdutpMp",
        "outputId": "b4b3f3fd-8a2d-44ed-cd9a-18706fd1d5ee"
      },
      "execution_count": null,
      "outputs": [
        {
          "output_type": "stream",
          "name": "stdout",
          "text": [
            "tensor([[ 2,  6],\n",
            "        [ 0, 12]])\n"
          ]
        }
      ]
    },
    {
      "cell_type": "code",
      "source": [
        "# Division"
      ],
      "metadata": {
        "id": "v3KAhpCMdIiv"
      },
      "execution_count": null,
      "outputs": []
    },
    {
      "cell_type": "code",
      "source": [
        "print(tensor_a / tensor_b)"
      ],
      "metadata": {
        "colab": {
          "base_uri": "https://localhost:8080/"
        },
        "id": "fcWBsW-ctqgV",
        "outputId": "8fab551e-0e1f-47a1-ce1a-b13d71439bce"
      },
      "execution_count": null,
      "outputs": [
        {
          "output_type": "stream",
          "name": "stdout",
          "text": [
            "tensor([[0.5000, 0.6667],\n",
            "        [   inf, 0.7500]])\n"
          ]
        }
      ]
    },
    {
      "cell_type": "code",
      "source": [
        "# Exponent"
      ],
      "metadata": {
        "id": "LXm55uEQdOZl"
      },
      "execution_count": null,
      "outputs": []
    },
    {
      "cell_type": "code",
      "source": [
        "print(tensor_a ** tensor_b)"
      ],
      "metadata": {
        "colab": {
          "base_uri": "https://localhost:8080/"
        },
        "id": "6oiPRYoltsEd",
        "outputId": "52bbfe25-981a-4c5d-f6c6-1eac728a87dd"
      },
      "execution_count": null,
      "outputs": [
        {
          "output_type": "stream",
          "name": "stdout",
          "text": [
            "tensor([[ 1,  8],\n",
            "        [ 1, 81]])\n"
          ]
        }
      ]
    },
    {
      "cell_type": "code",
      "source": [
        "# Matrix Multiplication"
      ],
      "metadata": {
        "id": "rXXrU6lxokKk"
      },
      "execution_count": null,
      "outputs": []
    },
    {
      "cell_type": "code",
      "source": [
        "mytensor = torch.randint(1, 5, (4, 4))"
      ],
      "metadata": {
        "id": "2_N2unmVts7M"
      },
      "execution_count": null,
      "outputs": []
    },
    {
      "cell_type": "code",
      "source": [
        "matrix_mul = mytensor @ mytensor.T"
      ],
      "metadata": {
        "id": "ULmzocV0-I6E"
      },
      "execution_count": null,
      "outputs": []
    },
    {
      "cell_type": "code",
      "source": [
        "print(matrix_mul)"
      ],
      "metadata": {
        "colab": {
          "base_uri": "https://localhost:8080/"
        },
        "id": "VnL-2EYP-QfH",
        "outputId": "fabde93c-0da2-4cc9-b335-9de3c3f925aa"
      },
      "execution_count": null,
      "outputs": [
        {
          "output_type": "stream",
          "name": "stdout",
          "text": [
            "tensor([[27, 31, 27, 22],\n",
            "        [31, 45, 40, 26],\n",
            "        [27, 40, 45, 27],\n",
            "        [22, 26, 27, 22]])\n"
          ]
        }
      ]
    },
    {
      "cell_type": "code",
      "source": [
        "matrix_mul_new = mytensor.matmul(mytensor.T)\n",
        "matrix_mul_new"
      ],
      "metadata": {
        "colab": {
          "base_uri": "https://localhost:8080/"
        },
        "id": "lKd8QHJy-W4P",
        "outputId": "6e89c636-0f16-4f6d-f5d2-2d8f311bb8a2"
      },
      "execution_count": null,
      "outputs": [
        {
          "output_type": "execute_result",
          "data": {
            "text/plain": [
              "tensor([[27, 31, 27, 22],\n",
              "        [31, 45, 40, 26],\n",
              "        [27, 40, 45, 27],\n",
              "        [22, 26, 27, 22]])"
            ]
          },
          "metadata": {},
          "execution_count": 14
        }
      ]
    },
    {
      "cell_type": "markdown",
      "metadata": {
        "id": "gCIki-GOa4q1"
      },
      "source": [
        "## Single-element tensors"
      ]
    },
    {
      "cell_type": "code",
      "metadata": {
        "id": "TKix-koNWyp_"
      },
      "source": [
        "# torch.item()"
      ],
      "execution_count": null,
      "outputs": []
    },
    {
      "cell_type": "code",
      "source": [
        "mytensor"
      ],
      "metadata": {
        "colab": {
          "base_uri": "https://localhost:8080/"
        },
        "id": "kl08gcNPtzVY",
        "outputId": "89f70130-8d9d-4793-f6c2-8648d5f228d5"
      },
      "execution_count": null,
      "outputs": [
        {
          "output_type": "execute_result",
          "data": {
            "text/plain": [
              "tensor([[4, 3, 1, 1],\n",
              "        [4, 3, 4, 2],\n",
              "        [2, 4, 3, 4],\n",
              "        [2, 4, 1, 1]])"
            ]
          },
          "metadata": {},
          "execution_count": 15
        }
      ]
    },
    {
      "cell_type": "code",
      "source": [
        "agg = mytensor.sum()\n",
        "agg"
      ],
      "metadata": {
        "colab": {
          "base_uri": "https://localhost:8080/"
        },
        "id": "7NLSdGgx_tYO",
        "outputId": "9c7963a3-d0fd-4c52-810e-3f4f9a13e307"
      },
      "execution_count": null,
      "outputs": [
        {
          "output_type": "execute_result",
          "data": {
            "text/plain": [
              "tensor(43)"
            ]
          },
          "metadata": {},
          "execution_count": 16
        }
      ]
    },
    {
      "cell_type": "code",
      "source": [
        "agg_item = agg.item()\n",
        "print(agg_item, type(agg_item))"
      ],
      "metadata": {
        "colab": {
          "base_uri": "https://localhost:8080/"
        },
        "id": "_qliuecyAADH",
        "outputId": "b740b31e-e930-433f-c53a-34f51838e8a7"
      },
      "execution_count": null,
      "outputs": [
        {
          "output_type": "stream",
          "name": "stdout",
          "text": [
            "43 <class 'int'>\n"
          ]
        }
      ]
    },
    {
      "cell_type": "markdown",
      "metadata": {
        "id": "UwVyWj4jbCpi"
      },
      "source": [
        "## In-place Operations\n",
        "\n",
        "\n",
        "\n",
        "\n"
      ]
    },
    {
      "cell_type": "code",
      "source": [
        "x = torch.rand(1)\n",
        "y = torch.rand(1)"
      ],
      "metadata": {
        "id": "qoXk7qXJt2NE"
      },
      "execution_count": null,
      "outputs": []
    },
    {
      "cell_type": "code",
      "source": [
        "x, y"
      ],
      "metadata": {
        "colab": {
          "base_uri": "https://localhost:8080/"
        },
        "id": "Ck4J4ZYKA3n8",
        "outputId": "d35664b8-b553-4c61-a042-cc2e6937e625"
      },
      "execution_count": null,
      "outputs": [
        {
          "output_type": "execute_result",
          "data": {
            "text/plain": [
              "(tensor([0.2785]), tensor([0.2947]))"
            ]
          },
          "metadata": {},
          "execution_count": 20
        }
      ]
    },
    {
      "cell_type": "code",
      "source": [
        "# Noraml Addition"
      ],
      "metadata": {
        "id": "L82aYWGG3A80"
      },
      "execution_count": null,
      "outputs": []
    },
    {
      "cell_type": "code",
      "source": [
        "x + y"
      ],
      "metadata": {
        "colab": {
          "base_uri": "https://localhost:8080/"
        },
        "id": "BgWgrI2zt9WU",
        "outputId": "48a62ecd-a0c8-4eb1-ab45-74b047165b47"
      },
      "execution_count": null,
      "outputs": [
        {
          "output_type": "execute_result",
          "data": {
            "text/plain": [
              "tensor([0.5732])"
            ]
          },
          "metadata": {},
          "execution_count": 21
        }
      ]
    },
    {
      "cell_type": "code",
      "source": [
        "x"
      ],
      "metadata": {
        "colab": {
          "base_uri": "https://localhost:8080/"
        },
        "id": "Psm33vohBIuZ",
        "outputId": "e5403b39-cc30-4611-cbe3-fa6aaf97dd29"
      },
      "execution_count": null,
      "outputs": [
        {
          "output_type": "execute_result",
          "data": {
            "text/plain": [
              "tensor([0.2785])"
            ]
          },
          "metadata": {},
          "execution_count": 22
        }
      ]
    },
    {
      "cell_type": "code",
      "source": [
        "# In-place Addition"
      ],
      "metadata": {
        "id": "l14s61mQ3S1a"
      },
      "execution_count": null,
      "outputs": []
    },
    {
      "cell_type": "code",
      "source": [
        "x.add_(y)"
      ],
      "metadata": {
        "colab": {
          "base_uri": "https://localhost:8080/"
        },
        "id": "nupWDnfGuCKn",
        "outputId": "7f1db9bd-05ed-49c2-ecbd-b221fcae96e7"
      },
      "execution_count": null,
      "outputs": [
        {
          "output_type": "execute_result",
          "data": {
            "text/plain": [
              "tensor([0.5732])"
            ]
          },
          "metadata": {},
          "execution_count": 23
        }
      ]
    },
    {
      "cell_type": "code",
      "source": [
        "x"
      ],
      "metadata": {
        "colab": {
          "base_uri": "https://localhost:8080/"
        },
        "id": "T4aE04hPBTuc",
        "outputId": "ca378296-2d95-4353-c587-bb3754b95de6"
      },
      "execution_count": null,
      "outputs": [
        {
          "output_type": "execute_result",
          "data": {
            "text/plain": [
              "tensor([0.5732])"
            ]
          },
          "metadata": {},
          "execution_count": 24
        }
      ]
    },
    {
      "cell_type": "markdown",
      "source": [
        "## Other Operations\n",
        "\n"
      ],
      "metadata": {
        "id": "39CoCnQcVn0E"
      }
    },
    {
      "cell_type": "markdown",
      "source": [
        "* Common Functions\n",
        "* Trigonometric Functions\n",
        "* Bitwise Operations\n",
        "* Comparison Operations\n",
        "* Reduction Operations\n",
        "* Linear Algebra Operations\n",
        "\n",
        "\n",
        "|| Some Useful Operations||\n",
        "|:--- | :---: |  ---:  |\n",
        "|`torch.max()`|`torch.norm()`|`torch.ndimension`|\n",
        "|`torch.min()`|`torch.mean()`|`torch.remainder`|\n",
        "|`torch.sum()`|`torch.eq()`|`torch.where()`|\n",
        "|`torch.abs()`|`torch.clamp()`|`torch.numel()`|\n",
        "|`torch.argmax()`|`torch.sort()`|`torch.clone()`|\n",
        "|`torch.argmin()`|`torch.any()`|`torch.squeeze()`|\n",
        "|`torch.sqrt()`|`torch.all()`|`torch.unsqueeze()`|\n",
        "|`torch.exp()`|`torch.unique()`|`torch.t()`|\n"
      ],
      "metadata": {
        "id": "ylujeMkGMWdj"
      }
    },
    {
      "cell_type": "code",
      "source": [
        "a = torch.ones(2, 2)"
      ],
      "metadata": {
        "id": "pEzvwWcQoePQ"
      },
      "execution_count": null,
      "outputs": []
    },
    {
      "cell_type": "code",
      "source": [
        "b = a\n",
        "\n",
        "a[0][1] = 777\n",
        "\n",
        "print(b)"
      ],
      "metadata": {
        "colab": {
          "base_uri": "https://localhost:8080/"
        },
        "id": "ORj16lEF0K1v",
        "outputId": "ca07b6ae-68f7-45ed-f518-ed79387c3d92"
      },
      "execution_count": null,
      "outputs": [
        {
          "output_type": "stream",
          "name": "stdout",
          "text": [
            "tensor([[  1., 777.],\n",
            "        [  1.,   1.]])\n"
          ]
        }
      ]
    },
    {
      "cell_type": "code",
      "source": [
        "a = torch.ones(2, 2)\n",
        "b = a.clone()"
      ],
      "metadata": {
        "id": "_wSVxCG81H60"
      },
      "execution_count": null,
      "outputs": []
    },
    {
      "cell_type": "code",
      "source": [
        "assert b is not a\n",
        "print(torch.eq(a, b))"
      ],
      "metadata": {
        "colab": {
          "base_uri": "https://localhost:8080/"
        },
        "id": "vMQqwWlP1Rti",
        "outputId": "d206b003-0a64-4f91-9fed-2f72fe9abb8b"
      },
      "execution_count": null,
      "outputs": [
        {
          "output_type": "stream",
          "name": "stdout",
          "text": [
            "tensor([[True, True],\n",
            "        [True, True]])\n"
          ]
        }
      ]
    },
    {
      "cell_type": "code",
      "source": [
        "a[0][1] = 777\n",
        "print(b)"
      ],
      "metadata": {
        "colab": {
          "base_uri": "https://localhost:8080/"
        },
        "id": "Kjf5vC4Z1c5R",
        "outputId": "be4e82cd-eab1-4998-df31-e197ee4980b7"
      },
      "execution_count": null,
      "outputs": [
        {
          "output_type": "stream",
          "name": "stdout",
          "text": [
            "tensor([[1., 1.],\n",
            "        [1., 1.]])\n"
          ]
        }
      ]
    },
    {
      "cell_type": "code",
      "source": [
        "a = torch.rand(2, 2, requires_grad=True)\n",
        "print(a)"
      ],
      "metadata": {
        "colab": {
          "base_uri": "https://localhost:8080/"
        },
        "id": "CMH_L8NU12o8",
        "outputId": "80e6c8ff-56e8-4d13-826f-af6594498972"
      },
      "execution_count": null,
      "outputs": [
        {
          "output_type": "stream",
          "name": "stdout",
          "text": [
            "tensor([[0.9396, 0.3045],\n",
            "        [0.1695, 0.2155]], requires_grad=True)\n"
          ]
        }
      ]
    },
    {
      "cell_type": "code",
      "source": [
        "b = a.clone()\n",
        "print(b)"
      ],
      "metadata": {
        "colab": {
          "base_uri": "https://localhost:8080/"
        },
        "id": "Co7WZsdH2anm",
        "outputId": "8375cecb-e48d-4436-9942-ef283eea491b"
      },
      "execution_count": null,
      "outputs": [
        {
          "output_type": "stream",
          "name": "stdout",
          "text": [
            "tensor([[0.9396, 0.3045],\n",
            "        [0.1695, 0.2155]], grad_fn=<CloneBackward0>)\n"
          ]
        }
      ]
    },
    {
      "cell_type": "code",
      "source": [
        "c = a.detach().clone()\n",
        "print(c)"
      ],
      "metadata": {
        "colab": {
          "base_uri": "https://localhost:8080/"
        },
        "id": "Lth_b6sY2kEV",
        "outputId": "9191e7a3-e820-4665-f8b6-c101c589c50e"
      },
      "execution_count": null,
      "outputs": [
        {
          "output_type": "stream",
          "name": "stdout",
          "text": [
            "tensor([[0.9396, 0.3045],\n",
            "        [0.1695, 0.2155]])\n"
          ]
        }
      ]
    },
    {
      "cell_type": "code",
      "source": [
        "# 3 x 256 x 256 --> Image size\n",
        "\n",
        "# N x 3 x 256 x 256 --> N is the Batch size\n",
        "\n",
        "a = torch.rand(3, 256, 256)\n",
        "b = a.unsqueeze(0)\n",
        "\n",
        "print(a.shape)\n",
        "print(b.shape)"
      ],
      "metadata": {
        "colab": {
          "base_uri": "https://localhost:8080/"
        },
        "id": "breIGQ6E3DGl",
        "outputId": "87d282ce-72a0-480b-e1f1-28fde4aad269"
      },
      "execution_count": null,
      "outputs": [
        {
          "output_type": "stream",
          "name": "stdout",
          "text": [
            "torch.Size([3, 256, 256])\n",
            "torch.Size([1, 3, 256, 256])\n"
          ]
        }
      ]
    },
    {
      "cell_type": "code",
      "source": [
        "c = torch.rand(1, 1, 1, 1, 1, 1)\n",
        "print(c)"
      ],
      "metadata": {
        "colab": {
          "base_uri": "https://localhost:8080/"
        },
        "id": "HXddO3gP41wY",
        "outputId": "e6851a70-ca3a-4cb1-9c06-14fd32650e4f"
      },
      "execution_count": null,
      "outputs": [
        {
          "output_type": "stream",
          "name": "stdout",
          "text": [
            "tensor([[[[[[0.9192]]]]]])\n"
          ]
        }
      ]
    },
    {
      "cell_type": "code",
      "source": [
        "a = torch.rand(1, 20)\n",
        "print(a.shape)\n",
        "print(a)"
      ],
      "metadata": {
        "colab": {
          "base_uri": "https://localhost:8080/"
        },
        "id": "xgzJ5Vx45dtC",
        "outputId": "3ca6c2ad-793a-43f9-f4c1-d53727806759"
      },
      "execution_count": null,
      "outputs": [
        {
          "output_type": "stream",
          "name": "stdout",
          "text": [
            "torch.Size([1, 20])\n",
            "tensor([[0.1214, 0.0637, 0.7021, 0.7037, 0.9275, 0.2709, 0.4381, 0.0235, 0.1998,\n",
            "         0.7676, 0.0161, 0.5531, 0.0544, 0.4693, 0.2151, 0.5421, 0.6956, 0.2522,\n",
            "         0.9010, 0.9329]])\n"
          ]
        }
      ]
    },
    {
      "cell_type": "code",
      "source": [
        "b = a.squeeze(0)\n",
        "print(b.shape)\n",
        "print(b)"
      ],
      "metadata": {
        "colab": {
          "base_uri": "https://localhost:8080/"
        },
        "id": "jEJHtS8O5vWB",
        "outputId": "7ac44f6c-e4f8-484e-c471-2a4b01ef7842"
      },
      "execution_count": null,
      "outputs": [
        {
          "output_type": "stream",
          "name": "stdout",
          "text": [
            "torch.Size([20])\n",
            "tensor([0.1214, 0.0637, 0.7021, 0.7037, 0.9275, 0.2709, 0.4381, 0.0235, 0.1998,\n",
            "        0.7676, 0.0161, 0.5531, 0.0544, 0.4693, 0.2151, 0.5421, 0.6956, 0.2522,\n",
            "        0.9010, 0.9329])\n"
          ]
        }
      ]
    },
    {
      "cell_type": "code",
      "source": [],
      "metadata": {
        "id": "ID2aIaO05vGx"
      },
      "execution_count": null,
      "outputs": []
    },
    {
      "cell_type": "markdown",
      "metadata": {
        "id": "-pX3V0NbcHdH"
      },
      "source": [
        "# Interopreability"
      ]
    },
    {
      "cell_type": "markdown",
      "metadata": {
        "id": "9Tf1fSzWgIcO"
      },
      "source": [
        "## NumPy array to tensor"
      ]
    },
    {
      "cell_type": "code",
      "source": [
        "numpy_array = np.ones((2, 3))"
      ],
      "metadata": {
        "id": "DKeHhvRWY9J2"
      },
      "execution_count": null,
      "outputs": []
    },
    {
      "cell_type": "code",
      "source": [
        "print(numpy_array)"
      ],
      "metadata": {
        "colab": {
          "base_uri": "https://localhost:8080/"
        },
        "id": "UaTLJO5YVeqe",
        "outputId": "479cbd50-4443-473b-d382-f8c92e74ff32"
      },
      "execution_count": null,
      "outputs": [
        {
          "output_type": "stream",
          "name": "stdout",
          "text": [
            "[[1. 1. 1.]\n",
            " [1. 1. 1.]]\n"
          ]
        }
      ]
    },
    {
      "cell_type": "code",
      "source": [
        "pytorch_tensor = torch.from_numpy(numpy_array)\n",
        "print(pytorch_tensor)"
      ],
      "metadata": {
        "colab": {
          "base_uri": "https://localhost:8080/"
        },
        "id": "4ppt5XSZVgsq",
        "outputId": "3e189f76-205b-4772-964d-26edbfc1abdd"
      },
      "execution_count": null,
      "outputs": [
        {
          "output_type": "stream",
          "name": "stdout",
          "text": [
            "tensor([[1., 1., 1.],\n",
            "        [1., 1., 1.]], dtype=torch.float64)\n"
          ]
        }
      ]
    },
    {
      "cell_type": "code",
      "source": [
        "print(type(numpy_array), numpy_array.dtype)\n",
        "print(type(pytorch_tensor), pytorch_tensor.dtype)"
      ],
      "metadata": {
        "colab": {
          "base_uri": "https://localhost:8080/"
        },
        "id": "2skFctR5VpDU",
        "outputId": "3183347c-bd13-4465-ef82-3876cd3639b6"
      },
      "execution_count": null,
      "outputs": [
        {
          "output_type": "stream",
          "name": "stdout",
          "text": [
            "<class 'numpy.ndarray'> float64\n",
            "<class 'torch.Tensor'> torch.float64\n"
          ]
        }
      ]
    },
    {
      "cell_type": "code",
      "source": [
        "pytorch_rand = torch.rand(2, 3)\n",
        "print(pytorch_rand)"
      ],
      "metadata": {
        "colab": {
          "base_uri": "https://localhost:8080/"
        },
        "id": "25-TwMALWFyf",
        "outputId": "6c203172-01b0-4899-cac5-982d8fff423e"
      },
      "execution_count": null,
      "outputs": [
        {
          "output_type": "stream",
          "name": "stdout",
          "text": [
            "tensor([[0.3919, 0.7407, 0.9717],\n",
            "        [0.8726, 0.4670, 0.4441]])\n"
          ]
        }
      ]
    },
    {
      "cell_type": "code",
      "source": [
        "numpy_rand = pytorch_rand.numpy()\n",
        "print(numpy_rand)"
      ],
      "metadata": {
        "colab": {
          "base_uri": "https://localhost:8080/"
        },
        "id": "tv3bauOkWrhm",
        "outputId": "9fc53c41-f544-4d20-b909-232a850c53e8"
      },
      "execution_count": null,
      "outputs": [
        {
          "output_type": "stream",
          "name": "stdout",
          "text": [
            "[[0.39187533 0.74065554 0.9716718 ]\n",
            " [0.8726039  0.4669969  0.44406956]]\n"
          ]
        }
      ]
    },
    {
      "cell_type": "code",
      "source": [],
      "metadata": {
        "id": "M3G77TEEW8ZX"
      },
      "execution_count": null,
      "outputs": []
    }
  ]
}
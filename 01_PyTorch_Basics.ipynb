{
  "nbformat": 4,
  "nbformat_minor": 0,
  "metadata": {
    "colab": {
      "name": "PyTorch_Basics.ipynb",
      "provenance": [],
      "authorship_tag": "ABX9TyMEnVwcwgteml8f6UTlf0WR",
      "include_colab_link": true
    },
    "kernelspec": {
      "name": "python3",
      "display_name": "Python 3"
    },
    "language_info": {
      "name": "python"
    }
  },
  "cells": [
    {
      "cell_type": "markdown",
      "metadata": {
        "id": "view-in-github",
        "colab_type": "text"
      },
      "source": [
        "<a href=\"https://colab.research.google.com/github/ArstmN/Pytorch_DL_FaraDars/blob/main/Lesson01_PyTorch_Basics.ipynb\" target=\"_parent\"><img src=\"https://colab.research.google.com/assets/colab-badge.svg\" alt=\"Open In Colab\"/></a>"
      ]
    },
    {
      "cell_type": "markdown",
      "metadata": {
        "id": "oAtL2_7-RuXB"
      },
      "source": [
        "# Tensor Initialisation\n",
        "* From NumPy arrays\n",
        "* With random or constant value\n",
        "* Creating tensors from ranges\n",
        "* Attributes \n",
        "\n",
        "# Operations\n",
        "* Indexing and Slicing\n",
        "* Joining Tensors\n",
        "* Arithmetic Operations\n",
        "* Single-element tensors\n",
        "* In-place Operations\n",
        "* Other Operations\n",
        "\n",
        "# Interoperability with NumPy\n",
        "* NumPy array to tensor\n",
        "\n"
      ]
    },
    {
      "cell_type": "code",
      "metadata": {
        "id": "qaKYNpaDPyEe"
      },
      "source": [
        "# Imports"
      ],
      "execution_count": null,
      "outputs": []
    },
    {
      "cell_type": "code",
      "metadata": {
        "id": "e8pnrA74QO5z"
      },
      "source": [
        "import torch\n",
        "import numpy as np"
      ],
      "execution_count": null,
      "outputs": []
    },
    {
      "cell_type": "code",
      "metadata": {
        "id": "T2cKUzQeNnTH"
      },
      "source": [
        "torch.__version__"
      ],
      "execution_count": null,
      "outputs": []
    },
    {
      "cell_type": "markdown",
      "metadata": {
        "id": "b-qKUMw7T59Q"
      },
      "source": [
        "## From NumPy arrays\n",
        "---\n",
        "* `torch.from_numpy()`\n",
        "* `torch.as_tensor()`\n",
        "* `torch.tensor()`"
      ]
    },
    {
      "cell_type": "code",
      "metadata": {
        "id": "8EEnArbYXtvD"
      },
      "source": [
        "# Creating NumPy arrays (a, b, c)"
      ],
      "execution_count": null,
      "outputs": []
    },
    {
      "cell_type": "code",
      "metadata": {
        "id": "N2LyaXxpX1-f"
      },
      "source": [
        "a = np.arange(1, 6)"
      ],
      "execution_count": null,
      "outputs": []
    },
    {
      "cell_type": "code",
      "metadata": {
        "id": "8Q6bYxYMX2qA"
      },
      "source": [
        "b = np.arange(1, 6)\n",
        "type(b)"
      ],
      "execution_count": null,
      "outputs": []
    },
    {
      "cell_type": "code",
      "metadata": {
        "id": "cl3NqLYiX27o"
      },
      "source": [
        "c = np.arange(1, 6)"
      ],
      "execution_count": null,
      "outputs": []
    },
    {
      "cell_type": "code",
      "metadata": {
        "id": "lCOCXp4leNL5"
      },
      "source": [
        "# torch.from_numpy()"
      ],
      "execution_count": null,
      "outputs": []
    },
    {
      "cell_type": "code",
      "metadata": {
        "id": "G3KoInnOX8Ta"
      },
      "source": [
        "a_tensor = torch.from_numpy(a)\n",
        "print(a_tensor)\n",
        "type(a_tensor)"
      ],
      "execution_count": null,
      "outputs": []
    },
    {
      "cell_type": "code",
      "metadata": {
        "id": "hvicbicBHIUt"
      },
      "source": [
        "# torch.as_tensor()"
      ],
      "execution_count": null,
      "outputs": []
    },
    {
      "cell_type": "code",
      "metadata": {
        "id": "LQYbkCNeVkrY"
      },
      "source": [
        "b_tensor = torch.as_tensor(b)\n",
        "print(b_tensor)\n",
        "type(b_tensor)"
      ],
      "execution_count": null,
      "outputs": []
    },
    {
      "cell_type": "code",
      "metadata": {
        "id": "9Ai0cpG1YCYk"
      },
      "source": [
        "# torch.tensor()"
      ],
      "execution_count": null,
      "outputs": []
    },
    {
      "cell_type": "code",
      "metadata": {
        "id": "lR-5zWwDYEaM"
      },
      "source": [
        "c_tensor = torch.tensor(c)\n",
        "print(c_tensor)\n",
        "type(c_tensor)"
      ],
      "execution_count": null,
      "outputs": []
    },
    {
      "cell_type": "code",
      "metadata": {
        "id": "HZWWc1g8aIqW"
      },
      "source": [
        "z = np.arange(4)\n",
        "z_tensor = torch.from_numpy(z)\n",
        "print(z_tensor)"
      ],
      "execution_count": null,
      "outputs": []
    },
    {
      "cell_type": "code",
      "metadata": {
        "id": "VgFXnSCWaXWV"
      },
      "source": [
        "z[2] = 100\n",
        "z"
      ],
      "execution_count": null,
      "outputs": []
    },
    {
      "cell_type": "code",
      "metadata": {
        "id": "WYEgXEfWah-X"
      },
      "source": [
        "print(z_tensor)"
      ],
      "execution_count": null,
      "outputs": []
    },
    {
      "cell_type": "markdown",
      "metadata": {
        "id": "m6U6bpsGVYQu"
      },
      "source": [
        "## With random or constant values\n",
        "---\n",
        "* `torch.zeros()`\n",
        "* `torch.ones()`\n",
        "* `torch.eye()`\n",
        "* `torch.rand()`\n",
        "* `torch.randn()`\n",
        "* `torch.randint()`\n",
        "* `torch.rand_like()`\n",
        "* `torch.randn_like()`\n",
        "* `torch.randint_like()`\n",
        "* `torch.empty()`\n",
        "* `torch.diag()`"
      ]
    },
    {
      "cell_type": "code",
      "metadata": {
        "id": "GtsKJBe8c41X"
      },
      "source": [
        "# Code Here!"
      ],
      "execution_count": null,
      "outputs": []
    },
    {
      "cell_type": "code",
      "metadata": {
        "id": "xvWSmPmxeMCC"
      },
      "source": [
        "# torch.zeros()"
      ],
      "execution_count": null,
      "outputs": []
    },
    {
      "cell_type": "code",
      "metadata": {
        "id": "jh5nl0vVHiJx"
      },
      "source": [
        "zeros_tensor = torch.zeros((3, 3))\n",
        "print(zeros_tensor)"
      ],
      "execution_count": null,
      "outputs": []
    },
    {
      "cell_type": "code",
      "metadata": {
        "id": "QU7Sl2wuHimV"
      },
      "source": [
        "# torch.ones()"
      ],
      "execution_count": null,
      "outputs": []
    },
    {
      "cell_type": "code",
      "metadata": {
        "id": "egmM5X6HHklY"
      },
      "source": [
        "ones_tensor = torch.ones((4, 4))\n",
        "ones_tensor"
      ],
      "execution_count": null,
      "outputs": []
    },
    {
      "cell_type": "code",
      "metadata": {
        "id": "7iNlfRboHlCj"
      },
      "source": [
        "# torch.eye()"
      ],
      "execution_count": null,
      "outputs": []
    },
    {
      "cell_type": "code",
      "metadata": {
        "id": "PdAXLjkJHn_x"
      },
      "source": [
        "eye_tensor = torch.eye(4, 4)\n",
        "eye_tensor"
      ],
      "execution_count": null,
      "outputs": []
    },
    {
      "cell_type": "code",
      "metadata": {
        "id": "bJN-NRwdHoSO"
      },
      "source": [
        "# torch.rand()"
      ],
      "execution_count": null,
      "outputs": []
    },
    {
      "cell_type": "code",
      "metadata": {
        "id": "U7i4izGzHsH7"
      },
      "source": [
        "rand_tensor = torch.rand((4, 4))\n",
        "rand_tensor"
      ],
      "execution_count": null,
      "outputs": []
    },
    {
      "cell_type": "code",
      "metadata": {
        "id": "CmFB24beHsXK"
      },
      "source": [
        "# torch.randn()"
      ],
      "execution_count": null,
      "outputs": []
    },
    {
      "cell_type": "code",
      "metadata": {
        "id": "vEVRzsmWHuge"
      },
      "source": [
        "randn_tensor = torch.randn((3, 3))\n",
        "randn_tensor"
      ],
      "execution_count": null,
      "outputs": []
    },
    {
      "cell_type": "code",
      "metadata": {
        "id": "cfVOD56WHuxu"
      },
      "source": [
        "# torch.randint()"
      ],
      "execution_count": null,
      "outputs": []
    },
    {
      "cell_type": "code",
      "metadata": {
        "id": "7vzRWNEjH2__"
      },
      "source": [
        "randint_tensor = torch.randint(1, 10, (5, 5))\n",
        "randint_tensor"
      ],
      "execution_count": null,
      "outputs": []
    },
    {
      "cell_type": "code",
      "metadata": {
        "id": "oqMCEXhkH4ie"
      },
      "source": [
        "# torch.rand_like()"
      ],
      "execution_count": null,
      "outputs": []
    },
    {
      "cell_type": "code",
      "metadata": {
        "id": "WgTjPpKxH-OA"
      },
      "source": [
        "ref = torch.tensor((10, 10), dtype=torch.float32)"
      ],
      "execution_count": null,
      "outputs": []
    },
    {
      "cell_type": "code",
      "metadata": {
        "id": "EGOZsbqOcRTG"
      },
      "source": [
        "rand_like_tensor = torch.rand_like(ref)\n",
        "rand_like_tensor"
      ],
      "execution_count": null,
      "outputs": []
    },
    {
      "cell_type": "code",
      "metadata": {
        "id": "-PNky8RhdRKT"
      },
      "source": [
        "y = torch.zeros((3, 5))"
      ],
      "execution_count": null,
      "outputs": []
    },
    {
      "cell_type": "code",
      "metadata": {
        "id": "MpcMdkQydfXU"
      },
      "source": [
        "rand_like_tensor = torch.rand_like(y)\n",
        "rand_like_tensor"
      ],
      "execution_count": null,
      "outputs": []
    },
    {
      "cell_type": "code",
      "metadata": {
        "id": "yr7xm_WGH-d7"
      },
      "source": [
        "# torch.randn_like()"
      ],
      "execution_count": null,
      "outputs": []
    },
    {
      "cell_type": "code",
      "metadata": {
        "id": "BuKEF5vPIC9A"
      },
      "source": [
        "randn_like_tensor = torch.randn_like(y)\n",
        "randn_like_tensor"
      ],
      "execution_count": null,
      "outputs": []
    },
    {
      "cell_type": "code",
      "metadata": {
        "id": "RQQZyde6IDek"
      },
      "source": [
        "# torch.randint_like()"
      ],
      "execution_count": null,
      "outputs": []
    },
    {
      "cell_type": "code",
      "metadata": {
        "id": "3inyojHBILKq"
      },
      "source": [
        "randint_like_tensor = torch.randint_like(y, 1, 10)\n",
        "randint_like_tensor"
      ],
      "execution_count": null,
      "outputs": []
    },
    {
      "cell_type": "code",
      "metadata": {
        "id": "7X-v1-tSedYn"
      },
      "source": [
        "# torch.zeros_like()\n",
        "# torch.ones_like()"
      ],
      "execution_count": null,
      "outputs": []
    },
    {
      "cell_type": "code",
      "metadata": {
        "id": "ts47_SmaILeN"
      },
      "source": [
        "# torch.empty()"
      ],
      "execution_count": null,
      "outputs": []
    },
    {
      "cell_type": "code",
      "metadata": {
        "id": "pQdhO-VfIP6k"
      },
      "source": [
        "empty_tensor = torch.empty(3, 3)\n",
        "empty_tensor "
      ],
      "execution_count": null,
      "outputs": []
    },
    {
      "cell_type": "code",
      "metadata": {
        "id": "LQFG7xsfIQE2"
      },
      "source": [
        "# torch.diag()"
      ],
      "execution_count": null,
      "outputs": []
    },
    {
      "cell_type": "code",
      "metadata": {
        "id": "Mk2OmNzmISnl"
      },
      "source": [
        "diag = torch.randn(3)\n",
        "diag\n",
        "torch.diag(diag)"
      ],
      "execution_count": null,
      "outputs": []
    },
    {
      "cell_type": "markdown",
      "metadata": {
        "id": "h7ZDiHHHX5WX"
      },
      "source": [
        "## Creating tensors from ranges\n",
        "---\n",
        "\n",
        "* `torch.arange()`\n",
        "* `torch.linspace()`\n",
        "\n",
        "\n",
        "\n"
      ]
    },
    {
      "cell_type": "code",
      "metadata": {
        "id": "ckHjjTmtYbic"
      },
      "source": [
        "# Code Here!"
      ],
      "execution_count": null,
      "outputs": []
    },
    {
      "cell_type": "code",
      "metadata": {
        "id": "hM006X4UYb8H"
      },
      "source": [
        "# torch.arange()"
      ],
      "execution_count": null,
      "outputs": []
    },
    {
      "cell_type": "code",
      "metadata": {
        "id": "5EJnmxuyIg3n"
      },
      "source": [
        "x = torch.arange(0, 18, 2).reshape(3, 3)\n",
        "print(x)"
      ],
      "execution_count": null,
      "outputs": []
    },
    {
      "cell_type": "code",
      "metadata": {
        "id": "QQ3g7pFQIhLQ"
      },
      "source": [
        "# torch.linspace()"
      ],
      "execution_count": null,
      "outputs": []
    },
    {
      "cell_type": "code",
      "metadata": {
        "id": "4kFMl-PaIkHO"
      },
      "source": [
        "x = torch.linspace(0, 18, 12, device=\"cuda\").reshape(3, 4)\n",
        "print(x)"
      ],
      "execution_count": null,
      "outputs": []
    },
    {
      "cell_type": "markdown",
      "metadata": {
        "id": "KgZsJqiwYe2x"
      },
      "source": [
        "## Attributes\n",
        "---\n",
        "* `tensor.shape`\n",
        "* `tensor.size()`\n",
        "* `tensor.device`"
      ]
    },
    {
      "cell_type": "code",
      "metadata": {
        "id": "4HhTfLXhY7w1"
      },
      "source": [
        "# Code Here!"
      ],
      "execution_count": null,
      "outputs": []
    },
    {
      "cell_type": "code",
      "metadata": {
        "id": "xotvQ1IuY_iD"
      },
      "source": [
        "# tensor.shape"
      ],
      "execution_count": null,
      "outputs": []
    },
    {
      "cell_type": "code",
      "metadata": {
        "id": "3J5SCAkyIzix"
      },
      "source": [
        "x.shape"
      ],
      "execution_count": null,
      "outputs": []
    },
    {
      "cell_type": "code",
      "metadata": {
        "id": "U1RQxvLsIzzJ"
      },
      "source": [
        "# tensor.size()"
      ],
      "execution_count": null,
      "outputs": []
    },
    {
      "cell_type": "code",
      "metadata": {
        "id": "2jhrGCQoI2gu"
      },
      "source": [
        "x.size()"
      ],
      "execution_count": null,
      "outputs": []
    },
    {
      "cell_type": "code",
      "metadata": {
        "id": "PwxMsWGCI2qy"
      },
      "source": [
        "# tensor.device"
      ],
      "execution_count": null,
      "outputs": []
    },
    {
      "cell_type": "code",
      "metadata": {
        "id": "Bkpu9L-uI52A"
      },
      "source": [
        "x.device"
      ],
      "execution_count": null,
      "outputs": []
    },
    {
      "cell_type": "markdown",
      "metadata": {
        "id": "0gqHWc1YZzs2"
      },
      "source": [
        "# Operations"
      ]
    },
    {
      "cell_type": "markdown",
      "metadata": {
        "id": "bnqRbKBkZ9gP"
      },
      "source": [
        "## Indexing and Slicing"
      ]
    },
    {
      "cell_type": "code",
      "metadata": {
        "id": "cJ7OgjcuaDcd"
      },
      "source": [
        "# Code Here!"
      ],
      "execution_count": null,
      "outputs": []
    },
    {
      "cell_type": "code",
      "metadata": {
        "id": "24m3281TaJA2"
      },
      "source": [
        ""
      ],
      "execution_count": null,
      "outputs": []
    },
    {
      "cell_type": "markdown",
      "metadata": {
        "id": "zwEucwgUaD72"
      },
      "source": [
        "## Joining tensors"
      ]
    },
    {
      "cell_type": "code",
      "metadata": {
        "id": "hfTQHgzIaOkr"
      },
      "source": [
        "# Code Here!"
      ],
      "execution_count": null,
      "outputs": []
    },
    {
      "cell_type": "code",
      "metadata": {
        "id": "nWCHz2FoaO0G"
      },
      "source": [
        ""
      ],
      "execution_count": null,
      "outputs": []
    },
    {
      "cell_type": "markdown",
      "metadata": {
        "id": "kRWpon55W4ls"
      },
      "source": [
        "## Reshaping a tensor\n",
        "* `torch.view()` \n",
        "* `torch.reshape()`\n",
        "* `torch.view_as()`"
      ]
    },
    {
      "cell_type": "code",
      "metadata": {
        "id": "POJ0JdhWW-2f"
      },
      "source": [
        "# Code Here!"
      ],
      "execution_count": null,
      "outputs": []
    },
    {
      "cell_type": "code",
      "metadata": {
        "id": "HE21xDp7XEyP"
      },
      "source": [
        "# torch.view()"
      ],
      "execution_count": null,
      "outputs": []
    },
    {
      "cell_type": "code",
      "metadata": {
        "id": "x7mOHKXtJBTV"
      },
      "source": [
        ""
      ],
      "execution_count": null,
      "outputs": []
    },
    {
      "cell_type": "code",
      "metadata": {
        "id": "DshRcUITJBb-"
      },
      "source": [
        "# torch.reshape()"
      ],
      "execution_count": null,
      "outputs": []
    },
    {
      "cell_type": "code",
      "metadata": {
        "id": "VEmX-mdlJD5U"
      },
      "source": [
        ""
      ],
      "execution_count": null,
      "outputs": []
    },
    {
      "cell_type": "code",
      "metadata": {
        "id": "lta_PRl1JENa"
      },
      "source": [
        "# torch.view_as()"
      ],
      "execution_count": null,
      "outputs": []
    },
    {
      "cell_type": "markdown",
      "metadata": {
        "id": "0Jg2X0xoaTaS"
      },
      "source": [
        "## Arithmetic operations\n"
      ]
    },
    {
      "cell_type": "code",
      "metadata": {
        "id": "eASRjAEVaz-K"
      },
      "source": [
        "# Code Here!"
      ],
      "execution_count": null,
      "outputs": []
    },
    {
      "cell_type": "code",
      "metadata": {
        "id": "XjTJ3O4_a4FZ"
      },
      "source": [
        ""
      ],
      "execution_count": null,
      "outputs": []
    },
    {
      "cell_type": "markdown",
      "metadata": {
        "id": "gCIki-GOa4q1"
      },
      "source": [
        "## Single-element tensors"
      ]
    },
    {
      "cell_type": "code",
      "metadata": {
        "id": "Rp76xNVHbAO4"
      },
      "source": [
        "# Code Here!"
      ],
      "execution_count": null,
      "outputs": []
    },
    {
      "cell_type": "code",
      "metadata": {
        "id": "TKix-koNWyp_"
      },
      "source": [
        ""
      ],
      "execution_count": null,
      "outputs": []
    },
    {
      "cell_type": "markdown",
      "metadata": {
        "id": "UwVyWj4jbCpi"
      },
      "source": [
        "## In-place operations\n",
        "\n",
        "*   List item\n",
        "\n",
        "\n"
      ]
    },
    {
      "cell_type": "markdown",
      "metadata": {
        "id": "txiLWSeMUl79"
      },
      "source": [
        "## Other Operations\n",
        "---\n",
        "* `torch.max()`\n",
        "* `torch.min()`\n",
        "* `torch.sum()`\n",
        "* `torch.abs()`\n",
        "* `torch.argmax()`\n",
        "* `torch.argmin()`\n",
        "* `torch.sqrt()`\n",
        "* `torch.exp()`\n",
        "* `torch.norm()`\n",
        "* `torch.mean()`\n",
        "* `torch.eq()`\n",
        "* `torch.sort()`\n",
        "* `torch.clamp()`\n",
        "* `torch.any()`\n",
        "* `torch.all()`\n",
        "* `torch.remainder()`\n",
        "* `torch.where()`\n",
        "* `torch.unique()`\n",
        "* `torch.ndimension()`\n",
        "* `torch.numel()`\n",
        "* `torch.t()`\n",
        "\n",
        "\n"
      ]
    },
    {
      "cell_type": "code",
      "metadata": {
        "id": "FSfuYXFccD06"
      },
      "source": [
        "# Code Here!"
      ],
      "execution_count": null,
      "outputs": []
    },
    {
      "cell_type": "code",
      "metadata": {
        "id": "Bwx0eabbRzSt"
      },
      "source": [
        ""
      ],
      "execution_count": null,
      "outputs": []
    },
    {
      "cell_type": "markdown",
      "metadata": {
        "id": "-pX3V0NbcHdH"
      },
      "source": [
        "# Interopreability"
      ]
    },
    {
      "cell_type": "markdown",
      "metadata": {
        "id": "9Tf1fSzWgIcO"
      },
      "source": [
        "## NumPy array to tensor"
      ]
    },
    {
      "cell_type": "code",
      "metadata": {
        "id": "L64XoNtigUA5"
      },
      "source": [
        "# Code Here!"
      ],
      "execution_count": null,
      "outputs": []
    }
  ]
}

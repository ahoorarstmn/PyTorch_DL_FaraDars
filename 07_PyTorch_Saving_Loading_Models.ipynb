{
  "nbformat": 4,
  "nbformat_minor": 0,
  "metadata": {
    "colab": {
      "name": "Saving_Loading_Models.ipynb",
      "provenance": [],
      "collapsed_sections": [],
      "toc_visible": true,
      "authorship_tag": "ABX9TyOugBWVnb+QQlfLrm9geRDe",
      "include_colab_link": true
    },
    "kernelspec": {
      "name": "python3",
      "display_name": "Python 3"
    },
    "language_info": {
      "name": "python"
    }
  },
  "cells": [
    {
      "cell_type": "markdown",
      "metadata": {
        "id": "view-in-github",
        "colab_type": "text"
      },
      "source": [
        "<a href=\"https://colab.research.google.com/github/ArstmN/Pytorch_DL_FaraDars/blob/main/Saving_Loading_Models.ipynb\" target=\"_parent\"><img src=\"https://colab.research.google.com/assets/colab-badge.svg\" alt=\"Open In Colab\"/></a>"
      ]
    },
    {
      "cell_type": "markdown",
      "source": [
        "# **Data Preparation**"
      ],
      "metadata": {
        "id": "5ijQ-3B42rNr"
      }
    },
    {
      "cell_type": "code",
      "execution_count": null,
      "metadata": {
        "id": "814xeP1T4xZS"
      },
      "outputs": [],
      "source": [
        "import torch\n",
        "import torch.nn as nn\n",
        "import torch.optim as optim\n",
        "\n",
        "from torch.utils.data import DataLoader\n",
        "from torchvision import datasets\n",
        "from torchvision.transforms import ToTensor\n",
        "\n",
        "training_data = datasets.FashionMNIST(\n",
        "    root=\"data\",\n",
        "    train=True,\n",
        "    download=True,\n",
        "    transform=ToTensor()\n",
        ")\n",
        "\n",
        "test_data = datasets.FashionMNIST(\n",
        "    root=\"data\",\n",
        "    train=False,\n",
        "    download=True,\n",
        "    transform=ToTensor()\n",
        ")\n",
        "\n",
        "train_dataloader = DataLoader(training_data, batch_size=64, shuffle=True)\n",
        "test_dataloader = DataLoader(test_data, batch_size=64)\n",
        "\n"
      ]
    },
    {
      "cell_type": "markdown",
      "source": [
        "# **Model Implementation**"
      ],
      "metadata": {
        "id": "VVKZKdEh2_hq"
      }
    },
    {
      "cell_type": "code",
      "source": [
        "class NNModel(nn.Module):\n",
        "\n",
        "    def __init__(self):\n",
        "        super().__init__()\n",
        "        self.flatten = nn.Flatten()\n",
        "        self.sequential = nn.Sequential(\n",
        "            nn.Linear(in_features=784, out_features=64),\n",
        "            nn.ReLU(),\n",
        "            nn.Linear(in_features=64, out_features=64),\n",
        "            nn.ReLU(),\n",
        "            nn.Linear(in_features=64, out_features=10)\n",
        "        )\n",
        "\n",
        "    def forward(self, x):\n",
        "        x = self.flatten(x)\n",
        "        x = self.sequential(x)\n",
        "        return x\n",
        "\n",
        "model = NNModel()"
      ],
      "metadata": {
        "id": "qPMF8LtTLtIO"
      },
      "execution_count": null,
      "outputs": []
    },
    {
      "cell_type": "markdown",
      "source": [
        "# **Setting Loss Function**"
      ],
      "metadata": {
        "id": "5orc7vv03Yue"
      }
    },
    {
      "cell_type": "code",
      "source": [
        "# loss function = criterion\n",
        "loss_fn = nn.CrossEntropyLoss() "
      ],
      "metadata": {
        "id": "Rh_jYuWs6X9B"
      },
      "execution_count": null,
      "outputs": []
    },
    {
      "cell_type": "markdown",
      "source": [
        "# **Setting Hyperparameters**"
      ],
      "metadata": {
        "id": "X2Q1bkqc3NoK"
      }
    },
    {
      "cell_type": "code",
      "source": [
        "learning_rate = 1e-3\n",
        "batch_size = 64\n",
        "n_epochs = 3"
      ],
      "metadata": {
        "id": "dlwWzhTy59Uf"
      },
      "execution_count": null,
      "outputs": []
    },
    {
      "cell_type": "markdown",
      "source": [
        "# **Setting the Optimizer**"
      ],
      "metadata": {
        "id": "CwEK08hz3gKE"
      }
    },
    {
      "cell_type": "code",
      "source": [
        "optimizer = optim.SGD(model.parameters(), lr=learning_rate)"
      ],
      "metadata": {
        "id": "v-29Nh5h6YuO"
      },
      "execution_count": null,
      "outputs": []
    },
    {
      "cell_type": "markdown",
      "source": [
        "# **Optimization Loop**"
      ],
      "metadata": {
        "id": "TLst5E3z3pLu"
      }
    },
    {
      "cell_type": "code",
      "source": [
        "def train(dataloader, model, loss_fn, optimizer):\n",
        "    for batch, (X, y) in enumerate(dataloader):\n",
        "\n",
        "        # generate predictions\n",
        "        pred = model(X)\n",
        "\n",
        "        # calculate loss\n",
        "        loss = loss_fn(pred, y)\n",
        "\n",
        "        # reset gradients\n",
        "        optimizer.zero_grad()\n",
        "\n",
        "        # compute gradients\n",
        "        loss.backward()\n",
        "\n",
        "        # update parameters w, b\n",
        "        optimizer.step()\n",
        "\n",
        "        if batch % 100 == 0:\n",
        "            loss = loss.item()\n",
        "            current = batch * len(X)\n",
        "            print(f\"Loss: {loss:>.4f} --- [{current:>5d} out of {len(dataloader.dataset):>5d}]\")\n",
        "\n",
        "\n",
        "def test(dataloader, model, loss_fn):\n",
        "    test_loss = 0\n",
        "    correct = 0\n",
        "\n",
        "    with torch.no_grad():\n",
        "        for X, y in dataloader:\n",
        "\n",
        "            pred = model(X) \n",
        "\n",
        "            loss = loss_fn(pred, y)\n",
        "\n",
        "            test_loss += loss.item()\n",
        "            correct += (pred.argmax(dim=1) == y).type(torch.float).sum().item()\n",
        "\n",
        "        test_loss /= len(dataloader.dataset)\n",
        "        correct /= len(dataloader.dataset)\n",
        "\n",
        "        print(f\"\\nResults: Accuracy: {(100 * correct):>0.1f}%, Average Loss: {test_loss:>8f} \\n\")"
      ],
      "metadata": {
        "id": "tDKsxZp-XRkD"
      },
      "execution_count": null,
      "outputs": []
    },
    {
      "cell_type": "code",
      "source": [
        "for epoch in range(n_epochs):\n",
        "    print(f\"[Epoch {epoch+1}]\\n\")\n",
        "    train(train_dataloader, model, loss_fn, optimizer)\n",
        "    test(test_dataloader, model, loss_fn)\n",
        "print('Completed!')"
      ],
      "metadata": {
        "colab": {
          "base_uri": "https://localhost:8080/"
        },
        "id": "VIQYXZye07_y",
        "outputId": "4ec7922b-42f4-4722-d100-478a6a1655a9"
      },
      "execution_count": null,
      "outputs": [
        {
          "output_type": "stream",
          "name": "stdout",
          "text": [
            "[Epoch 1]\n",
            "\n",
            "Loss: 1.8311 --- [    0 out of 60000]\n",
            "Loss: 1.7797 --- [ 6400 out of 60000]\n",
            "Loss: 1.8021 --- [12800 out of 60000]\n",
            "Loss: 1.6734 --- [19200 out of 60000]\n",
            "Loss: 1.6928 --- [25600 out of 60000]\n",
            "Loss: 1.7037 --- [32000 out of 60000]\n",
            "Loss: 1.5829 --- [38400 out of 60000]\n",
            "Loss: 1.5051 --- [44800 out of 60000]\n",
            "Loss: 1.5416 --- [51200 out of 60000]\n",
            "Loss: 1.5011 --- [57600 out of 60000]\n",
            "\n",
            "Results: Accuracy: 56.9%, Average Loss: 0.023817 \n",
            "\n",
            "[Epoch 2]\n",
            "\n",
            "Loss: 1.4991 --- [    0 out of 60000]\n",
            "Loss: 1.4958 --- [ 6400 out of 60000]\n",
            "Loss: 1.4890 --- [12800 out of 60000]\n",
            "Loss: 1.3103 --- [19200 out of 60000]\n",
            "Loss: 1.4227 --- [25600 out of 60000]\n",
            "Loss: 1.3395 --- [32000 out of 60000]\n",
            "Loss: 1.3291 --- [38400 out of 60000]\n",
            "Loss: 1.2618 --- [44800 out of 60000]\n",
            "Loss: 1.2610 --- [51200 out of 60000]\n",
            "Loss: 1.3463 --- [57600 out of 60000]\n",
            "\n",
            "Results: Accuracy: 59.8%, Average Loss: 0.020200 \n",
            "\n",
            "[Epoch 3]\n",
            "\n",
            "Loss: 1.2217 --- [    0 out of 60000]\n",
            "Loss: 1.3074 --- [ 6400 out of 60000]\n",
            "Loss: 1.3457 --- [12800 out of 60000]\n",
            "Loss: 1.1725 --- [19200 out of 60000]\n",
            "Loss: 1.1640 --- [25600 out of 60000]\n",
            "Loss: 1.3287 --- [32000 out of 60000]\n",
            "Loss: 1.0970 --- [38400 out of 60000]\n",
            "Loss: 1.0799 --- [44800 out of 60000]\n",
            "Loss: 1.1661 --- [51200 out of 60000]\n",
            "Loss: 1.0863 --- [57600 out of 60000]\n",
            "\n",
            "Results: Accuracy: 62.5%, Average Loss: 0.017787 \n",
            "\n",
            "Completed!\n"
          ]
        }
      ]
    },
    {
      "cell_type": "markdown",
      "source": [
        "# **Model Saving and Loading**\n"
      ],
      "metadata": {
        "id": "O7noPjjP4iU4"
      }
    },
    {
      "cell_type": "markdown",
      "source": [
        "## Saving and Loading Model Weights"
      ],
      "metadata": {
        "id": "vi_t3HVkqSJa"
      }
    },
    {
      "cell_type": "code",
      "source": [
        "torch.save(model.state_dict(), \"model_weights.pth\")"
      ],
      "metadata": {
        "id": "kAYBPl3HmWfp"
      },
      "execution_count": null,
      "outputs": []
    },
    {
      "cell_type": "code",
      "source": [
        "model_1 = NNModel()\n",
        "model_1.load_state_dict(torch.load('model_weights.pth'))"
      ],
      "metadata": {
        "id": "MRCK--xSm1ie",
        "colab": {
          "base_uri": "https://localhost:8080/"
        },
        "outputId": "76c0fc44-12af-4b6a-cd01-b304609c0eff"
      },
      "execution_count": null,
      "outputs": [
        {
          "output_type": "execute_result",
          "data": {
            "text/plain": [
              "<All keys matched successfully>"
            ]
          },
          "metadata": {},
          "execution_count": 63
        }
      ]
    },
    {
      "cell_type": "markdown",
      "source": [
        "## Saving and Loading Models with Shapes"
      ],
      "metadata": {
        "id": "B9-wPst8qZTF"
      }
    },
    {
      "cell_type": "code",
      "source": [
        "torch.save(model, 'model_shapes.pth')\n",
        "\n",
        "model_2 = torch.load('model_shapes.pth')"
      ],
      "metadata": {
        "id": "PfmqI1IaRPWN"
      },
      "execution_count": null,
      "outputs": []
    },
    {
      "cell_type": "markdown",
      "source": [
        "# **Making Predictions**\n"
      ],
      "metadata": {
        "id": "wkDhJGK-m2BX"
      }
    },
    {
      "cell_type": "code",
      "source": [
        "classes = [\n",
        "    \"T-shirt/top\",\n",
        "    \"Trouser\",\n",
        "    \"Pullover\",\n",
        "    \"Dress\",\n",
        "    \"Coat\",\n",
        "    \"Sandal\",\n",
        "    \"Shirt\",\n",
        "    \"Sneaker\",\n",
        "    \"Bag\",\n",
        "    \"Ankle boot\",\n",
        "]"
      ],
      "metadata": {
        "id": "R3vGHhwGK7z9"
      },
      "execution_count": null,
      "outputs": []
    },
    {
      "cell_type": "code",
      "source": [
        "model_1.eval()\n",
        "\n",
        "x, y = test_data[2][0], test_data[2][1]\n",
        "\n",
        "with torch.no_grad():\n",
        "    pred = model_1(x)\n",
        "    predicted, actual = classes[pred[0].argmax(dim=0)], classes[y]\n",
        "    print(f'Predicted: \"{predicted}\", Actual: \"{actual}\"')"
      ],
      "metadata": {
        "colab": {
          "base_uri": "https://localhost:8080/"
        },
        "id": "Xd5thAAUO0BH",
        "outputId": "c10ce12b-3889-4801-b902-cf1a8ee9714d"
      },
      "execution_count": null,
      "outputs": [
        {
          "output_type": "stream",
          "name": "stdout",
          "text": [
            "Predicted: \"Trouser\", Actual: \"Trouser\"\n"
          ]
        }
      ]
    },
    {
      "cell_type": "code",
      "source": [
        ""
      ],
      "metadata": {
        "id": "Bhj9VOBeTK8w"
      },
      "execution_count": null,
      "outputs": []
    }
  ]
}
